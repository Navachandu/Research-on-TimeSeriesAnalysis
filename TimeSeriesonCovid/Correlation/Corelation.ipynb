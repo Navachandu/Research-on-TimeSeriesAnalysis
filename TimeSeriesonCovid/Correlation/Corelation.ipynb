{
 "cells": [
  {
   "cell_type": "code",
   "execution_count": 1,
   "id": "2a708b36",
   "metadata": {},
   "outputs": [],
   "source": [
    "import pandas as pd\n",
    "import numpy as np"
   ]
  },
  {
   "cell_type": "code",
   "execution_count": 3,
   "id": "63e6bedd",
   "metadata": {},
   "outputs": [],
   "source": [
    "df=pd.read_csv('Updated.csv')"
   ]
  },
  {
   "cell_type": "code",
   "execution_count": 16,
   "id": "135c2a90",
   "metadata": {},
   "outputs": [
    {
     "data": {
      "text/html": [
       "<div>\n",
       "<style scoped>\n",
       "    .dataframe tbody tr th:only-of-type {\n",
       "        vertical-align: middle;\n",
       "    }\n",
       "\n",
       "    .dataframe tbody tr th {\n",
       "        vertical-align: top;\n",
       "    }\n",
       "\n",
       "    .dataframe thead th {\n",
       "        text-align: right;\n",
       "    }\n",
       "</style>\n",
       "<table border=\"1\" class=\"dataframe\">\n",
       "  <thead>\n",
       "    <tr style=\"text-align: right;\">\n",
       "      <th></th>\n",
       "      <th>POPULATION</th>\n",
       "      <th>Total Active cases</th>\n",
       "    </tr>\n",
       "  </thead>\n",
       "  <tbody>\n",
       "    <tr>\n",
       "      <th>POPULATION</th>\n",
       "      <td>1.000000</td>\n",
       "      <td>0.518125</td>\n",
       "    </tr>\n",
       "    <tr>\n",
       "      <th>Total Active cases</th>\n",
       "      <td>0.518125</td>\n",
       "      <td>1.000000</td>\n",
       "    </tr>\n",
       "  </tbody>\n",
       "</table>\n",
       "</div>"
      ],
      "text/plain": [
       "                    POPULATION  Total Active cases\n",
       "POPULATION            1.000000            0.518125\n",
       "Total Active cases    0.518125            1.000000"
      ]
     },
     "execution_count": 16,
     "metadata": {},
     "output_type": "execute_result"
    }
   ],
   "source": [
    "df.corr()"
   ]
  },
  {
   "cell_type": "code",
   "execution_count": 15,
   "id": "0f3a17fc",
   "metadata": {},
   "outputs": [
    {
     "data": {
      "text/plain": [
       "0.5181253454130484"
      ]
     },
     "execution_count": 15,
     "metadata": {},
     "output_type": "execute_result"
    }
   ],
   "source": [
    "df[\"POPULATION\"].corr(df[\"Total Active cases\"])"
   ]
  },
  {
   "cell_type": "code",
   "execution_count": null,
   "id": "8e05d68d",
   "metadata": {},
   "outputs": [],
   "source": []
  }
 ],
 "metadata": {
  "kernelspec": {
   "display_name": "Python 3",
   "language": "python",
   "name": "python3"
  },
  "language_info": {
   "codemirror_mode": {
    "name": "ipython",
    "version": 3
   },
   "file_extension": ".py",
   "mimetype": "text/x-python",
   "name": "python",
   "nbconvert_exporter": "python",
   "pygments_lexer": "ipython3",
   "version": "3.8.8"
  }
 },
 "nbformat": 4,
 "nbformat_minor": 5
}
