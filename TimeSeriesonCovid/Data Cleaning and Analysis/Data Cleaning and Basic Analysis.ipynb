{
 "cells": [
  {
   "cell_type": "code",
   "execution_count": 1,
   "id": "04626646",
   "metadata": {},
   "outputs": [],
   "source": [
    "import pandas as pd\n",
    "import numpy as np"
   ]
  },
  {
   "cell_type": "markdown",
   "id": "0f8ad1d1",
   "metadata": {},
   "source": [
    "# Cleaning the Nov 2021 Dataset"
   ]
  },
  {
   "cell_type": "code",
   "execution_count": 436,
   "id": "b0bc71d4",
   "metadata": {},
   "outputs": [],
   "source": [
    "data_nov = pd.read_csv(\"flightlist_20211101_20211130.csv\")"
   ]
  },
  {
   "cell_type": "code",
   "execution_count": 437,
   "id": "18e6705a",
   "metadata": {},
   "outputs": [],
   "source": [
    "data_nov = data_nov[data_nov['origin'].notna()]"
   ]
  },
  {
   "cell_type": "code",
   "execution_count": 438,
   "id": "d4aa6424",
   "metadata": {},
   "outputs": [],
   "source": [
    "data_nov = data_nov[data_nov['destination'].notna()]"
   ]
  },
  {
   "cell_type": "markdown",
   "id": "9a1ef222",
   "metadata": {},
   "source": [
    "# Get Country codes from Airport code"
   ]
  },
  {
   "cell_type": "code",
   "execution_count": 439,
   "id": "9cd39106",
   "metadata": {},
   "outputs": [],
   "source": [
    "import airportsdata\n",
    "airports = airportsdata.load()  # key is ICAO code, the default\n",
    "origin_country = []\n",
    "dest_country = []\n",
    "for i in data_nov[\"origin\"]:\n",
    "    if i in airports:\n",
    "        origin_country.append(airports[i]['country'])\n",
    "    else:\n",
    "        origin_country.append(i)\n",
    "for i in data_nov[\"destination\"]:\n",
    "    if i in airports:\n",
    "        dest_country.append(airports[i]['country'])\n",
    "    else:\n",
    "        dest_country.append(i)"
   ]
  },
  {
   "cell_type": "markdown",
   "id": "ff05906b",
   "metadata": {},
   "source": [
    "# Cleaning dataset and Population Density Data adding country codes"
   ]
  },
  {
   "cell_type": "code",
   "execution_count": 440,
   "id": "1435f7b9",
   "metadata": {},
   "outputs": [],
   "source": [
    "data_nov[\"origin cou\"] = origin_country\n",
    "data_nov[\"dest cou\"] = dest_country"
   ]
  },
  {
   "cell_type": "code",
   "execution_count": 441,
   "id": "d6434241",
   "metadata": {},
   "outputs": [],
   "source": [
    "data_nov = data_nov.drop(data_nov[data_nov[\"origin cou\"].map(len) > 2].index)\n",
    "data_nov = data_nov.drop(data_nov[data_nov[\"dest cou\"].map(len) > 2].index)"
   ]
  },
  {
   "cell_type": "code",
   "execution_count": 442,
   "id": "362996e0",
   "metadata": {},
   "outputs": [],
   "source": [
    "data_den = pd.read_csv(\"Density.csv\")"
   ]
  },
  {
   "cell_type": "code",
   "execution_count": 443,
   "id": "2e1d1173",
   "metadata": {},
   "outputs": [],
   "source": [
    "data_den = data_den.drop(data_den[data_den[\"Country\"]==\"Macau\"].index)\n",
    "data_den = data_den.drop(data_den[data_den[\"Country\"]==\"Gaza Strip\"].index)\n",
    "data_den[\"Country\"]=data_den[\"Country\"].replace({\"Korea, South\":\"Korea\"})\n",
    "data_den = data_den.drop(data_den[data_den[\"Country\"]==\"West Bank\"].index)\n",
    "data_den = data_den.drop(data_den[data_den[\"Country\"]==\"Curacao\"].index)\n",
    "data_den[\"Country\"]=data_den[\"Country\"].replace({\"Vietnam\":\"Viet nam\"})\n",
    "data_den = data_den.drop(data_den[data_den[\"Country\"]==\"British Virgin Islands\"].index)\n",
    "data_den = data_den.drop(data_den[data_den[\"Country\"]==\"Korea, North\"].index)\n",
    "data_den[\"Country\"]=data_den[\"Country\"].replace({\"Gambia, The\":\"Gambia\"})\n",
    "data_den = data_den.drop(data_den[data_den[\"Country\"]==\"Kosovo\"].index)\n",
    "data_den = data_den.drop(data_den[data_den[\"Country\"]==\"Micronesia, Federated States of\"].index)\n",
    "data_den[\"Country\"]=data_den[\"Country\"].replace({\"Burma\":\"Myanmar\"})\n",
    "data_den = data_den.drop(data_den[data_den[\"Country\"]==\"Cote d'Ivoire\"].index)\n",
    "data_den = data_den.drop(data_den[data_den[\"Country\"]==\"Cocos (Keeling) Islands\"].index)\n",
    "data_den = data_den.drop(data_den[data_den[\"Country\"]==\"Congo, Democratic Republic of the\"].index)\n",
    "data_den = data_den.drop(data_den[data_den[\"Country\"]==\"Laos\"].index)\n",
    "data_den = data_den.drop(data_den[data_den[\"Country\"]==\"Saint Helena, Ascension, and Tristan da Cunha\"].index)\n",
    "data_den = data_den.drop(data_den[data_den[\"Country\"]==\"Bahamas, The\"].index)\n",
    "data_den = data_den.drop(data_den[data_den[\"Country\"]==\"Congo, Republic of the\"].index)\n",
    "data_den = data_den.drop(data_den[data_den[\"Country\"]==\"Pitcairn Islands\"].index)\n",
    "data_den = data_den.drop(data_den[data_den[\"Country\"]==\"Falkland Islands (Islas Malvinas)\"].index)"
   ]
  },
  {
   "cell_type": "markdown",
   "id": "baf52ba9",
   "metadata": {},
   "source": [
    "# Mapping Population density to country"
   ]
  },
  {
   "cell_type": "code",
   "execution_count": 444,
   "id": "19440dc8",
   "metadata": {},
   "outputs": [],
   "source": [
    "from world.database import Database\n",
    "\n",
    "db = Database()\n",
    "countries = []\n",
    "for i in data_den[\"Country\"]:\n",
    "    if(i==\"Ireland\"):\n",
    "        countries.append(\"IE\")\n",
    "    else:\n",
    "        countries.append(db.find_matches(i)[0][0])"
   ]
  },
  {
   "cell_type": "code",
   "execution_count": 445,
   "id": "63d42df2",
   "metadata": {},
   "outputs": [],
   "source": [
    "data_den[\"Countries\"] = countries\n",
    "data_den[\"Countries\"] = data_den['Countries'].str.upper()"
   ]
  },
  {
   "cell_type": "code",
   "execution_count": 446,
   "id": "a40f9b1c",
   "metadata": {},
   "outputs": [],
   "source": [
    "data_den[\"Countries\"]=data_den[\"Countries\"].replace({\"UM\":\"US\"})\n",
    "data_den[\"Countries\"]=data_den[\"Countries\"].replace({\"KP\":\"KR\"})"
   ]
  },
  {
   "cell_type": "code",
   "execution_count": 447,
   "id": "f5997cf5",
   "metadata": {},
   "outputs": [],
   "source": [
    "data_den.to_csv(\"den.csv\",index = False)"
   ]
  },
  {
   "cell_type": "code",
   "execution_count": 448,
   "id": "e044fc65",
   "metadata": {},
   "outputs": [],
   "source": [
    "data_den = pd.read_csv(\"den.csv\")"
   ]
  },
  {
   "cell_type": "markdown",
   "id": "0c50cc80",
   "metadata": {},
   "source": [
    "# Mapping seat capacities"
   ]
  },
  {
   "cell_type": "code",
   "execution_count": 454,
   "id": "fa4e798c",
   "metadata": {},
   "outputs": [],
   "source": [
    "data_sa = data_nov[data_nov[\"origin cou\"]==\"SA\"]\n",
    "data_sa.to_csv(\"Data SA.csv\",index=False)\n",
    "data_gb = data_nov[data_nov[\"origin cou\"]==\"GB\"]\n",
    "data_gb.to_csv(\"Data GB.csv\",index=False)"
   ]
  },
  {
   "cell_type": "code",
   "execution_count": 455,
   "id": "f51c5494",
   "metadata": {},
   "outputs": [],
   "source": [
    "def seatCapacity(data_sagb):\n",
    "    ppm = []\n",
    "    for i in data_sagb[\"dest cou\"]:\n",
    "        ppm.append(data_den[data_den[\"Countries\"]==i][\"Population Density per sq km\"].values[0])\n",
    "\n",
    "    data_sagb[\"Population Density\"] = ppm\n",
    "\n",
    "    data_sagb = data_sagb.drop(data_sagb.loc[(data_sagb['origin'] == data_sagb['destination'])].index)\n",
    "\n",
    "    data_cap = pd.read_csv(\"aircraft_Details.csv\")\n",
    "\n",
    "    data_sagb['typecode'].fillna(data_sagb['typecode'].mode()[0], inplace=True)\n",
    "\n",
    "    import math\n",
    "    capacities = []\n",
    "    for i in data_sagb[\"typecode\"]:\n",
    "        if i in list(data_cap[\"ICAO\"]):\n",
    "            cap = list(data_cap[data_cap[\"ICAO\"]==i][\"Capacity\"])\n",
    "            cap = [int(x) for x in cap if x.isnumeric()]\n",
    "            if(len(cap)>0):\n",
    "                capacities.append(cap[0])\n",
    "            else:\n",
    "                capacities.append(None)\n",
    "        else:\n",
    "            capacities.append(None)\n",
    "\n",
    "    data_sagb[\"Seats\"] = capacities\n",
    "\n",
    "    data_sagb[\"Seats\"] = data_sagb[\"Seats\"].fillna(data_sagb[\"Seats\"].mean())\n",
    "    return data_sagb"
   ]
  },
  {
   "cell_type": "code",
   "execution_count": 457,
   "id": "ffd92126",
   "metadata": {},
   "outputs": [
    {
     "name": "stderr",
     "output_type": "stream",
     "text": [
      "C:\\Users\\Aditya\\AppData\\Local\\Temp/ipykernel_14052/1798127254.py:6: SettingWithCopyWarning: \n",
      "A value is trying to be set on a copy of a slice from a DataFrame.\n",
      "Try using .loc[row_indexer,col_indexer] = value instead\n",
      "\n",
      "See the caveats in the documentation: https://pandas.pydata.org/pandas-docs/stable/user_guide/indexing.html#returning-a-view-versus-a-copy\n",
      "  data_sagb[\"Population Density\"] = ppm\n",
      "C:\\Users\\Aditya\\AppData\\Local\\Temp/ipykernel_14052/1798127254.py:6: SettingWithCopyWarning: \n",
      "A value is trying to be set on a copy of a slice from a DataFrame.\n",
      "Try using .loc[row_indexer,col_indexer] = value instead\n",
      "\n",
      "See the caveats in the documentation: https://pandas.pydata.org/pandas-docs/stable/user_guide/indexing.html#returning-a-view-versus-a-copy\n",
      "  data_sagb[\"Population Density\"] = ppm\n"
     ]
    }
   ],
   "source": [
    "data_gb = seatCapacity(data_gb)\n",
    "data_sa = seatCapacity(data_sa)"
   ]
  },
  {
   "cell_type": "code",
   "execution_count": 460,
   "id": "4b97b4a4",
   "metadata": {},
   "outputs": [],
   "source": [
    "seats = lambda x: np.sum(x)/2\n",
    "data_gb.groupby(['day', 'dest cou']).agg({'Seats':seats,'Population Density':'mean'}).reset_index().to_csv(\"Data_GB.csv\",index=False)\n",
    "data_sa.groupby(['day', 'dest cou']).agg({'Seats':seats,'Population Density':'mean'}).reset_index().to_csv(\"Data_SA.csv\",index=False)"
   ]
  },
  {
   "cell_type": "markdown",
   "id": "c5b21a6e",
   "metadata": {},
   "source": [
    "# Basic Clustering on South Africa Data"
   ]
  },
  {
   "cell_type": "code",
   "execution_count": 10,
   "id": "f08af84a",
   "metadata": {},
   "outputs": [],
   "source": [
    "data_sb = pd.read_csv(\"Data_SA.csv\")"
   ]
  },
  {
   "cell_type": "code",
   "execution_count": 11,
   "id": "aaff3864",
   "metadata": {},
   "outputs": [],
   "source": [
    "data_sb['day'] = pd.to_datetime(data_sb['day']).dt.date"
   ]
  },
  {
   "cell_type": "code",
   "execution_count": 12,
   "id": "0d7d05d1",
   "metadata": {},
   "outputs": [],
   "source": [
    "data_sb.set_index(\"day\",inplace=True)"
   ]
  },
  {
   "cell_type": "code",
   "execution_count": 13,
   "id": "a16ddb91",
   "metadata": {},
   "outputs": [],
   "source": [
    "data_sb.sort_index(inplace=True)"
   ]
  },
  {
   "cell_type": "code",
   "execution_count": 8,
   "id": "75bdb379",
   "metadata": {},
   "outputs": [
    {
     "name": "stderr",
     "output_type": "stream",
     "text": [
      "C:\\Users\\Aditya\\anaconda3\\lib\\site-packages\\tslearn\\bases\\bases.py:15: UserWarning: h5py not installed, hdf5 features will not be supported.\n",
      "Install h5py to use hdf5 features: http://docs.h5py.org/\n",
      "  warn(h5py_msg)\n"
     ]
    }
   ],
   "source": [
    "from tslearn.clustering import TimeSeriesKMeans"
   ]
  },
  {
   "cell_type": "code",
   "execution_count": 14,
   "id": "11f57dd1",
   "metadata": {},
   "outputs": [],
   "source": [
    "one_hot = pd.get_dummies(data_sb[\"dest cou\"])\n",
    "data_sa = data_sb.drop(\"dest cou\", axis=1)\n",
    "data_sa =  pd.concat([data_sa, one_hot], axis = 1)"
   ]
  },
  {
   "cell_type": "code",
   "execution_count": 15,
   "id": "c09df053",
   "metadata": {},
   "outputs": [],
   "source": [
    "from sklearn import preprocessing\n",
    "\n",
    "x = np.array(data_sa[\"Seats\"]).reshape(-1,1)\n",
    "min_max_scaler = preprocessing.MinMaxScaler()\n",
    "x_scaled = min_max_scaler.fit_transform(x)\n",
    "x_scaled = [i[0] for i in x_scaled]\n",
    "data_sa[\"Seats\"] = x_scaled\n",
    "\n",
    "\n",
    "x = np.array(data_sa[\"Population Density\"]).reshape(-1,1) #returns a numpy array\n",
    "min_max_scaler = preprocessing.MinMaxScaler()\n",
    "x_scaled = min_max_scaler.fit_transform(x)\n",
    "x_scaled = [i[0] for i in x_scaled]\n",
    "data_sa[\"Population Density\"] = x_scaled"
   ]
  },
  {
   "cell_type": "code",
   "execution_count": 16,
   "id": "dbce927b",
   "metadata": {},
   "outputs": [
    {
     "name": "stderr",
     "output_type": "stream",
     "text": [
      "Warning: loading library to link with numpy returned an error\n",
      "numpy.ndarray size changed, may indicate binary incompatibility. Expected 96 from C header, got 88 from PyObject\n",
      " 50%|█████████████████████████████████████████▌                                         | 5/10 [00:37<00:37,  7.43s/it]\n"
     ]
    }
   ],
   "source": [
    "from dtaidistance import dtw,clustering\n",
    "from dtaidistance.clustering import kmeans\n",
    "model = kmeans.KMeans(k=3)\n",
    "series = data_sa.to_numpy()\n",
    "cluster_idx, performed_it = model.fit(series)"
   ]
  },
  {
   "cell_type": "code",
   "execution_count": 17,
   "id": "2f6ee1a5",
   "metadata": {},
   "outputs": [],
   "source": [
    "clusters = [0]*len(data_sb)"
   ]
  },
  {
   "cell_type": "code",
   "execution_count": 18,
   "id": "b8eb88dc",
   "metadata": {},
   "outputs": [],
   "source": [
    "for i in cluster_idx.keys():\n",
    "    for j in cluster_idx[i]:\n",
    "        clusters[j] = i"
   ]
  },
  {
   "cell_type": "code",
   "execution_count": 19,
   "id": "3d630f1f",
   "metadata": {},
   "outputs": [
    {
     "data": {
      "text/plain": [
       "(None, array([<AxesSubplot:>, <AxesSubplot:>], dtype=object))"
      ]
     },
     "execution_count": 19,
     "metadata": {},
     "output_type": "execute_result"
    },
    {
     "data": {
      "image/png": "[encoded data removed]",
      "text/plain": [
       "<Figure size 720x720 with 2 Axes>"
      ]
     },
     "metadata": {
      "needs_background": "light"
     },
     "output_type": "display_data"
    }
   ],
   "source": [
    "import matplotlib.pyplot as plt\n",
    "fig, ax = plt.subplots(nrows=1, ncols=2, figsize=(10, 10))\n",
    "show_ts_label = lambda idx: \"ts-\" + str(idx)\n",
    "model.plot(axes=ax, show_ts_label=show_ts_label,\n",
    "           show_tr_label=True, ts_label_margin=-10,\n",
    "           ts_left_margin=10, ts_sample_length=3)"
   ]
  },
  {
   "cell_type": "code",
   "execution_count": 20,
   "id": "69ce7848",
   "metadata": {},
   "outputs": [],
   "source": [
    "data_sb[\"Clusters\"] = clusters"
   ]
  },
  {
   "cell_type": "code",
   "execution_count": 30,
   "id": "d6fbae65",
   "metadata": {},
   "outputs": [
    {
     "data": {
      "text/plain": [
       "BH    12\n",
       "SA    10\n",
       "AE     9\n",
       "DE     6\n",
       "IN     6\n",
       "GB     2\n",
       "EG     1\n",
       "QA     1\n",
       "FR     1\n",
       "Name: dest cou, dtype: int64"
      ]
     },
     "execution_count": 30,
     "metadata": {},
     "output_type": "execute_result"
    }
   ],
   "source": [
    "data_sb[data_sb[\"Clusters\"]==0][\"dest cou\"].value_counts()"
   ]
  },
  {
   "cell_type": "code",
   "execution_count": 32,
   "id": "5f05bf64",
   "metadata": {},
   "outputs": [
    {
     "data": {
      "text/plain": [
       "HK    9\n",
       "SG    5\n",
       "Name: dest cou, dtype: int64"
      ]
     },
     "execution_count": 32,
     "metadata": {},
     "output_type": "execute_result"
    }
   ],
   "source": [
    "data_sb[data_sb[\"Clusters\"]==2][\"dest cou\"].value_counts()"
   ]
  },
  {
   "cell_type": "code",
   "execution_count": 31,
   "id": "2472ba8e",
   "metadata": {},
   "outputs": [
    {
     "data": {
      "text/plain": [
       "GB    14\n",
       "DE    14\n",
       "QA    12\n",
       "AE    12\n",
       "IN    11\n",
       "NL    10\n",
       "SA     9\n",
       "US     9\n",
       "BE     9\n",
       "LB     9\n",
       "FR     9\n",
       "BD     8\n",
       "IT     8\n",
       "BH     7\n",
       "CH     7\n",
       "KR     7\n",
       "PH     6\n",
       "UA     6\n",
       "MA     4\n",
       "EG     4\n",
       "MT     4\n",
       "TR     3\n",
       "GR     3\n",
       "ES     3\n",
       "HR     2\n",
       "CA     1\n",
       "ZA     1\n",
       "PL     1\n",
       "AU     1\n",
       "CY     1\n",
       "BR     1\n",
       "CZ     1\n",
       "Name: dest cou, dtype: int64"
      ]
     },
     "execution_count": 31,
     "metadata": {},
     "output_type": "execute_result"
    }
   ],
   "source": [
    "data_sb[data_sb[\"Clusters\"]==1][\"dest cou\"].value_counts()"
   ]
  }
 ],
 "metadata": {
  "kernelspec": {
   "display_name": "Python 3 (ipykernel)",
   "language": "python",
   "name": "python3"
  },
  "language_info": {
   "codemirror_mode": {
    "name": "ipython",
    "version": 3
   },
   "file_extension": ".py",
   "mimetype": "text/x-python",
   "name": "python",
   "nbconvert_exporter": "python",
   "pygments_lexer": "ipython3",
   "version": "3.9.7"
  }
 },
 "nbformat": 4,
 "nbformat_minor": 5
}
