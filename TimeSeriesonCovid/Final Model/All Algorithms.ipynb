{
 "cells": [
  {
   "cell_type": "markdown",
   "id": "c3189f82",
   "metadata": {},
   "source": [
    "###### Step 1: Importing Libraries(Using Darts for timeseries forecasting)"
   ]
  },
  {
   "cell_type": "code",
   "execution_count": 1,
   "id": "1b6eee1c",
   "metadata": {},
   "outputs": [],
   "source": [
    "from darts import TimeSeries\n",
    "import pandas as pd"
   ]
  },
  {
   "cell_type": "markdown",
   "id": "e93bc1cb",
   "metadata": {},
   "source": [
    "###### Step 2: Importing covid cases data from covid19h (Source: John Hopkins) from 1st November and relevant data for analysis"
   ]
  },
  {
   "cell_type": "code",
   "execution_count": 2,
   "id": "786df82b",
   "metadata": {},
   "outputs": [],
   "source": [
    "# Importing data obtained from Data Acquisition Team (This data contains 40% of seating capacity)\n",
    "data = pd.read_csv('data_sa_new.csv')\n",
    "data[\"day\"] = pd.to_datetime(data.day, format='%Y-%m-%d')"
   ]
  },
  {
   "cell_type": "code",
   "execution_count": 3,
   "id": "de8ae95a",
   "metadata": {},
   "outputs": [],
   "source": [
    "countries = list(data[\"dest cou\"].unique())"
   ]
  },
  {
   "cell_type": "code",
   "execution_count": 4,
   "id": "503f603b",
   "metadata": {},
   "outputs": [
    {
     "name": "stderr",
     "output_type": "stream",
     "text": [
      "C:\\Users\\Aditya\\anaconda3\\lib\\site-packages\\covid19dh\\_cite.py:85: FutureWarning: The frame.append method is deprecated and will be removed from pandas in a future version. Use pandas.concat instead.\n",
      "  src = src.append(sources[\n",
      "C:\\Users\\Aditya\\anaconda3\\lib\\site-packages\\covid19dh\\_cite.py:96: FutureWarning: The frame.append method is deprecated and will be removed from pandas in a future version. Use pandas.concat instead.\n",
      "  references = references.append(src)\n",
      "C:\\Users\\Aditya\\anaconda3\\lib\\site-packages\\covid19dh\\_cite.py:85: FutureWarning: The frame.append method is deprecated and will be removed from pandas in a future version. Use pandas.concat instead.\n",
      "  src = src.append(sources[\n",
      "C:\\Users\\Aditya\\anaconda3\\lib\\site-packages\\covid19dh\\_cite.py:96: FutureWarning: The frame.append method is deprecated and will be removed from pandas in a future version. Use pandas.concat instead.\n",
      "  references = references.append(src)\n",
      "C:\\Users\\Aditya\\anaconda3\\lib\\site-packages\\covid19dh\\_cite.py:85: FutureWarning: The frame.append method is deprecated and will be removed from pandas in a future version. Use pandas.concat instead.\n",
      "  src = src.append(sources[\n",
      "C:\\Users\\Aditya\\anaconda3\\lib\\site-packages\\covid19dh\\_cite.py:96: FutureWarning: The frame.append method is deprecated and will be removed from pandas in a future version. Use pandas.concat instead.\n",
      "  references = references.append(src)\n",
      "C:\\Users\\Aditya\\anaconda3\\lib\\site-packages\\covid19dh\\_cite.py:85: FutureWarning: The frame.append method is deprecated and will be removed from pandas in a future version. Use pandas.concat instead.\n",
      "  src = src.append(sources[\n",
      "C:\\Users\\Aditya\\anaconda3\\lib\\site-packages\\covid19dh\\_cite.py:96: FutureWarning: The frame.append method is deprecated and will be removed from pandas in a future version. Use pandas.concat instead.\n",
      "  references = references.append(src)\n",
      "C:\\Users\\Aditya\\anaconda3\\lib\\site-packages\\covid19dh\\_cite.py:85: FutureWarning: The frame.append method is deprecated and will be removed from pandas in a future version. Use pandas.concat instead.\n",
      "  src = src.append(sources[\n",
      "C:\\Users\\Aditya\\anaconda3\\lib\\site-packages\\covid19dh\\_cite.py:96: FutureWarning: The frame.append method is deprecated and will be removed from pandas in a future version. Use pandas.concat instead.\n",
      "  references = references.append(src)\n",
      "C:\\Users\\Aditya\\anaconda3\\lib\\site-packages\\covid19dh\\_cite.py:85: FutureWarning: The frame.append method is deprecated and will be removed from pandas in a future version. Use pandas.concat instead.\n",
      "  src = src.append(sources[\n",
      "C:\\Users\\Aditya\\anaconda3\\lib\\site-packages\\covid19dh\\_cite.py:96: FutureWarning: The frame.append method is deprecated and will be removed from pandas in a future version. Use pandas.concat instead.\n",
      "  references = references.append(src)\n",
      "C:\\Users\\Aditya\\anaconda3\\lib\\site-packages\\covid19dh\\_cite.py:85: FutureWarning: The frame.append method is deprecated and will be removed from pandas in a future version. Use pandas.concat instead.\n",
      "  src = src.append(sources[\n",
      "C:\\Users\\Aditya\\anaconda3\\lib\\site-packages\\covid19dh\\_cite.py:96: FutureWarning: The frame.append method is deprecated and will be removed from pandas in a future version. Use pandas.concat instead.\n",
      "  references = references.append(src)\n",
      "C:\\Users\\Aditya\\anaconda3\\lib\\site-packages\\covid19dh\\_cite.py:85: FutureWarning: The frame.append method is deprecated and will be removed from pandas in a future version. Use pandas.concat instead.\n",
      "  src = src.append(sources[\n",
      "C:\\Users\\Aditya\\anaconda3\\lib\\site-packages\\covid19dh\\_cite.py:96: FutureWarning: The frame.append method is deprecated and will be removed from pandas in a future version. Use pandas.concat instead.\n",
      "  references = references.append(src)\n",
      "C:\\Users\\Aditya\\anaconda3\\lib\\site-packages\\covid19dh\\_cite.py:85: FutureWarning: The frame.append method is deprecated and will be removed from pandas in a future version. Use pandas.concat instead.\n",
      "  src = src.append(sources[\n",
      "C:\\Users\\Aditya\\anaconda3\\lib\\site-packages\\covid19dh\\_cite.py:96: FutureWarning: The frame.append method is deprecated and will be removed from pandas in a future version. Use pandas.concat instead.\n",
      "  references = references.append(src)\n",
      "C:\\Users\\Aditya\\anaconda3\\lib\\site-packages\\covid19dh\\_cite.py:85: FutureWarning: The frame.append method is deprecated and will be removed from pandas in a future version. Use pandas.concat instead.\n",
      "  src = src.append(sources[\n",
      "C:\\Users\\Aditya\\anaconda3\\lib\\site-packages\\covid19dh\\_cite.py:96: FutureWarning: The frame.append method is deprecated and will be removed from pandas in a future version. Use pandas.concat instead.\n",
      "  references = references.append(src)\n",
      "C:\\Users\\Aditya\\anaconda3\\lib\\site-packages\\covid19dh\\_cite.py:85: FutureWarning: The frame.append method is deprecated and will be removed from pandas in a future version. Use pandas.concat instead.\n",
      "  src = src.append(sources[\n",
      "C:\\Users\\Aditya\\anaconda3\\lib\\site-packages\\covid19dh\\_cite.py:96: FutureWarning: The frame.append method is deprecated and will be removed from pandas in a future version. Use pandas.concat instead.\n",
      "  references = references.append(src)\n",
      "C:\\Users\\Aditya\\anaconda3\\lib\\site-packages\\covid19dh\\_cite.py:85: FutureWarning: The frame.append method is deprecated and will be removed from pandas in a future version. Use pandas.concat instead.\n",
      "  src = src.append(sources[\n",
      "C:\\Users\\Aditya\\anaconda3\\lib\\site-packages\\covid19dh\\_cite.py:96: FutureWarning: The frame.append method is deprecated and will be removed from pandas in a future version. Use pandas.concat instead.\n",
      "  references = references.append(src)\n",
      "C:\\Users\\Aditya\\anaconda3\\lib\\site-packages\\covid19dh\\_cite.py:85: FutureWarning: The frame.append method is deprecated and will be removed from pandas in a future version. Use pandas.concat instead.\n",
      "  src = src.append(sources[\n",
      "C:\\Users\\Aditya\\anaconda3\\lib\\site-packages\\covid19dh\\_cite.py:96: FutureWarning: The frame.append method is deprecated and will be removed from pandas in a future version. Use pandas.concat instead.\n",
      "  references = references.append(src)\n",
      "C:\\Users\\Aditya\\anaconda3\\lib\\site-packages\\covid19dh\\_cite.py:85: FutureWarning: The frame.append method is deprecated and will be removed from pandas in a future version. Use pandas.concat instead.\n",
      "  src = src.append(sources[\n",
      "C:\\Users\\Aditya\\anaconda3\\lib\\site-packages\\covid19dh\\_cite.py:96: FutureWarning: The frame.append method is deprecated and will be removed from pandas in a future version. Use pandas.concat instead.\n",
      "  references = references.append(src)\n",
      "C:\\Users\\Aditya\\anaconda3\\lib\\site-packages\\covid19dh\\_cite.py:85: FutureWarning: The frame.append method is deprecated and will be removed from pandas in a future version. Use pandas.concat instead.\n",
      "  src = src.append(sources[\n",
      "C:\\Users\\Aditya\\anaconda3\\lib\\site-packages\\covid19dh\\_cite.py:96: FutureWarning: The frame.append method is deprecated and will be removed from pandas in a future version. Use pandas.concat instead.\n",
      "  references = references.append(src)\n",
      "C:\\Users\\Aditya\\anaconda3\\lib\\site-packages\\covid19dh\\_cite.py:85: FutureWarning: The frame.append method is deprecated and will be removed from pandas in a future version. Use pandas.concat instead.\n",
      "  src = src.append(sources[\n",
      "C:\\Users\\Aditya\\anaconda3\\lib\\site-packages\\covid19dh\\_cite.py:96: FutureWarning: The frame.append method is deprecated and will be removed from pandas in a future version. Use pandas.concat instead.\n",
      "  references = references.append(src)\n",
      "C:\\Users\\Aditya\\anaconda3\\lib\\site-packages\\covid19dh\\_cite.py:85: FutureWarning: The frame.append method is deprecated and will be removed from pandas in a future version. Use pandas.concat instead.\n",
      "  src = src.append(sources[\n",
      "C:\\Users\\Aditya\\anaconda3\\lib\\site-packages\\covid19dh\\_cite.py:96: FutureWarning: The frame.append method is deprecated and will be removed from pandas in a future version. Use pandas.concat instead.\n",
      "  references = references.append(src)\n",
      "C:\\Users\\Aditya\\anaconda3\\lib\\site-packages\\covid19dh\\_cite.py:85: FutureWarning: The frame.append method is deprecated and will be removed from pandas in a future version. Use pandas.concat instead.\n",
      "  src = src.append(sources[\n",
      "C:\\Users\\Aditya\\anaconda3\\lib\\site-packages\\covid19dh\\_cite.py:96: FutureWarning: The frame.append method is deprecated and will be removed from pandas in a future version. Use pandas.concat instead.\n",
      "  references = references.append(src)\n",
      "C:\\Users\\Aditya\\anaconda3\\lib\\site-packages\\covid19dh\\_cite.py:85: FutureWarning: The frame.append method is deprecated and will be removed from pandas in a future version. Use pandas.concat instead.\n",
      "  src = src.append(sources[\n",
      "C:\\Users\\Aditya\\anaconda3\\lib\\site-packages\\covid19dh\\_cite.py:96: FutureWarning: The frame.append method is deprecated and will be removed from pandas in a future version. Use pandas.concat instead.\n",
      "  references = references.append(src)\n",
      "C:\\Users\\Aditya\\anaconda3\\lib\\site-packages\\covid19dh\\_cite.py:85: FutureWarning: The frame.append method is deprecated and will be removed from pandas in a future version. Use pandas.concat instead.\n",
      "  src = src.append(sources[\n",
      "C:\\Users\\Aditya\\anaconda3\\lib\\site-packages\\covid19dh\\_cite.py:96: FutureWarning: The frame.append method is deprecated and will be removed from pandas in a future version. Use pandas.concat instead.\n",
      "  references = references.append(src)\n",
      "C:\\Users\\Aditya\\anaconda3\\lib\\site-packages\\covid19dh\\_cite.py:85: FutureWarning: The frame.append method is deprecated and will be removed from pandas in a future version. Use pandas.concat instead.\n",
      "  src = src.append(sources[\n",
      "C:\\Users\\Aditya\\anaconda3\\lib\\site-packages\\covid19dh\\_cite.py:96: FutureWarning: The frame.append method is deprecated and will be removed from pandas in a future version. Use pandas.concat instead.\n",
      "  references = references.append(src)\n",
      "C:\\Users\\Aditya\\anaconda3\\lib\\site-packages\\covid19dh\\_cite.py:85: FutureWarning: The frame.append method is deprecated and will be removed from pandas in a future version. Use pandas.concat instead.\n",
      "  src = src.append(sources[\n"
     ]
    },
    {
     "name": "stderr",
     "output_type": "stream",
     "text": [
      "C:\\Users\\Aditya\\anaconda3\\lib\\site-packages\\covid19dh\\_cite.py:96: FutureWarning: The frame.append method is deprecated and will be removed from pandas in a future version. Use pandas.concat instead.\n",
      "  references = references.append(src)\n",
      "C:\\Users\\Aditya\\anaconda3\\lib\\site-packages\\covid19dh\\_cite.py:85: FutureWarning: The frame.append method is deprecated and will be removed from pandas in a future version. Use pandas.concat instead.\n",
      "  src = src.append(sources[\n",
      "C:\\Users\\Aditya\\anaconda3\\lib\\site-packages\\covid19dh\\_cite.py:96: FutureWarning: The frame.append method is deprecated and will be removed from pandas in a future version. Use pandas.concat instead.\n",
      "  references = references.append(src)\n",
      "C:\\Users\\Aditya\\anaconda3\\lib\\site-packages\\covid19dh\\_cite.py:85: FutureWarning: The frame.append method is deprecated and will be removed from pandas in a future version. Use pandas.concat instead.\n",
      "  src = src.append(sources[\n",
      "C:\\Users\\Aditya\\anaconda3\\lib\\site-packages\\covid19dh\\_cite.py:96: FutureWarning: The frame.append method is deprecated and will be removed from pandas in a future version. Use pandas.concat instead.\n",
      "  references = references.append(src)\n",
      "C:\\Users\\Aditya\\anaconda3\\lib\\site-packages\\covid19dh\\_cite.py:85: FutureWarning: The frame.append method is deprecated and will be removed from pandas in a future version. Use pandas.concat instead.\n",
      "  src = src.append(sources[\n",
      "C:\\Users\\Aditya\\anaconda3\\lib\\site-packages\\covid19dh\\_cite.py:96: FutureWarning: The frame.append method is deprecated and will be removed from pandas in a future version. Use pandas.concat instead.\n",
      "  references = references.append(src)\n",
      "C:\\Users\\Aditya\\anaconda3\\lib\\site-packages\\covid19dh\\_cite.py:85: FutureWarning: The frame.append method is deprecated and will be removed from pandas in a future version. Use pandas.concat instead.\n",
      "  src = src.append(sources[\n",
      "C:\\Users\\Aditya\\anaconda3\\lib\\site-packages\\covid19dh\\_cite.py:96: FutureWarning: The frame.append method is deprecated and will be removed from pandas in a future version. Use pandas.concat instead.\n",
      "  references = references.append(src)\n",
      "C:\\Users\\Aditya\\anaconda3\\lib\\site-packages\\covid19dh\\_cite.py:85: FutureWarning: The frame.append method is deprecated and will be removed from pandas in a future version. Use pandas.concat instead.\n",
      "  src = src.append(sources[\n",
      "C:\\Users\\Aditya\\anaconda3\\lib\\site-packages\\covid19dh\\_cite.py:96: FutureWarning: The frame.append method is deprecated and will be removed from pandas in a future version. Use pandas.concat instead.\n",
      "  references = references.append(src)\n",
      "C:\\Users\\Aditya\\anaconda3\\lib\\site-packages\\covid19dh\\_cite.py:85: FutureWarning: The frame.append method is deprecated and will be removed from pandas in a future version. Use pandas.concat instead.\n",
      "  src = src.append(sources[\n",
      "C:\\Users\\Aditya\\anaconda3\\lib\\site-packages\\covid19dh\\_cite.py:96: FutureWarning: The frame.append method is deprecated and will be removed from pandas in a future version. Use pandas.concat instead.\n",
      "  references = references.append(src)\n",
      "C:\\Users\\Aditya\\anaconda3\\lib\\site-packages\\covid19dh\\_cite.py:85: FutureWarning: The frame.append method is deprecated and will be removed from pandas in a future version. Use pandas.concat instead.\n",
      "  src = src.append(sources[\n",
      "C:\\Users\\Aditya\\anaconda3\\lib\\site-packages\\covid19dh\\_cite.py:96: FutureWarning: The frame.append method is deprecated and will be removed from pandas in a future version. Use pandas.concat instead.\n",
      "  references = references.append(src)\n",
      "C:\\Users\\Aditya\\anaconda3\\lib\\site-packages\\covid19dh\\_cite.py:85: FutureWarning: The frame.append method is deprecated and will be removed from pandas in a future version. Use pandas.concat instead.\n",
      "  src = src.append(sources[\n",
      "C:\\Users\\Aditya\\anaconda3\\lib\\site-packages\\covid19dh\\_cite.py:96: FutureWarning: The frame.append method is deprecated and will be removed from pandas in a future version. Use pandas.concat instead.\n",
      "  references = references.append(src)\n",
      "C:\\Users\\Aditya\\anaconda3\\lib\\site-packages\\covid19dh\\_cite.py:85: FutureWarning: The frame.append method is deprecated and will be removed from pandas in a future version. Use pandas.concat instead.\n",
      "  src = src.append(sources[\n",
      "C:\\Users\\Aditya\\anaconda3\\lib\\site-packages\\covid19dh\\_cite.py:96: FutureWarning: The frame.append method is deprecated and will be removed from pandas in a future version. Use pandas.concat instead.\n",
      "  references = references.append(src)\n",
      "C:\\Users\\Aditya\\anaconda3\\lib\\site-packages\\covid19dh\\_cite.py:85: FutureWarning: The frame.append method is deprecated and will be removed from pandas in a future version. Use pandas.concat instead.\n",
      "  src = src.append(sources[\n",
      "C:\\Users\\Aditya\\anaconda3\\lib\\site-packages\\covid19dh\\_cite.py:96: FutureWarning: The frame.append method is deprecated and will be removed from pandas in a future version. Use pandas.concat instead.\n",
      "  references = references.append(src)\n",
      "C:\\Users\\Aditya\\anaconda3\\lib\\site-packages\\covid19dh\\_cite.py:85: FutureWarning: The frame.append method is deprecated and will be removed from pandas in a future version. Use pandas.concat instead.\n",
      "  src = src.append(sources[\n",
      "C:\\Users\\Aditya\\anaconda3\\lib\\site-packages\\covid19dh\\_cite.py:96: FutureWarning: The frame.append method is deprecated and will be removed from pandas in a future version. Use pandas.concat instead.\n",
      "  references = references.append(src)\n",
      "C:\\Users\\Aditya\\anaconda3\\lib\\site-packages\\covid19dh\\_cite.py:85: FutureWarning: The frame.append method is deprecated and will be removed from pandas in a future version. Use pandas.concat instead.\n",
      "  src = src.append(sources[\n",
      "C:\\Users\\Aditya\\anaconda3\\lib\\site-packages\\covid19dh\\_cite.py:96: FutureWarning: The frame.append method is deprecated and will be removed from pandas in a future version. Use pandas.concat instead.\n",
      "  references = references.append(src)\n",
      "C:\\Users\\Aditya\\anaconda3\\lib\\site-packages\\covid19dh\\_cite.py:85: FutureWarning: The frame.append method is deprecated and will be removed from pandas in a future version. Use pandas.concat instead.\n",
      "  src = src.append(sources[\n",
      "C:\\Users\\Aditya\\anaconda3\\lib\\site-packages\\covid19dh\\_cite.py:96: FutureWarning: The frame.append method is deprecated and will be removed from pandas in a future version. Use pandas.concat instead.\n",
      "  references = references.append(src)\n",
      "C:\\Users\\Aditya\\anaconda3\\lib\\site-packages\\covid19dh\\_cite.py:85: FutureWarning: The frame.append method is deprecated and will be removed from pandas in a future version. Use pandas.concat instead.\n",
      "  src = src.append(sources[\n",
      "C:\\Users\\Aditya\\anaconda3\\lib\\site-packages\\covid19dh\\_cite.py:96: FutureWarning: The frame.append method is deprecated and will be removed from pandas in a future version. Use pandas.concat instead.\n",
      "  references = references.append(src)\n",
      "C:\\Users\\Aditya\\anaconda3\\lib\\site-packages\\covid19dh\\_cite.py:85: FutureWarning: The frame.append method is deprecated and will be removed from pandas in a future version. Use pandas.concat instead.\n",
      "  src = src.append(sources[\n",
      "C:\\Users\\Aditya\\anaconda3\\lib\\site-packages\\covid19dh\\_cite.py:96: FutureWarning: The frame.append method is deprecated and will be removed from pandas in a future version. Use pandas.concat instead.\n",
      "  references = references.append(src)\n",
      "C:\\Users\\Aditya\\anaconda3\\lib\\site-packages\\covid19dh\\_cite.py:85: FutureWarning: The frame.append method is deprecated and will be removed from pandas in a future version. Use pandas.concat instead.\n",
      "  src = src.append(sources[\n",
      "C:\\Users\\Aditya\\anaconda3\\lib\\site-packages\\covid19dh\\_cite.py:96: FutureWarning: The frame.append method is deprecated and will be removed from pandas in a future version. Use pandas.concat instead.\n",
      "  references = references.append(src)\n",
      "C:\\Users\\Aditya\\anaconda3\\lib\\site-packages\\covid19dh\\_cite.py:85: FutureWarning: The frame.append method is deprecated and will be removed from pandas in a future version. Use pandas.concat instead.\n",
      "  src = src.append(sources[\n",
      "C:\\Users\\Aditya\\anaconda3\\lib\\site-packages\\covid19dh\\_cite.py:96: FutureWarning: The frame.append method is deprecated and will be removed from pandas in a future version. Use pandas.concat instead.\n",
      "  references = references.append(src)\n",
      "C:\\Users\\Aditya\\anaconda3\\lib\\site-packages\\covid19dh\\_cite.py:85: FutureWarning: The frame.append method is deprecated and will be removed from pandas in a future version. Use pandas.concat instead.\n",
      "  src = src.append(sources[\n",
      "C:\\Users\\Aditya\\anaconda3\\lib\\site-packages\\covid19dh\\_cite.py:96: FutureWarning: The frame.append method is deprecated and will be removed from pandas in a future version. Use pandas.concat instead.\n",
      "  references = references.append(src)\n"
     ]
    },
    {
     "name": "stderr",
     "output_type": "stream",
     "text": [
      "C:\\Users\\Aditya\\anaconda3\\lib\\site-packages\\covid19dh\\_cite.py:85: FutureWarning: The frame.append method is deprecated and will be removed from pandas in a future version. Use pandas.concat instead.\n",
      "  src = src.append(sources[\n",
      "C:\\Users\\Aditya\\anaconda3\\lib\\site-packages\\covid19dh\\_cite.py:96: FutureWarning: The frame.append method is deprecated and will be removed from pandas in a future version. Use pandas.concat instead.\n",
      "  references = references.append(src)\n",
      "C:\\Users\\Aditya\\anaconda3\\lib\\site-packages\\covid19dh\\_cite.py:85: FutureWarning: The frame.append method is deprecated and will be removed from pandas in a future version. Use pandas.concat instead.\n",
      "  src = src.append(sources[\n",
      "C:\\Users\\Aditya\\anaconda3\\lib\\site-packages\\covid19dh\\_cite.py:96: FutureWarning: The frame.append method is deprecated and will be removed from pandas in a future version. Use pandas.concat instead.\n",
      "  references = references.append(src)\n",
      "C:\\Users\\Aditya\\anaconda3\\lib\\site-packages\\covid19dh\\_cite.py:85: FutureWarning: The frame.append method is deprecated and will be removed from pandas in a future version. Use pandas.concat instead.\n",
      "  src = src.append(sources[\n",
      "C:\\Users\\Aditya\\anaconda3\\lib\\site-packages\\covid19dh\\_cite.py:96: FutureWarning: The frame.append method is deprecated and will be removed from pandas in a future version. Use pandas.concat instead.\n",
      "  references = references.append(src)\n",
      "C:\\Users\\Aditya\\anaconda3\\lib\\site-packages\\covid19dh\\_cite.py:85: FutureWarning: The frame.append method is deprecated and will be removed from pandas in a future version. Use pandas.concat instead.\n",
      "  src = src.append(sources[\n"
     ]
    },
    {
     "name": "stdout",
     "output_type": "stream",
     "text": [
      "We have invested a lot of time and effort in creating COVID-19 Data Hub, please cite the following when using it:\n",
      "\n",
      "\t\u001b[1mGuidotti, E., Ardia, D., (2020), \"COVID-19 Data Hub\", Journal of Open Source Software 5(51):2376, doi: 10.21105/joss.02376.\u001b[0m\n",
      "\n",
      "A BibTeX entry for LaTeX users is\n",
      "\n",
      "\t@Article{,\n",
      "\t\ttitle = {COVID-19 Data Hub},\n",
      "\t\tyear = {2020},\n",
      "\t\tdoi = {10.21105/joss.02376},\n",
      "\t\tauthor = {Emanuele Guidotti and David Ardia},\n",
      "\t\tjournal = {Journal of Open Source Software},\n",
      "\t\tvolume = {5},\n",
      "\t\tnumber = {51},\n",
      "\t\tpages = {2376},\n",
      "\t}\n",
      "\n",
      "\u001b[33mTo hide this message use 'verbose = False'.\u001b[0m\n"
     ]
    },
    {
     "name": "stderr",
     "output_type": "stream",
     "text": [
      "C:\\Users\\Aditya\\anaconda3\\lib\\site-packages\\covid19dh\\_cite.py:96: FutureWarning: The frame.append method is deprecated and will be removed from pandas in a future version. Use pandas.concat instead.\n",
      "  references = references.append(src)\n",
      "C:\\Users\\Aditya\\anaconda3\\lib\\site-packages\\covid19dh\\_cite.py:85: FutureWarning: The frame.append method is deprecated and will be removed from pandas in a future version. Use pandas.concat instead.\n",
      "  src = src.append(sources[\n",
      "C:\\Users\\Aditya\\anaconda3\\lib\\site-packages\\covid19dh\\_cite.py:96: FutureWarning: The frame.append method is deprecated and will be removed from pandas in a future version. Use pandas.concat instead.\n",
      "  references = references.append(src)\n"
     ]
    }
   ],
   "source": [
    "from datetime import datetime\n",
    "from covid19dh import covid19\n",
    "x, src = covid19(countries, start = datetime(2021,11,1), end = \"2022-03-04\")\n",
    "x[\"date\"] = pd.to_datetime(x['date']).dt.date"
   ]
  },
  {
   "cell_type": "markdown",
   "id": "fbd2ac03",
   "metadata": {},
   "source": [
    "###### Step3: Data Preparation for Analysis"
   ]
  },
  {
   "cell_type": "code",
   "execution_count": 5,
   "id": "c8040bd4",
   "metadata": {},
   "outputs": [],
   "source": [
    "# Divinding data based on the country\n",
    "import numpy as np\n",
    "countries=list(data[\"Countries\"].unique())\n",
    "countries_data=[data.loc[data[\"Countries\"] == i] for i in countries]\n",
    "start, end = list(countries_data[0].day)[0],list(countries_data[0].day)[-1]\n",
    "dt_ran = pd.date_range(start=start,end=end,freq=\"D\")\n",
    "t_index=pd.DatetimeIndex(dt_ran)\n",
    "countries_data = [i.set_index(\"day\").reindex(t_index).fillna(0).reset_index() for i in countries_data]\n",
    "for i in countries_data:\n",
    "    pop_d = [i for i in list(i['Population Density'].unique()) if i!=0]\n",
    "    dest_cnt = [i for i in list(i['dest cou'].unique()) if i!=0]\n",
    "    i['Population Density'] = i['Population Density'].replace(0,pop_d[0]).values\n",
    "    i['dest cou'] = i['dest cou'].replace(0,dest_cnt[0]).values\n",
    "    i['Seats'] = i['Seats'].cumsum()"
   ]
  },
  {
   "cell_type": "code",
   "execution_count": 6,
   "id": "c64a6dc2",
   "metadata": {},
   "outputs": [
    {
     "name": "stderr",
     "output_type": "stream",
     "text": [
      "C:\\Users\\Aditya\\anaconda3\\lib\\site-packages\\pandas\\core\\ops\\array_ops.py:73: FutureWarning: Comparison of Timestamp with datetime.date is deprecated in order to match the standard library behavior. In a future version these will be considered non-comparable. Use 'ts == pd.Timestamp(date)' or 'ts.date() == date' instead.\n",
      "  result = libops.scalar_compare(x.ravel(), y, op)\n",
      "C:\\Users\\Aditya\\anaconda3\\lib\\site-packages\\pandas\\core\\ops\\array_ops.py:73: FutureWarning: Comparison of Timestamp with datetime.date is deprecated in order to match the standard library behavior. In a future version these will be considered non-comparable. Use 'ts == pd.Timestamp(date)' or 'ts.date() == date' instead.\n",
      "  result = libops.scalar_compare(x.ravel(), y, op)\n",
      "C:\\Users\\Aditya\\anaconda3\\lib\\site-packages\\pandas\\core\\ops\\array_ops.py:73: FutureWarning: Comparison of Timestamp with datetime.date is deprecated in order to match the standard library behavior. In a future version these will be considered non-comparable. Use 'ts == pd.Timestamp(date)' or 'ts.date() == date' instead.\n",
      "  result = libops.scalar_compare(x.ravel(), y, op)\n",
      "C:\\Users\\Aditya\\anaconda3\\lib\\site-packages\\pandas\\core\\ops\\array_ops.py:73: FutureWarning: Comparison of Timestamp with datetime.date is deprecated in order to match the standard library behavior. In a future version these will be considered non-comparable. Use 'ts == pd.Timestamp(date)' or 'ts.date() == date' instead.\n",
      "  result = libops.scalar_compare(x.ravel(), y, op)\n",
      "C:\\Users\\Aditya\\anaconda3\\lib\\site-packages\\pandas\\core\\ops\\array_ops.py:73: FutureWarning: Comparison of Timestamp with datetime.date is deprecated in order to match the standard library behavior. In a future version these will be considered non-comparable. Use 'ts == pd.Timestamp(date)' or 'ts.date() == date' instead.\n",
      "  result = libops.scalar_compare(x.ravel(), y, op)\n",
      "C:\\Users\\Aditya\\anaconda3\\lib\\site-packages\\pandas\\core\\ops\\array_ops.py:73: FutureWarning: Comparison of Timestamp with datetime.date is deprecated in order to match the standard library behavior. In a future version these will be considered non-comparable. Use 'ts == pd.Timestamp(date)' or 'ts.date() == date' instead.\n",
      "  result = libops.scalar_compare(x.ravel(), y, op)\n",
      "C:\\Users\\Aditya\\anaconda3\\lib\\site-packages\\pandas\\core\\ops\\array_ops.py:73: FutureWarning: Comparison of Timestamp with datetime.date is deprecated in order to match the standard library behavior. In a future version these will be considered non-comparable. Use 'ts == pd.Timestamp(date)' or 'ts.date() == date' instead.\n",
      "  result = libops.scalar_compare(x.ravel(), y, op)\n",
      "C:\\Users\\Aditya\\anaconda3\\lib\\site-packages\\pandas\\core\\ops\\array_ops.py:73: FutureWarning: Comparison of Timestamp with datetime.date is deprecated in order to match the standard library behavior. In a future version these will be considered non-comparable. Use 'ts == pd.Timestamp(date)' or 'ts.date() == date' instead.\n",
      "  result = libops.scalar_compare(x.ravel(), y, op)\n",
      "C:\\Users\\Aditya\\anaconda3\\lib\\site-packages\\pandas\\core\\ops\\array_ops.py:73: FutureWarning: Comparison of Timestamp with datetime.date is deprecated in order to match the standard library behavior. In a future version these will be considered non-comparable. Use 'ts == pd.Timestamp(date)' or 'ts.date() == date' instead.\n",
      "  result = libops.scalar_compare(x.ravel(), y, op)\n",
      "C:\\Users\\Aditya\\anaconda3\\lib\\site-packages\\pandas\\core\\ops\\array_ops.py:73: FutureWarning: Comparison of Timestamp with datetime.date is deprecated in order to match the standard library behavior. In a future version these will be considered non-comparable. Use 'ts == pd.Timestamp(date)' or 'ts.date() == date' instead.\n",
      "  result = libops.scalar_compare(x.ravel(), y, op)\n",
      "C:\\Users\\Aditya\\anaconda3\\lib\\site-packages\\pandas\\core\\ops\\array_ops.py:73: FutureWarning: Comparison of Timestamp with datetime.date is deprecated in order to match the standard library behavior. In a future version these will be considered non-comparable. Use 'ts == pd.Timestamp(date)' or 'ts.date() == date' instead.\n",
      "  result = libops.scalar_compare(x.ravel(), y, op)\n",
      "C:\\Users\\Aditya\\anaconda3\\lib\\site-packages\\pandas\\core\\ops\\array_ops.py:73: FutureWarning: Comparison of Timestamp with datetime.date is deprecated in order to match the standard library behavior. In a future version these will be considered non-comparable. Use 'ts == pd.Timestamp(date)' or 'ts.date() == date' instead.\n",
      "  result = libops.scalar_compare(x.ravel(), y, op)\n",
      "C:\\Users\\Aditya\\anaconda3\\lib\\site-packages\\pandas\\core\\ops\\array_ops.py:73: FutureWarning: Comparison of Timestamp with datetime.date is deprecated in order to match the standard library behavior. In a future version these will be considered non-comparable. Use 'ts == pd.Timestamp(date)' or 'ts.date() == date' instead.\n",
      "  result = libops.scalar_compare(x.ravel(), y, op)\n",
      "C:\\Users\\Aditya\\anaconda3\\lib\\site-packages\\pandas\\core\\ops\\array_ops.py:73: FutureWarning: Comparison of Timestamp with datetime.date is deprecated in order to match the standard library behavior. In a future version these will be considered non-comparable. Use 'ts == pd.Timestamp(date)' or 'ts.date() == date' instead.\n",
      "  result = libops.scalar_compare(x.ravel(), y, op)\n",
      "C:\\Users\\Aditya\\anaconda3\\lib\\site-packages\\pandas\\core\\ops\\array_ops.py:73: FutureWarning: Comparison of Timestamp with datetime.date is deprecated in order to match the standard library behavior. In a future version these will be considered non-comparable. Use 'ts == pd.Timestamp(date)' or 'ts.date() == date' instead.\n",
      "  result = libops.scalar_compare(x.ravel(), y, op)\n",
      "C:\\Users\\Aditya\\anaconda3\\lib\\site-packages\\pandas\\core\\ops\\array_ops.py:73: FutureWarning: Comparison of Timestamp with datetime.date is deprecated in order to match the standard library behavior. In a future version these will be considered non-comparable. Use 'ts == pd.Timestamp(date)' or 'ts.date() == date' instead.\n",
      "  result = libops.scalar_compare(x.ravel(), y, op)\n",
      "C:\\Users\\Aditya\\anaconda3\\lib\\site-packages\\pandas\\core\\ops\\array_ops.py:73: FutureWarning: Comparison of Timestamp with datetime.date is deprecated in order to match the standard library behavior. In a future version these will be considered non-comparable. Use 'ts == pd.Timestamp(date)' or 'ts.date() == date' instead.\n",
      "  result = libops.scalar_compare(x.ravel(), y, op)\n",
      "C:\\Users\\Aditya\\anaconda3\\lib\\site-packages\\pandas\\core\\ops\\array_ops.py:73: FutureWarning: Comparison of Timestamp with datetime.date is deprecated in order to match the standard library behavior. In a future version these will be considered non-comparable. Use 'ts == pd.Timestamp(date)' or 'ts.date() == date' instead.\n",
      "  result = libops.scalar_compare(x.ravel(), y, op)\n",
      "C:\\Users\\Aditya\\anaconda3\\lib\\site-packages\\pandas\\core\\ops\\array_ops.py:73: FutureWarning: Comparison of Timestamp with datetime.date is deprecated in order to match the standard library behavior. In a future version these will be considered non-comparable. Use 'ts == pd.Timestamp(date)' or 'ts.date() == date' instead.\n",
      "  result = libops.scalar_compare(x.ravel(), y, op)\n",
      "C:\\Users\\Aditya\\anaconda3\\lib\\site-packages\\pandas\\core\\ops\\array_ops.py:73: FutureWarning: Comparison of Timestamp with datetime.date is deprecated in order to match the standard library behavior. In a future version these will be considered non-comparable. Use 'ts == pd.Timestamp(date)' or 'ts.date() == date' instead.\n",
      "  result = libops.scalar_compare(x.ravel(), y, op)\n",
      "C:\\Users\\Aditya\\anaconda3\\lib\\site-packages\\pandas\\core\\ops\\array_ops.py:73: FutureWarning: Comparison of Timestamp with datetime.date is deprecated in order to match the standard library behavior. In a future version these will be considered non-comparable. Use 'ts == pd.Timestamp(date)' or 'ts.date() == date' instead.\n",
      "  result = libops.scalar_compare(x.ravel(), y, op)\n",
      "C:\\Users\\Aditya\\anaconda3\\lib\\site-packages\\pandas\\core\\ops\\array_ops.py:73: FutureWarning: Comparison of Timestamp with datetime.date is deprecated in order to match the standard library behavior. In a future version these will be considered non-comparable. Use 'ts == pd.Timestamp(date)' or 'ts.date() == date' instead.\n",
      "  result = libops.scalar_compare(x.ravel(), y, op)\n"
     ]
    },
    {
     "name": "stderr",
     "output_type": "stream",
     "text": [
      "C:\\Users\\Aditya\\anaconda3\\lib\\site-packages\\pandas\\core\\ops\\array_ops.py:73: FutureWarning: Comparison of Timestamp with datetime.date is deprecated in order to match the standard library behavior. In a future version these will be considered non-comparable. Use 'ts == pd.Timestamp(date)' or 'ts.date() == date' instead.\n",
      "  result = libops.scalar_compare(x.ravel(), y, op)\n",
      "C:\\Users\\Aditya\\anaconda3\\lib\\site-packages\\pandas\\core\\ops\\array_ops.py:73: FutureWarning: Comparison of Timestamp with datetime.date is deprecated in order to match the standard library behavior. In a future version these will be considered non-comparable. Use 'ts == pd.Timestamp(date)' or 'ts.date() == date' instead.\n",
      "  result = libops.scalar_compare(x.ravel(), y, op)\n",
      "C:\\Users\\Aditya\\anaconda3\\lib\\site-packages\\pandas\\core\\ops\\array_ops.py:73: FutureWarning: Comparison of Timestamp with datetime.date is deprecated in order to match the standard library behavior. In a future version these will be considered non-comparable. Use 'ts == pd.Timestamp(date)' or 'ts.date() == date' instead.\n",
      "  result = libops.scalar_compare(x.ravel(), y, op)\n",
      "C:\\Users\\Aditya\\anaconda3\\lib\\site-packages\\pandas\\core\\ops\\array_ops.py:73: FutureWarning: Comparison of Timestamp with datetime.date is deprecated in order to match the standard library behavior. In a future version these will be considered non-comparable. Use 'ts == pd.Timestamp(date)' or 'ts.date() == date' instead.\n",
      "  result = libops.scalar_compare(x.ravel(), y, op)\n",
      "C:\\Users\\Aditya\\anaconda3\\lib\\site-packages\\pandas\\core\\ops\\array_ops.py:73: FutureWarning: Comparison of Timestamp with datetime.date is deprecated in order to match the standard library behavior. In a future version these will be considered non-comparable. Use 'ts == pd.Timestamp(date)' or 'ts.date() == date' instead.\n",
      "  result = libops.scalar_compare(x.ravel(), y, op)\n",
      "C:\\Users\\Aditya\\anaconda3\\lib\\site-packages\\pandas\\core\\ops\\array_ops.py:73: FutureWarning: Comparison of Timestamp with datetime.date is deprecated in order to match the standard library behavior. In a future version these will be considered non-comparable. Use 'ts == pd.Timestamp(date)' or 'ts.date() == date' instead.\n",
      "  result = libops.scalar_compare(x.ravel(), y, op)\n",
      "C:\\Users\\Aditya\\anaconda3\\lib\\site-packages\\pandas\\core\\ops\\array_ops.py:73: FutureWarning: Comparison of Timestamp with datetime.date is deprecated in order to match the standard library behavior. In a future version these will be considered non-comparable. Use 'ts == pd.Timestamp(date)' or 'ts.date() == date' instead.\n",
      "  result = libops.scalar_compare(x.ravel(), y, op)\n",
      "C:\\Users\\Aditya\\anaconda3\\lib\\site-packages\\pandas\\core\\ops\\array_ops.py:73: FutureWarning: Comparison of Timestamp with datetime.date is deprecated in order to match the standard library behavior. In a future version these will be considered non-comparable. Use 'ts == pd.Timestamp(date)' or 'ts.date() == date' instead.\n",
      "  result = libops.scalar_compare(x.ravel(), y, op)\n",
      "C:\\Users\\Aditya\\anaconda3\\lib\\site-packages\\pandas\\core\\ops\\array_ops.py:73: FutureWarning: Comparison of Timestamp with datetime.date is deprecated in order to match the standard library behavior. In a future version these will be considered non-comparable. Use 'ts == pd.Timestamp(date)' or 'ts.date() == date' instead.\n",
      "  result = libops.scalar_compare(x.ravel(), y, op)\n",
      "C:\\Users\\Aditya\\anaconda3\\lib\\site-packages\\pandas\\core\\ops\\array_ops.py:73: FutureWarning: Comparison of Timestamp with datetime.date is deprecated in order to match the standard library behavior. In a future version these will be considered non-comparable. Use 'ts == pd.Timestamp(date)' or 'ts.date() == date' instead.\n",
      "  result = libops.scalar_compare(x.ravel(), y, op)\n",
      "C:\\Users\\Aditya\\anaconda3\\lib\\site-packages\\pandas\\core\\ops\\array_ops.py:73: FutureWarning: Comparison of Timestamp with datetime.date is deprecated in order to match the standard library behavior. In a future version these will be considered non-comparable. Use 'ts == pd.Timestamp(date)' or 'ts.date() == date' instead.\n",
      "  result = libops.scalar_compare(x.ravel(), y, op)\n",
      "C:\\Users\\Aditya\\anaconda3\\lib\\site-packages\\pandas\\core\\ops\\array_ops.py:73: FutureWarning: Comparison of Timestamp with datetime.date is deprecated in order to match the standard library behavior. In a future version these will be considered non-comparable. Use 'ts == pd.Timestamp(date)' or 'ts.date() == date' instead.\n",
      "  result = libops.scalar_compare(x.ravel(), y, op)\n",
      "C:\\Users\\Aditya\\anaconda3\\lib\\site-packages\\pandas\\core\\ops\\array_ops.py:73: FutureWarning: Comparison of Timestamp with datetime.date is deprecated in order to match the standard library behavior. In a future version these will be considered non-comparable. Use 'ts == pd.Timestamp(date)' or 'ts.date() == date' instead.\n",
      "  result = libops.scalar_compare(x.ravel(), y, op)\n",
      "C:\\Users\\Aditya\\anaconda3\\lib\\site-packages\\pandas\\core\\ops\\array_ops.py:73: FutureWarning: Comparison of Timestamp with datetime.date is deprecated in order to match the standard library behavior. In a future version these will be considered non-comparable. Use 'ts == pd.Timestamp(date)' or 'ts.date() == date' instead.\n",
      "  result = libops.scalar_compare(x.ravel(), y, op)\n",
      "C:\\Users\\Aditya\\anaconda3\\lib\\site-packages\\pandas\\core\\ops\\array_ops.py:73: FutureWarning: Comparison of Timestamp with datetime.date is deprecated in order to match the standard library behavior. In a future version these will be considered non-comparable. Use 'ts == pd.Timestamp(date)' or 'ts.date() == date' instead.\n",
      "  result = libops.scalar_compare(x.ravel(), y, op)\n",
      "C:\\Users\\Aditya\\anaconda3\\lib\\site-packages\\pandas\\core\\ops\\array_ops.py:73: FutureWarning: Comparison of Timestamp with datetime.date is deprecated in order to match the standard library behavior. In a future version these will be considered non-comparable. Use 'ts == pd.Timestamp(date)' or 'ts.date() == date' instead.\n",
      "  result = libops.scalar_compare(x.ravel(), y, op)\n",
      "C:\\Users\\Aditya\\anaconda3\\lib\\site-packages\\pandas\\core\\ops\\array_ops.py:73: FutureWarning: Comparison of Timestamp with datetime.date is deprecated in order to match the standard library behavior. In a future version these will be considered non-comparable. Use 'ts == pd.Timestamp(date)' or 'ts.date() == date' instead.\n",
      "  result = libops.scalar_compare(x.ravel(), y, op)\n",
      "C:\\Users\\Aditya\\anaconda3\\lib\\site-packages\\pandas\\core\\ops\\array_ops.py:73: FutureWarning: Comparison of Timestamp with datetime.date is deprecated in order to match the standard library behavior. In a future version these will be considered non-comparable. Use 'ts == pd.Timestamp(date)' or 'ts.date() == date' instead.\n",
      "  result = libops.scalar_compare(x.ravel(), y, op)\n",
      "C:\\Users\\Aditya\\anaconda3\\lib\\site-packages\\pandas\\core\\ops\\array_ops.py:73: FutureWarning: Comparison of Timestamp with datetime.date is deprecated in order to match the standard library behavior. In a future version these will be considered non-comparable. Use 'ts == pd.Timestamp(date)' or 'ts.date() == date' instead.\n",
      "  result = libops.scalar_compare(x.ravel(), y, op)\n",
      "C:\\Users\\Aditya\\anaconda3\\lib\\site-packages\\pandas\\core\\ops\\array_ops.py:73: FutureWarning: Comparison of Timestamp with datetime.date is deprecated in order to match the standard library behavior. In a future version these will be considered non-comparable. Use 'ts == pd.Timestamp(date)' or 'ts.date() == date' instead.\n",
      "  result = libops.scalar_compare(x.ravel(), y, op)\n",
      "C:\\Users\\Aditya\\anaconda3\\lib\\site-packages\\pandas\\core\\ops\\array_ops.py:73: FutureWarning: Comparison of Timestamp with datetime.date is deprecated in order to match the standard library behavior. In a future version these will be considered non-comparable. Use 'ts == pd.Timestamp(date)' or 'ts.date() == date' instead.\n",
      "  result = libops.scalar_compare(x.ravel(), y, op)\n",
      "C:\\Users\\Aditya\\anaconda3\\lib\\site-packages\\pandas\\core\\ops\\array_ops.py:73: FutureWarning: Comparison of Timestamp with datetime.date is deprecated in order to match the standard library behavior. In a future version these will be considered non-comparable. Use 'ts == pd.Timestamp(date)' or 'ts.date() == date' instead.\n",
      "  result = libops.scalar_compare(x.ravel(), y, op)\n"
     ]
    },
    {
     "name": "stderr",
     "output_type": "stream",
     "text": [
      "C:\\Users\\Aditya\\anaconda3\\lib\\site-packages\\pandas\\core\\ops\\array_ops.py:73: FutureWarning: Comparison of Timestamp with datetime.date is deprecated in order to match the standard library behavior. In a future version these will be considered non-comparable. Use 'ts == pd.Timestamp(date)' or 'ts.date() == date' instead.\n",
      "  result = libops.scalar_compare(x.ravel(), y, op)\n"
     ]
    }
   ],
   "source": [
    "# Mapping covid cases to each country\n",
    "import datetime\n",
    "for cnt in countries_data:\n",
    "    cases=[]\n",
    "    population = []\n",
    "    for index,i in list(cnt.iterrows()):\n",
    "        start = i[\"index\"]+datetime.timedelta(days=2)\n",
    "        end = i[\"index\"]+datetime.timedelta(days=1)\n",
    "        y = x[x[\"iso_alpha_2\"]==i[\"dest cou\"]]\n",
    "        date_range = y[(y[\"date\"]>=end) & (y[\"date\"]<=start)]\n",
    "        confirmed = list(date_range[\"confirmed\"])\n",
    "        if(len(confirmed)>1):\n",
    "            cases.append(confirmed[1]-confirmed[0])\n",
    "        else:\n",
    "            cases.append(cases[-1])\n",
    "        population.append(list(y[\"population\"])[0])\n",
    "    cnt[\"cases\"] = cases\n",
    "    cnt[\"Population\"] = population"
   ]
  },
  {
   "cell_type": "code",
   "execution_count": 7,
   "id": "3a45eb70",
   "metadata": {},
   "outputs": [],
   "source": [
    "data = pd.concat(countries_data)"
   ]
  },
  {
   "cell_type": "markdown",
   "id": "834d2ed9",
   "metadata": {},
   "source": [
    "###### Step4: Conversion to time series"
   ]
  },
  {
   "cell_type": "code",
   "execution_count": 8,
   "id": "ab83963b",
   "metadata": {},
   "outputs": [],
   "source": [
    "series_main = [TimeSeries.from_dataframe(i, 'index', ['cases',\"Seats\"],fill_missing_dates=False, freq='D') for i in countries_data]"
   ]
  },
  {
   "cell_type": "markdown",
   "id": "8ddddbc0",
   "metadata": {},
   "source": [
    "###### Step5:  Standardization of Data"
   ]
  },
  {
   "cell_type": "code",
   "execution_count": 9,
   "id": "67dda1a5",
   "metadata": {},
   "outputs": [],
   "source": [
    "from darts.dataprocessing.transformers import Scaler\n",
    "from sklearn.preprocessing import MinMaxScaler\n",
    "scaler = MinMaxScaler()\n",
    "scaler_cases = [Scaler(scaler) for i in series_main]\n",
    "scaler_seats = [Scaler(scaler) for i in series_main]\n",
    "series_cases =  [y.fit_transform(i[\"cases\"]) for y,i in zip(scaler_cases,series_main)]\n",
    "series_seats =  [y.fit_transform(i[\"Seats\"]) for y,i in zip(scaler_seats,series_main)]"
   ]
  },
  {
   "cell_type": "code",
   "execution_count": 10,
   "id": "929a36ad",
   "metadata": {},
   "outputs": [],
   "source": [
    "series = [i.concatenate(j,axis=\"component\") for i, j in zip(series_cases,series_seats)]"
   ]
  },
  {
   "cell_type": "markdown",
   "id": "47e9b6e9",
   "metadata": {},
   "source": [
    "###### Step6: Applying Algorithms on data"
   ]
  },
  {
   "cell_type": "markdown",
   "id": "04b964e7",
   "metadata": {},
   "source": [
    "###### Step6.1: LSTM"
   ]
  },
  {
   "cell_type": "code",
   "execution_count": 42,
   "id": "7f43135d",
   "metadata": {},
   "outputs": [
    {
     "name": "stderr",
     "output_type": "stream",
     "text": [
      "2022-08-26 19:58:21 pytorch_lightning.utilities.rank_zero INFO: GPU available: False, used: False\n",
      "2022-08-26 19:58:21 pytorch_lightning.utilities.rank_zero INFO: TPU available: False, using: 0 TPU cores\n",
      "2022-08-26 19:58:21 pytorch_lightning.utilities.rank_zero INFO: IPU available: False, using: 0 IPUs\n",
      "2022-08-26 19:58:21 pytorch_lightning.utilities.rank_zero INFO: HPU available: False, using: 0 HPUs\n",
      "2022-08-26 19:58:21 pytorch_lightning.callbacks.model_summary INFO: \n",
      "  | Name          | Type             | Params\n",
      "---------------------------------------------------\n",
      "0 | criterion     | MSELoss          | 0     \n",
      "1 | train_metrics | MetricCollection | 0     \n",
      "2 | val_metrics   | MetricCollection | 0     \n",
      "3 | rnn           | LSTM             | 2.9 K \n",
      "4 | fc            | Sequential       | 1.0 K \n",
      "---------------------------------------------------\n",
      "3.9 K     Trainable params\n",
      "0         Non-trainable params\n",
      "3.9 K     Total params\n",
      "0.032     Total estimated model params size (MB)\n"
     ]
    },
    {
     "data": {
      "application/vnd.jupyter.widget-view+json": {
       "model_id": "41a349755c25484a9a355c04e5665c3c",
       "version_major": 2,
       "version_minor": 0
      },
      "text/plain": [
       "Training: 0it [00:00, ?it/s]"
      ]
     },
     "metadata": {},
     "output_type": "display_data"
    },
    {
     "name": "stderr",
     "output_type": "stream",
     "text": [
      "2022-08-26 20:00:14 pytorch_lightning.utilities.rank_zero INFO: `Trainer.fit` stopped: `max_epochs=100` reached.\n"
     ]
    },
    {
     "data": {
      "text/plain": [
       "<darts.models.forecasting.block_rnn_model.BlockRNNModel at 0x1df805a3550>"
      ]
     },
     "execution_count": 42,
     "metadata": {},
     "output_type": "execute_result"
    }
   ],
   "source": [
    "from darts.models import BlockRNNModel\n",
    "# Model takes minimum 10 days and forecasts maximum 20 days of future data\n",
    "model = BlockRNNModel(input_chunk_length =10,output_chunk_length=20,model=\"LSTM\")\n",
    "model.fit([i[0:53] for i in series])"
   ]
  },
  {
   "cell_type": "markdown",
   "id": "0ae2f708",
   "metadata": {},
   "source": [
    "###### Step6.1.1: Inverse Standardization"
   ]
  },
  {
   "cell_type": "code",
   "execution_count": null,
   "id": "0d4e69e6",
   "metadata": {},
   "outputs": [],
   "source": [
    "pred = model.predict(n=10,series=series[4][53:63])\n",
    "\n",
    "inverse_series_cases = [scaler_cases[index].inverse_transform(i[\"cases\"][:94]) for index,i in enumerate(series)]\n",
    "inverse_series_seats = [scaler_seats[index].inverse_transform(i[\"Seats\"][:94]) for index,i in enumerate(series)]\n",
    "inverse_pred_cases = scaler_cases[4].inverse_transform(pred[\"cases\"])\n",
    "inverse_pred_seats = scaler_seats[4].inverse_transform(pred[\"Seats\"])\n"
   ]
  },
  {
   "cell_type": "code",
   "execution_count": null,
   "id": "0aa82e9b",
   "metadata": {},
   "outputs": [],
   "source": [
    "# Plotting actual against forecast for a random country\n",
    "import matplotlib.pyplot as plt\n",
    "inverse_series_cases[4][53:73][\"cases\"].plot(label=\"actual\")\n",
    "inverse_pred_cases.plot(label=\"forecast\")"
   ]
  },
  {
   "cell_type": "markdown",
   "id": "3e4b45b2",
   "metadata": {},
   "source": [
    "###### Step6.1.2: Calculating error percentage ((actual-forecast)*100/actual)"
   ]
  },
  {
   "cell_type": "code",
   "execution_count": null,
   "id": "062fe9cc",
   "metadata": {},
   "outputs": [],
   "source": [
    "forecast_data = []\n",
    "mape_nos = []\n",
    "inverse_series_cases = [scaler_cases[index].inverse_transform(i[\"cases\"][:94]) for index,i in enumerate(series)]\n",
    "for index,i in enumerate(countries):\n",
    "    pred = model.predict(n=11,series=series[index][53:73])\n",
    "    inverse_pred_cases = scaler_cases[index].inverse_transform(pred[\"cases\"])\n",
    "    print(i)\n",
    "    print(\"MAE for cases = {:.2f}\".format(mae(inverse_series_cases[index],inverse_pred_cases)))\n",
    "    mae_no = mae(inverse_series_cases[index],inverse_pred_cases)\n",
    "    mape_no = mae_no/(int(inverse_series_cases[index].pd_dataframe().max())+1)*100\n",
    "    mape_nos.append(mape_no)\n",
    "    print(inverse_series_cases[index].pd_dataframe().max())\n",
    "    forecast_df = inverse_pred_cases.pd_dataframe().reset_index()\n",
    "    forecast_df[\"Country\"] = i \n",
    "    forecast_data.append(forecast_df)"
   ]
  },
  {
   "cell_type": "markdown",
   "id": "42f5ce86",
   "metadata": {},
   "source": [
    "###### Step6.1.3: Plotting the errors of country as bar plots"
   ]
  },
  {
   "cell_type": "code",
   "execution_count": null,
   "id": "0a382da3",
   "metadata": {},
   "outputs": [],
   "source": [
    "first=len([i for i in mape_nos if i<10])\n",
    "second=len([i for i in mape_nos if i>10 and i<30])\n",
    "third = len([i for i in mape_nos if i>30 and i<50])\n",
    "fourth = len([i for i in mape_nos if i>50])\n",
    "\n",
    "weights = [1,2,3,4]\n",
    "bars_list = [first,second,third,fourth]\n",
    "\n",
    "import matplotlib.pyplot as plt\n",
    "x = [1, 2, 3, 4]\n",
    "ax1 = plt.subplot(1,1,1)\n",
    "ax1.set_xticks(x)\n",
    "ax1.set_yticks(bars_list)\n",
    "plt.bar(x,bars_list)\n",
    "ax1.set_xticklabels([\"<10\",\"10-20\",\"20-30\",\">30\"]) \n",
    "ax1.set_yticklabels(bars_list)\n",
    "plt.ylabel(\"No.of MAPE in the range\")\n",
    "plt.xlabel(\"MAPE ranges\")\n",
    "plt.show()"
   ]
  },
  {
   "cell_type": "code",
   "execution_count": null,
   "id": "5c21bad2",
   "metadata": {},
   "outputs": [],
   "source": [
    "pd.concat(forecast_data).to_csv(\"cases_forecast.csv\")"
   ]
  },
  {
   "cell_type": "markdown",
   "id": "5a446d92",
   "metadata": {},
   "source": [
    "###### Step 6.2: Applying Deep AR"
   ]
  },
  {
   "cell_type": "code",
   "execution_count": null,
   "id": "b94631c1",
   "metadata": {},
   "outputs": [],
   "source": [
    "from darts.models import RNNModel\n",
    "\n",
    "model = RNNModel(input_chunk_length =10,output_chunk_length=20,model=\"GRU\")\n",
    "model.fit([i[0:53] for i in series])"
   ]
  },
  {
   "cell_type": "markdown",
   "id": "e9d55387",
   "metadata": {},
   "source": [
    "###### Step6.2.1: Inverse Standardization"
   ]
  },
  {
   "cell_type": "code",
   "execution_count": null,
   "id": "141b8f65",
   "metadata": {},
   "outputs": [],
   "source": [
    "pred = model.predict(n=20,series=series[0][53:73])\n",
    "\n",
    "inverse_series_cases = [scaler_cases[index].inverse_transform(i[\"cases\"][:94]) for index,i in enumerate(series)]\n",
    "inverse_series_seats = [scaler_seats[index].inverse_transform(i[\"Seats\"][:94]) for index,i in enumerate(series)]\n",
    "inverse_pred_cases = scaler_cases[0].inverse_transform(pred[\"cases\"])\n",
    "inverse_pred_seats = scaler_seats[0].inverse_transform(pred[\"Seats\"])\n",
    "\n",
    "import matplotlib.pyplot as plt\n",
    "inverse_series_cases[0].plot(label=\"actual\")\n",
    "inverse_pred_cases.plot(label=\"forecast\")"
   ]
  },
  {
   "cell_type": "markdown",
   "id": "25988eaf",
   "metadata": {},
   "source": [
    "###### Step6.2.2: Calculating error percentage ((actual-forecast)*100/actual)"
   ]
  },
  {
   "cell_type": "code",
   "execution_count": null,
   "id": "c572c671",
   "metadata": {},
   "outputs": [],
   "source": [
    "forecast_data = []\n",
    "mape_nos = []\n",
    "inverse_series_cases = [scaler_cases[index].inverse_transform(i[\"cases\"][:94]) for index,i in enumerate(series)]\n",
    "for index,i in enumerate(countries):\n",
    "    pred = model.predict(n=11,series=series[index][53:73])\n",
    "    inverse_pred_cases = scaler_cases[index].inverse_transform(pred[\"cases\"])\n",
    "    print(i)\n",
    "    print(\"MAE for cases = {:.2f}\".format(mae(inverse_series_cases[index],inverse_pred_cases)))\n",
    "    mae_no = mae(inverse_series_cases[index],inverse_pred_cases)\n",
    "    mape_no = mae_no/(int(inverse_series_cases[index].pd_dataframe().max())+1)*100\n",
    "    mape_nos.append(mape_no)\n",
    "    print(inverse_series_cases[index].pd_dataframe().max())\n",
    "    forecast_df = inverse_pred_cases.pd_dataframe().reset_index()\n",
    "    forecast_df[\"Country\"] = i \n",
    "    forecast_data.append(forecast_df)"
   ]
  },
  {
   "cell_type": "markdown",
   "id": "113ce9bf",
   "metadata": {},
   "source": [
    "###### Step6.2.3: Plotting the errors of country as bar plots"
   ]
  },
  {
   "cell_type": "code",
   "execution_count": null,
   "id": "1bd037a9",
   "metadata": {},
   "outputs": [],
   "source": [
    "first=len([i for i in mape_nos if i<10])\n",
    "second=len([i for i in mape_nos if i>10 and i<20])\n",
    "third = len([i for i in mape_nos if i>20 and i<30])\n",
    "fourth = len([i for i in mape_nos if i>30])\n",
    "\n",
    "weights = [1,2,3,4]\n",
    "bars_list = [first,second,third,fourth]\n",
    "\n",
    "import matplotlib.pyplot as plt\n",
    "x = [1, 2, 3, 4]\n",
    "ax1 = plt.subplot(1,1,1)\n",
    "ax1.set_xticks(x)\n",
    "ax1.set_yticks(bars_list)\n",
    "plt.bar(x,bars_list)\n",
    "ax1.set_xticklabels([\"<10\",\"10-20\",\"20-30\",\">30\"]) \n",
    "ax1.set_yticklabels(bars_list)\n",
    "plt.ylabel(\"No.of MAPE in the range\")\n",
    "plt.xlabel(\"MAPE ranges\")\n",
    "plt.show()"
   ]
  },
  {
   "cell_type": "markdown",
   "id": "15f83d07",
   "metadata": {},
   "source": [
    "###### Step6.3: Applying VARIMA"
   ]
  },
  {
   "cell_type": "markdown",
   "id": "8429c146",
   "metadata": {},
   "source": [
    "###### Step6.3.1: FInding p,q,d values(using pmdarima) "
   ]
  },
  {
   "cell_type": "code",
   "execution_count": 11,
   "id": "068fab3b",
   "metadata": {},
   "outputs": [],
   "source": [
    "import pmdarima as pm"
   ]
  },
  {
   "cell_type": "code",
   "execution_count": 13,
   "id": "de24e315",
   "metadata": {},
   "outputs": [],
   "source": [
    "data_GB = data[data[\"dest cou\"]==\"GB\"]"
   ]
  },
  {
   "cell_type": "code",
   "execution_count": 21,
   "id": "8216e6fa",
   "metadata": {},
   "outputs": [
    {
     "name": "stdout",
     "output_type": "stream",
     "text": [
      "Performing stepwise search to minimize aic\n",
      " ARIMA(0,1,0)(0,0,0)[0] intercept   : AIC=2824.005, Time=0.02 sec\n",
      " ARIMA(1,1,0)(0,0,0)[0] intercept   : AIC=2810.951, Time=0.04 sec\n",
      " ARIMA(0,1,1)(0,0,0)[0] intercept   : AIC=2767.427, Time=0.04 sec\n",
      " ARIMA(0,1,0)(0,0,0)[0]             : AIC=2822.220, Time=0.01 sec\n",
      " ARIMA(1,1,1)(0,0,0)[0] intercept   : AIC=2760.705, Time=0.28 sec\n",
      " ARIMA(2,1,1)(0,0,0)[0] intercept   : AIC=2752.811, Time=0.22 sec\n",
      " ARIMA(2,1,0)(0,0,0)[0] intercept   : AIC=2760.979, Time=0.07 sec\n",
      " ARIMA(3,1,1)(0,0,0)[0] intercept   : AIC=2749.928, Time=0.24 sec\n",
      " ARIMA(3,1,0)(0,0,0)[0] intercept   : AIC=2762.990, Time=0.09 sec\n",
      " ARIMA(4,1,1)(0,0,0)[0] intercept   : AIC=2646.110, Time=0.48 sec\n",
      " ARIMA(4,1,0)(0,0,0)[0] intercept   : AIC=2666.446, Time=0.17 sec\n",
      " ARIMA(5,1,1)(0,0,0)[0] intercept   : AIC=2610.828, Time=0.44 sec\n",
      " ARIMA(5,1,0)(0,0,0)[0] intercept   : AIC=2609.381, Time=0.41 sec\n",
      " ARIMA(5,1,0)(0,0,0)[0]             : AIC=2615.508, Time=0.33 sec\n",
      "\n",
      "Best model:  ARIMA(5,1,0)(0,0,0)[0] intercept\n",
      "Total fit time: 2.863 seconds\n"
     ]
    }
   ],
   "source": [
    "data_DE = data[data[\"dest cou\"]==\"DE\"]\n",
    "model = pm.auto_arima(data_DE['cases'], \n",
    "                         seasonal=False,\n",
    "                      start_p=0, start_q=0, max_order=3, test='adf',error_action='ignore',  \n",
    "                           suppress_warnings=True,\n",
    "                      stepwise=True, trace=True)"
   ]
  },
  {
   "cell_type": "code",
   "execution_count": 14,
   "id": "a3558e05",
   "metadata": {},
   "outputs": [
    {
     "name": "stdout",
     "output_type": "stream",
     "text": [
      "Performing stepwise search to minimize aic\n",
      " ARIMA(0,1,0)(0,0,0)[0] intercept   : AIC=2720.309, Time=0.04 sec\n",
      " ARIMA(1,1,0)(0,0,0)[0] intercept   : AIC=2713.129, Time=0.04 sec\n",
      " ARIMA(0,1,1)(0,0,0)[0] intercept   : AIC=2711.602, Time=0.03 sec\n",
      " ARIMA(0,1,0)(0,0,0)[0]             : AIC=2718.315, Time=0.01 sec\n",
      " ARIMA(1,1,1)(0,0,0)[0] intercept   : AIC=2713.115, Time=0.06 sec\n",
      " ARIMA(0,1,2)(0,0,0)[0] intercept   : AIC=2713.029, Time=0.13 sec\n",
      " ARIMA(1,1,2)(0,0,0)[0] intercept   : AIC=2706.749, Time=0.18 sec\n",
      " ARIMA(2,1,2)(0,0,0)[0] intercept   : AIC=2664.190, Time=0.16 sec\n",
      " ARIMA(2,1,1)(0,0,0)[0] intercept   : AIC=2690.767, Time=0.14 sec\n",
      " ARIMA(3,1,2)(0,0,0)[0] intercept   : AIC=2665.416, Time=0.21 sec\n",
      " ARIMA(2,1,3)(0,0,0)[0] intercept   : AIC=2667.012, Time=0.31 sec\n",
      " ARIMA(1,1,3)(0,0,0)[0] intercept   : AIC=2693.944, Time=0.18 sec\n",
      " ARIMA(3,1,1)(0,0,0)[0] intercept   : AIC=2679.637, Time=0.13 sec\n",
      " ARIMA(3,1,3)(0,0,0)[0] intercept   : AIC=2664.639, Time=0.97 sec\n",
      " ARIMA(2,1,2)(0,0,0)[0]             : AIC=2662.205, Time=0.19 sec\n",
      " ARIMA(1,1,2)(0,0,0)[0]             : AIC=2704.759, Time=0.10 sec\n",
      " ARIMA(2,1,1)(0,0,0)[0]             : AIC=2688.788, Time=0.11 sec\n",
      " ARIMA(3,1,2)(0,0,0)[0]             : AIC=2663.432, Time=0.22 sec\n",
      " ARIMA(2,1,3)(0,0,0)[0]             : AIC=2665.017, Time=0.15 sec\n",
      " ARIMA(1,1,1)(0,0,0)[0]             : AIC=2711.113, Time=0.05 sec\n",
      " ARIMA(1,1,3)(0,0,0)[0]             : AIC=2691.946, Time=0.17 sec\n",
      " ARIMA(3,1,1)(0,0,0)[0]             : AIC=2677.660, Time=0.12 sec\n",
      " ARIMA(3,1,3)(0,0,0)[0]             : AIC=2662.717, Time=0.70 sec\n",
      "\n",
      "Best model:  ARIMA(2,1,2)(0,0,0)[0]          \n",
      "Total fit time: 4.450 seconds\n"
     ]
    }
   ],
   "source": [
    "model = pm.auto_arima(data_GB['cases'], \n",
    "                         seasonal=False,\n",
    "                      start_p=0, start_q=0, max_order=3, test='adf',error_action='ignore',  \n",
    "                           suppress_warnings=True,\n",
    "                      stepwise=True, trace=True)"
   ]
  },
  {
   "cell_type": "markdown",
   "id": "61b6767a",
   "metadata": {},
   "source": [
    "###### Step 6.3.2: Applying VARIMA with p,d,q = 2,1,2 and forecasting"
   ]
  },
  {
   "cell_type": "code",
   "execution_count": 22,
   "id": "3b6c7ee6",
   "metadata": {
    "scrolled": false
   },
   "outputs": [
    {
     "name": "stderr",
     "output_type": "stream",
     "text": [
      "C:\\Users\\Aditya\\anaconda3\\lib\\site-packages\\statsmodels\\tsa\\statespace\\varmax.py:374: UserWarning: Non-stationary starting autoregressive parameters found. Using zeros as starting parameters.\n",
      "  warn('Non-stationary starting autoregressive parameters'\n",
      "C:\\Users\\Aditya\\anaconda3\\lib\\site-packages\\statsmodels\\base\\model.py:604: ConvergenceWarning: Maximum Likelihood optimization failed to converge. Check mle_retvals\n",
      "  warnings.warn(\"Maximum Likelihood optimization failed to \"\n"
     ]
    },
    {
     "name": "stdout",
     "output_type": "stream",
     "text": [
      "United Arab Emirates (the)\n",
      "MAE for cases = 948.86\n",
      "component\n",
      "cases    3116.0\n",
      "dtype: float64\n"
     ]
    },
    {
     "name": "stderr",
     "output_type": "stream",
     "text": [
      "C:\\Users\\Aditya\\anaconda3\\lib\\site-packages\\statsmodels\\base\\model.py:604: ConvergenceWarning: Maximum Likelihood optimization failed to converge. Check mle_retvals\n",
      "  warnings.warn(\"Maximum Likelihood optimization failed to \"\n",
      "C:\\Users\\Aditya\\anaconda3\\lib\\site-packages\\statsmodels\\tsa\\statespace\\varmax.py:374: UserWarning: Non-stationary starting autoregressive parameters found. Using zeros as starting parameters.\n",
      "  warn('Non-stationary starting autoregressive parameters'\n"
     ]
    },
    {
     "name": "stdout",
     "output_type": "stream",
     "text": [
      "Belgium\n",
      "MAE for cases = 24250.77\n",
      "component\n",
      "cases    76034.0\n",
      "dtype: float64\n"
     ]
    },
    {
     "name": "stderr",
     "output_type": "stream",
     "text": [
      "C:\\Users\\Aditya\\anaconda3\\lib\\site-packages\\statsmodels\\base\\model.py:604: ConvergenceWarning: Maximum Likelihood optimization failed to converge. Check mle_retvals\n",
      "  warnings.warn(\"Maximum Likelihood optimization failed to \"\n"
     ]
    },
    {
     "name": "stdout",
     "output_type": "stream",
     "text": [
      "Bahrain\n",
      "MAE for cases = 780.36\n",
      "component\n",
      "cases    8173.0\n",
      "dtype: float64\n"
     ]
    },
    {
     "name": "stderr",
     "output_type": "stream",
     "text": [
      "C:\\Users\\Aditya\\anaconda3\\lib\\site-packages\\statsmodels\\base\\model.py:604: ConvergenceWarning: Maximum Likelihood optimization failed to converge. Check mle_retvals\n",
      "  warnings.warn(\"Maximum Likelihood optimization failed to \"\n"
     ]
    },
    {
     "name": "stdout",
     "output_type": "stream",
     "text": [
      "Switzerland\n",
      "MAE for cases = 8876.17\n",
      "component\n",
      "cases    48332.0\n",
      "dtype: float64\n"
     ]
    },
    {
     "name": "stderr",
     "output_type": "stream",
     "text": [
      "C:\\Users\\Aditya\\anaconda3\\lib\\site-packages\\statsmodels\\base\\model.py:604: ConvergenceWarning: Maximum Likelihood optimization failed to converge. Check mle_retvals\n",
      "  warnings.warn(\"Maximum Likelihood optimization failed to \"\n"
     ]
    },
    {
     "name": "stdout",
     "output_type": "stream",
     "text": [
      "Germany\n",
      "MAE for cases = 48310.94\n",
      "component\n",
      "cases    239487.0\n",
      "dtype: float64\n"
     ]
    },
    {
     "name": "stderr",
     "output_type": "stream",
     "text": [
      "C:\\Users\\Aditya\\anaconda3\\lib\\site-packages\\statsmodels\\base\\model.py:604: ConvergenceWarning: Maximum Likelihood optimization failed to converge. Check mle_retvals\n",
      "  warnings.warn(\"Maximum Likelihood optimization failed to \"\n",
      "C:\\Users\\Aditya\\anaconda3\\lib\\site-packages\\statsmodels\\tsa\\statespace\\varmax.py:374: UserWarning: Non-stationary starting autoregressive parameters found. Using zeros as starting parameters.\n",
      "  warn('Non-stationary starting autoregressive parameters'\n"
     ]
    },
    {
     "name": "stdout",
     "output_type": "stream",
     "text": [
      "France\n",
      "MAE for cases = 94139.33\n",
      "component\n",
      "cases    501635.0\n",
      "dtype: float64\n"
     ]
    },
    {
     "name": "stderr",
     "output_type": "stream",
     "text": [
      "C:\\Users\\Aditya\\anaconda3\\lib\\site-packages\\statsmodels\\base\\model.py:604: ConvergenceWarning: Maximum Likelihood optimization failed to converge. Check mle_retvals\n",
      "  warnings.warn(\"Maximum Likelihood optimization failed to \"\n"
     ]
    },
    {
     "name": "stdout",
     "output_type": "stream",
     "text": [
      "United Kingdom of Great Britain and Northern Ireland (the)\n",
      "MAE for cases = 10211.41\n",
      "component\n",
      "cases    275647.0\n",
      "dtype: float64\n"
     ]
    },
    {
     "name": "stderr",
     "output_type": "stream",
     "text": [
      "C:\\Users\\Aditya\\anaconda3\\lib\\site-packages\\statsmodels\\base\\model.py:604: ConvergenceWarning: Maximum Likelihood optimization failed to converge. Check mle_retvals\n",
      "  warnings.warn(\"Maximum Likelihood optimization failed to \"\n"
     ]
    },
    {
     "name": "stdout",
     "output_type": "stream",
     "text": [
      "Hong Kong\n",
      "MAE for cases = 35.25\n",
      "component\n",
      "cases    164.0\n",
      "dtype: float64\n",
      "India\n",
      "MAE for cases = 66293.50\n",
      "component\n",
      "cases    347254.0\n",
      "dtype: float64\n",
      "Lebanon\n",
      "MAE for cases = 1006.14\n",
      "component\n",
      "cases    10760.0\n",
      "dtype: float64\n"
     ]
    },
    {
     "name": "stderr",
     "output_type": "stream",
     "text": [
      "C:\\Users\\Aditya\\anaconda3\\lib\\site-packages\\statsmodels\\base\\model.py:604: ConvergenceWarning: Maximum Likelihood optimization failed to converge. Check mle_retvals\n",
      "  warnings.warn(\"Maximum Likelihood optimization failed to \"\n"
     ]
    },
    {
     "name": "stdout",
     "output_type": "stream",
     "text": [
      "Malta\n",
      "MAE for cases = 154.97\n",
      "component\n",
      "cases    1403.0\n",
      "dtype: float64\n",
      "Netherlands (the)\n",
      "MAE for cases = 12493.54\n",
      "component\n",
      "cases    110450.0\n",
      "dtype: float64\n"
     ]
    },
    {
     "name": "stderr",
     "output_type": "stream",
     "text": [
      "C:\\Users\\Aditya\\anaconda3\\lib\\site-packages\\statsmodels\\base\\model.py:604: ConvergenceWarning: Maximum Likelihood optimization failed to converge. Check mle_retvals\n",
      "  warnings.warn(\"Maximum Likelihood optimization failed to \"\n"
     ]
    },
    {
     "name": "stdout",
     "output_type": "stream",
     "text": [
      "Philippines (the)\n",
      "MAE for cases = 6029.54\n",
      "component\n",
      "cases    38867.0\n",
      "dtype: float64\n",
      "Qatar\n",
      "MAE for cases = 721.10\n",
      "component\n",
      "cases    4206.0\n",
      "dtype: float64\n"
     ]
    },
    {
     "name": "stderr",
     "output_type": "stream",
     "text": [
      "C:\\Users\\Aditya\\anaconda3\\lib\\site-packages\\statsmodels\\base\\model.py:604: ConvergenceWarning: Maximum Likelihood optimization failed to converge. Check mle_retvals\n",
      "  warnings.warn(\"Maximum Likelihood optimization failed to \"\n"
     ]
    },
    {
     "name": "stdout",
     "output_type": "stream",
     "text": [
      "Saudi Arabia\n",
      "MAE for cases = 544.81\n",
      "component\n",
      "cases    5928.0\n",
      "dtype: float64\n"
     ]
    },
    {
     "name": "stderr",
     "output_type": "stream",
     "text": [
      "C:\\Users\\Aditya\\anaconda3\\lib\\site-packages\\statsmodels\\base\\model.py:604: ConvergenceWarning: Maximum Likelihood optimization failed to converge. Check mle_retvals\n",
      "  warnings.warn(\"Maximum Likelihood optimization failed to \"\n"
     ]
    },
    {
     "name": "stdout",
     "output_type": "stream",
     "text": [
      "Ukraine\n",
      "MAE for cases = 9897.04\n",
      "component\n",
      "cases    45022.0\n",
      "dtype: float64\n"
     ]
    },
    {
     "name": "stderr",
     "output_type": "stream",
     "text": [
      "C:\\Users\\Aditya\\anaconda3\\lib\\site-packages\\statsmodels\\base\\model.py:604: ConvergenceWarning: Maximum Likelihood optimization failed to converge. Check mle_retvals\n",
      "  warnings.warn(\"Maximum Likelihood optimization failed to \"\n"
     ]
    },
    {
     "name": "stdout",
     "output_type": "stream",
     "text": [
      "Canada\n",
      "MAE for cases = 6207.61\n",
      "component\n",
      "cases    49148.0\n",
      "dtype: float64\n"
     ]
    },
    {
     "name": "stderr",
     "output_type": "stream",
     "text": [
      "C:\\Users\\Aditya\\anaconda3\\lib\\site-packages\\statsmodels\\base\\model.py:604: ConvergenceWarning: Maximum Likelihood optimization failed to converge. Check mle_retvals\n",
      "  warnings.warn(\"Maximum Likelihood optimization failed to \"\n"
     ]
    },
    {
     "name": "stdout",
     "output_type": "stream",
     "text": [
      "Italy\n",
      "MAE for cases = 38813.01\n",
      "component\n",
      "cases    228123.0\n",
      "dtype: float64\n"
     ]
    },
    {
     "name": "stderr",
     "output_type": "stream",
     "text": [
      "C:\\Users\\Aditya\\anaconda3\\lib\\site-packages\\statsmodels\\base\\model.py:604: ConvergenceWarning: Maximum Likelihood optimization failed to converge. Check mle_retvals\n",
      "  warnings.warn(\"Maximum Likelihood optimization failed to \"\n"
     ]
    },
    {
     "name": "stdout",
     "output_type": "stream",
     "text": [
      "Singapore\n",
      "MAE for cases = 4432.66\n",
      "component\n",
      "cases    10264.0\n",
      "dtype: float64\n"
     ]
    },
    {
     "name": "stderr",
     "output_type": "stream",
     "text": [
      "C:\\Users\\Aditya\\anaconda3\\lib\\site-packages\\statsmodels\\base\\model.py:604: ConvergenceWarning: Maximum Likelihood optimization failed to converge. Check mle_retvals\n",
      "  warnings.warn(\"Maximum Likelihood optimization failed to \"\n"
     ]
    },
    {
     "name": "stdout",
     "output_type": "stream",
     "text": [
      "Egypt\n",
      "MAE for cases = 450.28\n",
      "component\n",
      "cases    2291.0\n",
      "dtype: float64\n"
     ]
    },
    {
     "name": "stderr",
     "output_type": "stream",
     "text": [
      "C:\\Users\\Aditya\\anaconda3\\lib\\site-packages\\statsmodels\\base\\model.py:604: ConvergenceWarning: Maximum Likelihood optimization failed to converge. Check mle_retvals\n",
      "  warnings.warn(\"Maximum Likelihood optimization failed to \"\n"
     ]
    },
    {
     "name": "stdout",
     "output_type": "stream",
     "text": [
      "Greece\n",
      "MAE for cases = 4804.36\n",
      "component\n",
      "cases    50182.0\n",
      "dtype: float64\n",
      "Korea (the Republic of)\n",
      "MAE for cases = 2206.92\n",
      "component\n",
      "cases    36362.0\n",
      "dtype: float64\n"
     ]
    },
    {
     "name": "stderr",
     "output_type": "stream",
     "text": [
      "C:\\Users\\Aditya\\anaconda3\\lib\\site-packages\\statsmodels\\base\\model.py:604: ConvergenceWarning: Maximum Likelihood optimization failed to converge. Check mle_retvals\n",
      "  warnings.warn(\"Maximum Likelihood optimization failed to \"\n"
     ]
    },
    {
     "name": "stdout",
     "output_type": "stream",
     "text": [
      "Turkey\n",
      "MAE for cases = 3384.11\n",
      "component\n",
      "cases    111157.0\n",
      "dtype: float64\n",
      "United States of America (the)\n",
      "MAE for cases = 311968.89\n",
      "component\n",
      "cases    1433977.0\n",
      "dtype: float64\n",
      "Morocco\n",
      "MAE for cases = 1851.51\n",
      "component\n",
      "cases    9355.0\n",
      "dtype: float64\n"
     ]
    },
    {
     "name": "stderr",
     "output_type": "stream",
     "text": [
      "C:\\Users\\Aditya\\anaconda3\\lib\\site-packages\\statsmodels\\base\\model.py:604: ConvergenceWarning: Maximum Likelihood optimization failed to converge. Check mle_retvals\n",
      "  warnings.warn(\"Maximum Likelihood optimization failed to \"\n"
     ]
    },
    {
     "name": "stdout",
     "output_type": "stream",
     "text": [
      "Croatia\n",
      "MAE for cases = 2164.49\n",
      "component\n",
      "cases    11812.0\n",
      "dtype: float64\n",
      "South Africa\n",
      "MAE for cases = 2527.58\n",
      "component\n",
      "cases    37875.0\n",
      "dtype: float64\n",
      "Bangladesh\n",
      "MAE for cases = 6460.90\n",
      "component\n",
      "cases    16033.0\n",
      "dtype: float64\n"
     ]
    },
    {
     "name": "stderr",
     "output_type": "stream",
     "text": [
      "C:\\Users\\Aditya\\anaconda3\\lib\\site-packages\\statsmodels\\base\\model.py:604: ConvergenceWarning: Maximum Likelihood optimization failed to converge. Check mle_retvals\n",
      "  warnings.warn(\"Maximum Likelihood optimization failed to \"\n"
     ]
    },
    {
     "name": "stdout",
     "output_type": "stream",
     "text": [
      "Poland\n",
      "MAE for cases = 14569.02\n",
      "component\n",
      "cases    57659.0\n",
      "dtype: float64\n",
      "Australia\n",
      "MAE for cases = 19056.44\n",
      "component\n",
      "cases    277619.0\n",
      "dtype: float64\n"
     ]
    },
    {
     "name": "stderr",
     "output_type": "stream",
     "text": [
      "C:\\Users\\Aditya\\anaconda3\\lib\\site-packages\\statsmodels\\base\\model.py:604: ConvergenceWarning: Maximum Likelihood optimization failed to converge. Check mle_retvals\n",
      "  warnings.warn(\"Maximum Likelihood optimization failed to \"\n"
     ]
    },
    {
     "name": "stdout",
     "output_type": "stream",
     "text": [
      "Spain\n",
      "MAE for cases = 111977.69\n",
      "component\n",
      "cases    372766.0\n",
      "dtype: float64\n",
      "Cyprus\n",
      "MAE for cases = 1416.95\n",
      "component\n",
      "cases    5457.0\n",
      "dtype: float64\n"
     ]
    },
    {
     "name": "stderr",
     "output_type": "stream",
     "text": [
      "C:\\Users\\Aditya\\anaconda3\\lib\\site-packages\\statsmodels\\base\\model.py:604: ConvergenceWarning: Maximum Likelihood optimization failed to converge. Check mle_retvals\n",
      "  warnings.warn(\"Maximum Likelihood optimization failed to \"\n"
     ]
    },
    {
     "name": "stdout",
     "output_type": "stream",
     "text": [
      "Brazil\n",
      "MAE for cases = 66974.58\n",
      "component\n",
      "cases    285396.0\n",
      "dtype: float64\n"
     ]
    },
    {
     "name": "stderr",
     "output_type": "stream",
     "text": [
      "C:\\Users\\Aditya\\anaconda3\\lib\\site-packages\\statsmodels\\base\\model.py:604: ConvergenceWarning: Maximum Likelihood optimization failed to converge. Check mle_retvals\n",
      "  warnings.warn(\"Maximum Likelihood optimization failed to \"\n"
     ]
    },
    {
     "name": "stdout",
     "output_type": "stream",
     "text": [
      "Czech Republic (the)\n",
      "MAE for cases = 13119.51\n",
      "component\n",
      "cases    57247.0\n",
      "dtype: float64\n",
      "Malaysia\n",
      "MAE for cases = 457.66\n",
      "component\n",
      "cases    7234.0\n",
      "dtype: float64\n"
     ]
    },
    {
     "name": "stderr",
     "output_type": "stream",
     "text": [
      "C:\\Users\\Aditya\\anaconda3\\lib\\site-packages\\statsmodels\\base\\model.py:604: ConvergenceWarning: Maximum Likelihood optimization failed to converge. Check mle_retvals\n",
      "  warnings.warn(\"Maximum Likelihood optimization failed to \"\n"
     ]
    },
    {
     "name": "stdout",
     "output_type": "stream",
     "text": [
      "Romania\n",
      "MAE for cases = 6111.08\n",
      "component\n",
      "cases    40018.0\n",
      "dtype: float64\n",
      "Pakistan\n",
      "MAE for cases = 2812.63\n",
      "component\n",
      "cases    8183.0\n",
      "dtype: float64\n"
     ]
    },
    {
     "name": "stderr",
     "output_type": "stream",
     "text": [
      "C:\\Users\\Aditya\\anaconda3\\lib\\site-packages\\statsmodels\\tsa\\statespace\\varmax.py:374: UserWarning: Non-stationary starting autoregressive parameters found. Using zeros as starting parameters.\n",
      "  warn('Non-stationary starting autoregressive parameters'\n",
      "C:\\Users\\Aditya\\anaconda3\\lib\\site-packages\\statsmodels\\base\\model.py:604: ConvergenceWarning: Maximum Likelihood optimization failed to converge. Check mle_retvals\n",
      "  warnings.warn(\"Maximum Likelihood optimization failed to \"\n",
      "C:\\Users\\Aditya\\anaconda3\\lib\\site-packages\\statsmodels\\tsa\\statespace\\varmax.py:374: UserWarning: Non-stationary starting autoregressive parameters found. Using zeros as starting parameters.\n",
      "  warn('Non-stationary starting autoregressive parameters'\n"
     ]
    },
    {
     "name": "stdout",
     "output_type": "stream",
     "text": [
      "Argentina\n",
      "MAE for cases = 16518.72\n",
      "component\n",
      "cases    139853.0\n",
      "dtype: float64\n"
     ]
    },
    {
     "name": "stderr",
     "output_type": "stream",
     "text": [
      "C:\\Users\\Aditya\\anaconda3\\lib\\site-packages\\statsmodels\\base\\model.py:604: ConvergenceWarning: Maximum Likelihood optimization failed to converge. Check mle_retvals\n",
      "  warnings.warn(\"Maximum Likelihood optimization failed to \"\n"
     ]
    },
    {
     "name": "stdout",
     "output_type": "stream",
     "text": [
      "Ireland\n",
      "MAE for cases = 31140.31\n",
      "component\n",
      "cases    26122.0\n",
      "dtype: float64\n",
      "Kazakhstan\n"
     ]
    },
    {
     "name": "stderr",
     "output_type": "stream",
     "text": [
      "C:\\Users\\Aditya\\anaconda3\\lib\\site-packages\\statsmodels\\base\\model.py:604: ConvergenceWarning: Maximum Likelihood optimization failed to converge. Check mle_retvals\n",
      "  warnings.warn(\"Maximum Likelihood optimization failed to \"\n"
     ]
    },
    {
     "ename": "IndexError",
     "evalue": "list index out of range",
     "output_type": "error",
     "traceback": [
      "\u001b[1;31m---------------------------------------------------------------------------\u001b[0m",
      "\u001b[1;31mIndexError\u001b[0m                                Traceback (most recent call last)",
      "\u001b[1;32m~\\AppData\\Local\\Temp/ipykernel_11184/2729680080.py\u001b[0m in \u001b[0;36m<module>\u001b[1;34m\u001b[0m\n\u001b[0;32m     10\u001b[0m     \u001b[0minverse_pred_cases\u001b[0m \u001b[1;33m=\u001b[0m \u001b[0mscaler_cases\u001b[0m\u001b[1;33m[\u001b[0m\u001b[0mindex\u001b[0m\u001b[1;33m]\u001b[0m\u001b[1;33m.\u001b[0m\u001b[0minverse_transform\u001b[0m\u001b[1;33m(\u001b[0m\u001b[0mpred\u001b[0m\u001b[1;33m[\u001b[0m\u001b[1;34m\"cases\"\u001b[0m\u001b[1;33m]\u001b[0m\u001b[1;33m)\u001b[0m\u001b[1;33m\u001b[0m\u001b[1;33m\u001b[0m\u001b[0m\n\u001b[0;32m     11\u001b[0m     \u001b[0mprint\u001b[0m\u001b[1;33m(\u001b[0m\u001b[0mi\u001b[0m\u001b[1;33m)\u001b[0m\u001b[1;33m\u001b[0m\u001b[1;33m\u001b[0m\u001b[0m\n\u001b[1;32m---> 12\u001b[1;33m     \u001b[0mprint\u001b[0m\u001b[1;33m(\u001b[0m\u001b[1;34m\"MAE for cases = {:.2f}\"\u001b[0m\u001b[1;33m.\u001b[0m\u001b[0mformat\u001b[0m\u001b[1;33m(\u001b[0m\u001b[0mmae\u001b[0m\u001b[1;33m(\u001b[0m\u001b[0minverse_series_cases\u001b[0m\u001b[1;33m[\u001b[0m\u001b[0mindex\u001b[0m\u001b[1;33m]\u001b[0m\u001b[1;33m,\u001b[0m\u001b[0minverse_pred_cases\u001b[0m\u001b[1;33m)\u001b[0m\u001b[1;33m)\u001b[0m\u001b[1;33m)\u001b[0m\u001b[1;33m\u001b[0m\u001b[1;33m\u001b[0m\u001b[0m\n\u001b[0m\u001b[0;32m     13\u001b[0m     \u001b[0mmae_no\u001b[0m \u001b[1;33m=\u001b[0m \u001b[0mmae\u001b[0m\u001b[1;33m(\u001b[0m\u001b[0minverse_series_cases\u001b[0m\u001b[1;33m[\u001b[0m\u001b[0mindex\u001b[0m\u001b[1;33m]\u001b[0m\u001b[1;33m,\u001b[0m\u001b[0minverse_pred_cases\u001b[0m\u001b[1;33m)\u001b[0m\u001b[1;33m\u001b[0m\u001b[1;33m\u001b[0m\u001b[0m\n\u001b[0;32m     14\u001b[0m     \u001b[0mmape_no\u001b[0m \u001b[1;33m=\u001b[0m \u001b[0mmae_no\u001b[0m\u001b[1;33m/\u001b[0m\u001b[1;33m(\u001b[0m\u001b[0mint\u001b[0m\u001b[1;33m(\u001b[0m\u001b[0minverse_series_cases\u001b[0m\u001b[1;33m[\u001b[0m\u001b[0mindex\u001b[0m\u001b[1;33m]\u001b[0m\u001b[1;33m.\u001b[0m\u001b[0mpd_dataframe\u001b[0m\u001b[1;33m(\u001b[0m\u001b[1;33m)\u001b[0m\u001b[1;33m.\u001b[0m\u001b[0mmax\u001b[0m\u001b[1;33m(\u001b[0m\u001b[1;33m)\u001b[0m\u001b[1;33m)\u001b[0m\u001b[1;33m+\u001b[0m\u001b[1;36m1\u001b[0m\u001b[1;33m)\u001b[0m\u001b[1;33m*\u001b[0m\u001b[1;36m100\u001b[0m\u001b[1;33m\u001b[0m\u001b[1;33m\u001b[0m\u001b[0m\n",
      "\u001b[1;31mIndexError\u001b[0m: list index out of range"
     ]
    }
   ],
   "source": [
    "from darts.models import VARIMA\n",
    "from darts.metrics import mae\n",
    "forecast_data = []\n",
    "mape_nos = []\n",
    "inverse_series_cases = [scaler_cases[index].inverse_transform(i[\"cases\"][:94]) for index,i in enumerate(series[:39])]\n",
    "for index,i in enumerate(countries):\n",
    "    model = VARIMA(p=5,d=1,q=0)\n",
    "    model.fit(series[index][0:53])\n",
    "    pred = model.predict(n=11,series=series[index][53:73])\n",
    "    inverse_pred_cases = scaler_cases[index].inverse_transform(pred[\"cases\"])\n",
    "    print(i)\n",
    "    print(\"MAE for cases = {:.2f}\".format(mae(inverse_series_cases[index],inverse_pred_cases)))\n",
    "    mae_no = mae(inverse_series_cases[index],inverse_pred_cases)\n",
    "    mape_no = mae_no/(int(inverse_series_cases[index].pd_dataframe().max())+1)*100\n",
    "    mape_nos.append(mape_no)\n",
    "    print(inverse_series_cases[index].pd_dataframe().max())\n",
    "    forecast_df = inverse_pred_cases.pd_dataframe().reset_index()\n",
    "    forecast_df[\"Country\"] = i \n",
    "    forecast_data.append(forecast_df)"
   ]
  },
  {
   "cell_type": "markdown",
   "id": "97adacf1",
   "metadata": {},
   "source": [
    "###### Step6.3.3: Plotting the errors of country as bar plots"
   ]
  },
  {
   "cell_type": "code",
   "execution_count": 23,
   "id": "1ad5dfa2",
   "metadata": {},
   "outputs": [
    {
     "data": {
      "image/png": "[encoded data removed]",
      "text/plain": [
       "<Figure size 432x288 with 1 Axes>"
      ]
     },
     "metadata": {
      "needs_background": "light"
     },
     "output_type": "display_data"
    }
   ],
   "source": [
    "first=len([i for i in mape_nos if i<10])\n",
    "second=len([i for i in mape_nos if i>10 and i<20])\n",
    "third = len([i for i in mape_nos if i>20 and i<30])\n",
    "fourth = len([i for i in mape_nos if i>30])\n",
    "\n",
    "weights = [1,2,3,4]\n",
    "bars_list = [first,second,third,fourth]\n",
    "\n",
    "import matplotlib.pyplot as plt\n",
    "x = [1, 2, 3, 4]\n",
    "ax1 = plt.subplot(1,1,1)\n",
    "ax1.set_xticks(x)\n",
    "ax1.set_yticks(bars_list)\n",
    "plt.bar(x,bars_list)\n",
    "ax1.set_xticklabels([\"<10\",\"10-20\",\"20-30\",\">30\"]) \n",
    "ax1.set_yticklabels(bars_list)\n",
    "plt.ylabel(\"No.of MAPE in the range\")\n",
    "plt.xlabel(\"MAPE ranges\")\n",
    "plt.show()"
   ]
  }
 ],
 "metadata": {
  "kernelspec": {
   "display_name": "Python 3 (ipykernel)",
   "language": "python",
   "name": "python3"
  },
  "language_info": {
   "codemirror_mode": {
    "name": "ipython",
    "version": 3
   },
   "file_extension": ".py",
   "mimetype": "text/x-python",
   "name": "python",
   "nbconvert_exporter": "python",
   "pygments_lexer": "ipython3",
   "version": "3.9.7"
  }
 },
 "nbformat": 4,
 "nbformat_minor": 5
}
