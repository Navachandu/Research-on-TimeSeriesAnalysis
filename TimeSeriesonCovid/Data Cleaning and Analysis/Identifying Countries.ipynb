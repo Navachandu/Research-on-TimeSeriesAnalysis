{
 "cells": [
  {
   "cell_type": "code",
   "execution_count": 1,
   "metadata": {},
   "outputs": [],
   "source": [
    "import pandas as pd"
   ]
  },
  {
   "cell_type": "code",
   "execution_count": 2,
   "metadata": {},
   "outputs": [],
   "source": [
    "df = pd.read_csv('final_dataset_SA.csv')"
   ]
  },
  {
   "cell_type": "code",
   "execution_count": 3,
   "metadata": {},
   "outputs": [
    {
     "data": {
      "text/html": [
       "<div>\n",
       "<style scoped>\n",
       "    .dataframe tbody tr th:only-of-type {\n",
       "        vertical-align: middle;\n",
       "    }\n",
       "\n",
       "    .dataframe tbody tr th {\n",
       "        vertical-align: top;\n",
       "    }\n",
       "\n",
       "    .dataframe thead th {\n",
       "        text-align: right;\n",
       "    }\n",
       "</style>\n",
       "<table border=\"1\" class=\"dataframe\">\n",
       "  <thead>\n",
       "    <tr style=\"text-align: right;\">\n",
       "      <th></th>\n",
       "      <th>origin cou</th>\n",
       "      <th>Dest Country Name</th>\n",
       "      <th>Dest Population Density</th>\n",
       "    </tr>\n",
       "  </thead>\n",
       "  <tbody>\n",
       "    <tr>\n",
       "      <th>0</th>\n",
       "      <td>ZA</td>\n",
       "      <td>Italy</td>\n",
       "      <td>198.388557</td>\n",
       "    </tr>\n",
       "    <tr>\n",
       "      <th>1</th>\n",
       "      <td>ZA</td>\n",
       "      <td>Italy</td>\n",
       "      <td>198.388557</td>\n",
       "    </tr>\n",
       "    <tr>\n",
       "      <th>2</th>\n",
       "      <td>ZA</td>\n",
       "      <td>Italy</td>\n",
       "      <td>198.388557</td>\n",
       "    </tr>\n",
       "    <tr>\n",
       "      <th>3</th>\n",
       "      <td>ZA</td>\n",
       "      <td>Italy</td>\n",
       "      <td>198.388557</td>\n",
       "    </tr>\n",
       "    <tr>\n",
       "      <th>4</th>\n",
       "      <td>ZA</td>\n",
       "      <td>Italy</td>\n",
       "      <td>198.388557</td>\n",
       "    </tr>\n",
       "    <tr>\n",
       "      <th>...</th>\n",
       "      <td>...</td>\n",
       "      <td>...</td>\n",
       "      <td>...</td>\n",
       "    </tr>\n",
       "    <tr>\n",
       "      <th>1283</th>\n",
       "      <td>ZA</td>\n",
       "      <td>Kenya</td>\n",
       "      <td>96.611909</td>\n",
       "    </tr>\n",
       "    <tr>\n",
       "      <th>1284</th>\n",
       "      <td>ZA</td>\n",
       "      <td>Kenya</td>\n",
       "      <td>96.611909</td>\n",
       "    </tr>\n",
       "    <tr>\n",
       "      <th>1285</th>\n",
       "      <td>ZA</td>\n",
       "      <td>Kenya</td>\n",
       "      <td>96.611909</td>\n",
       "    </tr>\n",
       "    <tr>\n",
       "      <th>1286</th>\n",
       "      <td>ZA</td>\n",
       "      <td>Kenya</td>\n",
       "      <td>96.611909</td>\n",
       "    </tr>\n",
       "    <tr>\n",
       "      <th>1287</th>\n",
       "      <td>ZA</td>\n",
       "      <td>Kenya</td>\n",
       "      <td>96.611909</td>\n",
       "    </tr>\n",
       "  </tbody>\n",
       "</table>\n",
       "<p>1288 rows × 3 columns</p>\n",
       "</div>"
      ],
      "text/plain": [
       "     origin cou Dest Country Name  Dest Population Density\n",
       "0            ZA             Italy               198.388557\n",
       "1            ZA             Italy               198.388557\n",
       "2            ZA             Italy               198.388557\n",
       "3            ZA             Italy               198.388557\n",
       "4            ZA             Italy               198.388557\n",
       "...         ...               ...                      ...\n",
       "1283         ZA             Kenya                96.611909\n",
       "1284         ZA             Kenya                96.611909\n",
       "1285         ZA             Kenya                96.611909\n",
       "1286         ZA             Kenya                96.611909\n",
       "1287         ZA             Kenya                96.611909\n",
       "\n",
       "[1288 rows x 3 columns]"
      ]
     },
     "execution_count": 3,
     "metadata": {},
     "output_type": "execute_result"
    }
   ],
   "source": [
    "df.drop(['callsign', 'number','icao24','origin','destination','dest cou'], axis=1)"
   ]
  },
  {
   "cell_type": "code",
   "execution_count": 4,
   "metadata": {},
   "outputs": [],
   "source": [
    "unique = df['Dest Country Name'].value_counts()"
   ]
  },
  {
   "cell_type": "code",
   "execution_count": 5,
   "metadata": {},
   "outputs": [],
   "source": [
    "df_uk = pd.read_csv('final_dataset_GB.csv')"
   ]
  },
  {
   "cell_type": "code",
   "execution_count": 6,
   "metadata": {},
   "outputs": [
    {
     "data": {
      "text/plain": [
       "Qatar          278\n",
       "Netherlands    256\n",
       "Germany        211\n",
       "France         114\n",
       "Switzerland    106\n",
       "Belgium         76\n",
       "Singapore       75\n",
       "Kenya           26\n",
       "Australia       17\n",
       "Sweden          16\n",
       "Italy           15\n",
       "India           14\n",
       "Senegal         12\n",
       "Ireland         12\n",
       "Austria          7\n",
       "Brazil           6\n",
       "Israel           5\n",
       "Morocco          4\n",
       "Spain            4\n",
       "Guatemala        3\n",
       "Algeria          3\n",
       "Portugal         3\n",
       "China            3\n",
       "Malaysia         3\n",
       "Japan            3\n",
       "Philippines      2\n",
       "Thailand         2\n",
       "Argentina        2\n",
       "Greece           2\n",
       "Romania          1\n",
       "Bahrain          1\n",
       "Iceland          1\n",
       "Barbados         1\n",
       "Norway           1\n",
       "Poland           1\n",
       "Ecuador          1\n",
       "Bulgaria         1\n",
       "Name: Dest Country Name, dtype: int64"
      ]
     },
     "execution_count": 6,
     "metadata": {},
     "output_type": "execute_result"
    }
   ],
   "source": [
    "unique"
   ]
  },
  {
   "cell_type": "code",
   "execution_count": 7,
   "metadata": {},
   "outputs": [
    {
     "data": {
      "text/plain": [
       "Qatar          278\n",
       "Netherlands    256\n",
       "Germany        211\n",
       "France         114\n",
       "Switzerland    106\n",
       "Name: Dest Country Name, dtype: int64"
      ]
     },
     "execution_count": 7,
     "metadata": {},
     "output_type": "execute_result"
    }
   ],
   "source": [
    "unique.head(5)"
   ]
  },
  {
   "cell_type": "code",
   "execution_count": 12,
   "metadata": {},
   "outputs": [
    {
     "data": {
      "text/plain": [
       "Iceland     1\n",
       "Barbados    1\n",
       "Norway      1\n",
       "Poland      1\n",
       "Ecuador     1\n",
       "Bulgaria    1\n",
       "Name: Dest Country Name, dtype: int64"
      ]
     },
     "execution_count": 12,
     "metadata": {},
     "output_type": "execute_result"
    }
   ],
   "source": [
    "unique[31:37]"
   ]
  },
  {
   "cell_type": "code",
   "execution_count": 18,
   "metadata": {},
   "outputs": [
    {
     "data": {
      "text/plain": [
       "Israel       5\n",
       "Morocco      4\n",
       "Spain        4\n",
       "Guatemala    3\n",
       "Algeria      3\n",
       "Name: Dest Country Name, dtype: int64"
      ]
     },
     "execution_count": 18,
     "metadata": {},
     "output_type": "execute_result"
    }
   ],
   "source": [
    "unique[16:21]"
   ]
  },
  {
   "cell_type": "code",
   "execution_count": 8,
   "metadata": {},
   "outputs": [
    {
     "data": {
      "text/html": [
       "<div>\n",
       "<style scoped>\n",
       "    .dataframe tbody tr th:only-of-type {\n",
       "        vertical-align: middle;\n",
       "    }\n",
       "\n",
       "    .dataframe tbody tr th {\n",
       "        vertical-align: top;\n",
       "    }\n",
       "\n",
       "    .dataframe thead th {\n",
       "        text-align: right;\n",
       "    }\n",
       "</style>\n",
       "<table border=\"1\" class=\"dataframe\">\n",
       "  <thead>\n",
       "    <tr style=\"text-align: right;\">\n",
       "      <th></th>\n",
       "      <th>origin cou</th>\n",
       "      <th>Dest Country Name</th>\n",
       "      <th>Dest Population Density</th>\n",
       "    </tr>\n",
       "  </thead>\n",
       "  <tbody>\n",
       "    <tr>\n",
       "      <th>0</th>\n",
       "      <td>GB</td>\n",
       "      <td>Italy</td>\n",
       "      <td>198.388557</td>\n",
       "    </tr>\n",
       "    <tr>\n",
       "      <th>1</th>\n",
       "      <td>GB</td>\n",
       "      <td>Italy</td>\n",
       "      <td>198.388557</td>\n",
       "    </tr>\n",
       "    <tr>\n",
       "      <th>2</th>\n",
       "      <td>GB</td>\n",
       "      <td>Italy</td>\n",
       "      <td>198.388557</td>\n",
       "    </tr>\n",
       "    <tr>\n",
       "      <th>3</th>\n",
       "      <td>GB</td>\n",
       "      <td>Italy</td>\n",
       "      <td>198.388557</td>\n",
       "    </tr>\n",
       "    <tr>\n",
       "      <th>4</th>\n",
       "      <td>GB</td>\n",
       "      <td>Italy</td>\n",
       "      <td>198.388557</td>\n",
       "    </tr>\n",
       "    <tr>\n",
       "      <th>...</th>\n",
       "      <td>...</td>\n",
       "      <td>...</td>\n",
       "      <td>...</td>\n",
       "    </tr>\n",
       "    <tr>\n",
       "      <th>75108</th>\n",
       "      <td>GB</td>\n",
       "      <td>Jordan</td>\n",
       "      <td>115.668191</td>\n",
       "    </tr>\n",
       "    <tr>\n",
       "      <th>75109</th>\n",
       "      <td>GB</td>\n",
       "      <td>Jordan</td>\n",
       "      <td>115.668191</td>\n",
       "    </tr>\n",
       "    <tr>\n",
       "      <th>75110</th>\n",
       "      <td>GB</td>\n",
       "      <td>Jordan</td>\n",
       "      <td>115.668191</td>\n",
       "    </tr>\n",
       "    <tr>\n",
       "      <th>75111</th>\n",
       "      <td>GB</td>\n",
       "      <td>Jordan</td>\n",
       "      <td>115.668191</td>\n",
       "    </tr>\n",
       "    <tr>\n",
       "      <th>75112</th>\n",
       "      <td>GB</td>\n",
       "      <td>Jordan</td>\n",
       "      <td>115.668191</td>\n",
       "    </tr>\n",
       "  </tbody>\n",
       "</table>\n",
       "<p>75113 rows × 3 columns</p>\n",
       "</div>"
      ],
      "text/plain": [
       "      origin cou Dest Country Name  Dest Population Density\n",
       "0             GB             Italy               198.388557\n",
       "1             GB             Italy               198.388557\n",
       "2             GB             Italy               198.388557\n",
       "3             GB             Italy               198.388557\n",
       "4             GB             Italy               198.388557\n",
       "...          ...               ...                      ...\n",
       "75108         GB            Jordan               115.668191\n",
       "75109         GB            Jordan               115.668191\n",
       "75110         GB            Jordan               115.668191\n",
       "75111         GB            Jordan               115.668191\n",
       "75112         GB            Jordan               115.668191\n",
       "\n",
       "[75113 rows x 3 columns]"
      ]
     },
     "execution_count": 8,
     "metadata": {},
     "output_type": "execute_result"
    }
   ],
   "source": [
    "df_uk.drop(['callsign', 'number','icao24','origin','destination','dest cou'], axis=1)"
   ]
  },
  {
   "cell_type": "code",
   "execution_count": 9,
   "metadata": {},
   "outputs": [],
   "source": [
    "count_uk = df_uk['Dest Country Name'].value_counts()"
   ]
  },
  {
   "cell_type": "code",
   "execution_count": 10,
   "metadata": {},
   "outputs": [
    {
     "data": {
      "text/plain": [
       "Germany        8438\n",
       "Spain          8194\n",
       "Ireland        7781\n",
       "France         6136\n",
       "Italy          5713\n",
       "Netherlands    5447\n",
       "Switzerland    4928\n",
       "Poland         4123\n",
       "Portugal       3717\n",
       "Denmark        1699\n",
       "Belgium        1618\n",
       "Austria        1375\n",
       "Norway         1340\n",
       "Sweden         1185\n",
       "Canada         1013\n",
       "Hungary         973\n",
       "Romania         894\n",
       "Iceland         850\n",
       "Bulgaria        757\n",
       "Qatar           747\n",
       "Greece          708\n",
       "Lithuania       681\n",
       "India           578\n",
       "Finland         562\n",
       "Cyprus          555\n",
       "Barbados        548\n",
       "Malta           518\n",
       "Latvia          485\n",
       "Luxembourg      438\n",
       "Singapore       390\n",
       "Israel          377\n",
       "Ukraine         280\n",
       "Gibraltar       256\n",
       "Japan           207\n",
       "Bahrain         203\n",
       "Thailand        168\n",
       "Brazil          147\n",
       "Estonia         144\n",
       "Mexico          141\n",
       "Croatia         121\n",
       "Slovenia        102\n",
       "Australia        95\n",
       "Lebanon          92\n",
       "China            89\n",
       "Serbia           65\n",
       "Bermuda          59\n",
       "Algeria          36\n",
       "Senegal          33\n",
       "Jordan           24\n",
       "Argentina        20\n",
       "Morocco          16\n",
       "Malaysia         16\n",
       "Kazakhstan       16\n",
       "Philippines      11\n",
       "Vietnam           3\n",
       "Kenya             1\n",
       "Name: Dest Country Name, dtype: int64"
      ]
     },
     "execution_count": 10,
     "metadata": {},
     "output_type": "execute_result"
    }
   ],
   "source": [
    "count_uk"
   ]
  },
  {
   "cell_type": "code",
   "execution_count": 16,
   "metadata": {},
   "outputs": [
    {
     "data": {
      "text/plain": [
       "56"
      ]
     },
     "execution_count": 16,
     "metadata": {},
     "output_type": "execute_result"
    }
   ],
   "source": [
    "len(count_uk)"
   ]
  },
  {
   "cell_type": "code",
   "execution_count": 15,
   "metadata": {},
   "outputs": [
    {
     "data": {
      "text/plain": [
       "Germany    8438\n",
       "Spain      8194\n",
       "Ireland    7781\n",
       "France     6136\n",
       "Italy      5713\n",
       "Name: Dest Country Name, dtype: int64"
      ]
     },
     "execution_count": 15,
     "metadata": {},
     "output_type": "execute_result"
    }
   ],
   "source": [
    "count_uk.head(5)"
   ]
  },
  {
   "cell_type": "code",
   "execution_count": 17,
   "metadata": {},
   "outputs": [
    {
     "data": {
      "text/plain": [
       "Malaysia       16\n",
       "Kazakhstan     16\n",
       "Philippines    11\n",
       "Vietnam         3\n",
       "Kenya           1\n",
       "Name: Dest Country Name, dtype: int64"
      ]
     },
     "execution_count": 17,
     "metadata": {},
     "output_type": "execute_result"
    }
   ],
   "source": [
    "count_uk[51:56]"
   ]
  },
  {
   "cell_type": "code",
   "execution_count": 19,
   "metadata": {
    "scrolled": true
   },
   "outputs": [
    {
     "data": {
      "text/plain": [
       "Barbados      548\n",
       "Malta         518\n",
       "Latvia        485\n",
       "Luxembourg    438\n",
       "Singapore     390\n",
       "Name: Dest Country Name, dtype: int64"
      ]
     },
     "execution_count": 19,
     "metadata": {},
     "output_type": "execute_result"
    }
   ],
   "source": [
    "count_uk[25:30]"
   ]
  },
  {
   "cell_type": "code",
   "execution_count": null,
   "metadata": {},
   "outputs": [],
   "source": []
  }
 ],
 "metadata": {
  "kernelspec": {
   "display_name": "Python 3",
   "language": "python",
   "name": "python3"
  },
  "language_info": {
   "codemirror_mode": {
    "name": "ipython",
    "version": 3
   },
   "file_extension": ".py",
   "mimetype": "text/x-python",
   "name": "python",
   "nbconvert_exporter": "python",
   "pygments_lexer": "ipython3",
   "version": "3.8.3"
  }
 },
 "nbformat": 4,
 "nbformat_minor": 4
}
