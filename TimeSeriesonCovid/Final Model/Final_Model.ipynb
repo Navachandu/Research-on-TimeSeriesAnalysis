{
 "cells": [
  {
   "cell_type": "markdown",
   "id": "027febae",
   "metadata": {},
   "source": [
    "###### Step 1: Importing Libraries(Using Darts for timeseries forecasting)"
   ]
  },
  {
   "cell_type": "code",
   "execution_count": 1,
   "id": "1b6eee1c",
   "metadata": {},
   "outputs": [],
   "source": [
    "from darts import TimeSeries\n",
    "import pandas as pd"
   ]
  },
  {
   "cell_type": "markdown",
   "id": "a29fde07",
   "metadata": {},
   "source": [
    "###### Step 2: Importing covid cases data from covid19h (Source: John Hopkins) from 1st November and relevant data for analysis"
   ]
  },
  {
   "cell_type": "code",
   "execution_count": 2,
   "id": "786df82b",
   "metadata": {},
   "outputs": [],
   "source": [
    "# Importing data obtained from Data Acquisition Team (This data contains 40% of seating capacity)\n",
    "data = pd.read_csv('data_sa_new.csv')\n",
    "data[\"day\"] = pd.to_datetime(data.day, format='%Y-%m-%d')"
   ]
  },
  {
   "cell_type": "code",
   "execution_count": 3,
   "id": "de8ae95a",
   "metadata": {},
   "outputs": [],
   "source": [
    "countries = list(data[\"dest cou\"].unique())"
   ]
  },
  {
   "cell_type": "code",
   "execution_count": 4,
   "id": "503f603b",
   "metadata": {},
   "outputs": [
    {
     "name": "stderr",
     "output_type": "stream",
     "text": [
      "C:\\Users\\Aditya\\anaconda3\\lib\\site-packages\\covid19dh\\_cite.py:85: FutureWarning: The frame.append method is deprecated and will be removed from pandas in a future version. Use pandas.concat instead.\n",
      "  src = src.append(sources[\n",
      "C:\\Users\\Aditya\\anaconda3\\lib\\site-packages\\covid19dh\\_cite.py:96: FutureWarning: The frame.append method is deprecated and will be removed from pandas in a future version. Use pandas.concat instead.\n",
      "  references = references.append(src)\n",
      "C:\\Users\\Aditya\\anaconda3\\lib\\site-packages\\covid19dh\\_cite.py:85: FutureWarning: The frame.append method is deprecated and will be removed from pandas in a future version. Use pandas.concat instead.\n",
      "  src = src.append(sources[\n",
      "C:\\Users\\Aditya\\anaconda3\\lib\\site-packages\\covid19dh\\_cite.py:96: FutureWarning: The frame.append method is deprecated and will be removed from pandas in a future version. Use pandas.concat instead.\n",
      "  references = references.append(src)\n",
      "C:\\Users\\Aditya\\anaconda3\\lib\\site-packages\\covid19dh\\_cite.py:85: FutureWarning: The frame.append method is deprecated and will be removed from pandas in a future version. Use pandas.concat instead.\n",
      "  src = src.append(sources[\n",
      "C:\\Users\\Aditya\\anaconda3\\lib\\site-packages\\covid19dh\\_cite.py:96: FutureWarning: The frame.append method is deprecated and will be removed from pandas in a future version. Use pandas.concat instead.\n",
      "  references = references.append(src)\n",
      "C:\\Users\\Aditya\\anaconda3\\lib\\site-packages\\covid19dh\\_cite.py:85: FutureWarning: The frame.append method is deprecated and will be removed from pandas in a future version. Use pandas.concat instead.\n",
      "  src = src.append(sources[\n",
      "C:\\Users\\Aditya\\anaconda3\\lib\\site-packages\\covid19dh\\_cite.py:96: FutureWarning: The frame.append method is deprecated and will be removed from pandas in a future version. Use pandas.concat instead.\n",
      "  references = references.append(src)\n",
      "C:\\Users\\Aditya\\anaconda3\\lib\\site-packages\\covid19dh\\_cite.py:85: FutureWarning: The frame.append method is deprecated and will be removed from pandas in a future version. Use pandas.concat instead.\n",
      "  src = src.append(sources[\n",
      "C:\\Users\\Aditya\\anaconda3\\lib\\site-packages\\covid19dh\\_cite.py:96: FutureWarning: The frame.append method is deprecated and will be removed from pandas in a future version. Use pandas.concat instead.\n",
      "  references = references.append(src)\n",
      "C:\\Users\\Aditya\\anaconda3\\lib\\site-packages\\covid19dh\\_cite.py:85: FutureWarning: The frame.append method is deprecated and will be removed from pandas in a future version. Use pandas.concat instead.\n",
      "  src = src.append(sources[\n",
      "C:\\Users\\Aditya\\anaconda3\\lib\\site-packages\\covid19dh\\_cite.py:96: FutureWarning: The frame.append method is deprecated and will be removed from pandas in a future version. Use pandas.concat instead.\n",
      "  references = references.append(src)\n",
      "C:\\Users\\Aditya\\anaconda3\\lib\\site-packages\\covid19dh\\_cite.py:85: FutureWarning: The frame.append method is deprecated and will be removed from pandas in a future version. Use pandas.concat instead.\n",
      "  src = src.append(sources[\n",
      "C:\\Users\\Aditya\\anaconda3\\lib\\site-packages\\covid19dh\\_cite.py:96: FutureWarning: The frame.append method is deprecated and will be removed from pandas in a future version. Use pandas.concat instead.\n",
      "  references = references.append(src)\n",
      "C:\\Users\\Aditya\\anaconda3\\lib\\site-packages\\covid19dh\\_cite.py:85: FutureWarning: The frame.append method is deprecated and will be removed from pandas in a future version. Use pandas.concat instead.\n",
      "  src = src.append(sources[\n",
      "C:\\Users\\Aditya\\anaconda3\\lib\\site-packages\\covid19dh\\_cite.py:96: FutureWarning: The frame.append method is deprecated and will be removed from pandas in a future version. Use pandas.concat instead.\n",
      "  references = references.append(src)\n",
      "C:\\Users\\Aditya\\anaconda3\\lib\\site-packages\\covid19dh\\_cite.py:85: FutureWarning: The frame.append method is deprecated and will be removed from pandas in a future version. Use pandas.concat instead.\n",
      "  src = src.append(sources[\n",
      "C:\\Users\\Aditya\\anaconda3\\lib\\site-packages\\covid19dh\\_cite.py:96: FutureWarning: The frame.append method is deprecated and will be removed from pandas in a future version. Use pandas.concat instead.\n",
      "  references = references.append(src)\n",
      "C:\\Users\\Aditya\\anaconda3\\lib\\site-packages\\covid19dh\\_cite.py:85: FutureWarning: The frame.append method is deprecated and will be removed from pandas in a future version. Use pandas.concat instead.\n",
      "  src = src.append(sources[\n",
      "C:\\Users\\Aditya\\anaconda3\\lib\\site-packages\\covid19dh\\_cite.py:96: FutureWarning: The frame.append method is deprecated and will be removed from pandas in a future version. Use pandas.concat instead.\n",
      "  references = references.append(src)\n",
      "C:\\Users\\Aditya\\anaconda3\\lib\\site-packages\\covid19dh\\_cite.py:85: FutureWarning: The frame.append method is deprecated and will be removed from pandas in a future version. Use pandas.concat instead.\n",
      "  src = src.append(sources[\n",
      "C:\\Users\\Aditya\\anaconda3\\lib\\site-packages\\covid19dh\\_cite.py:96: FutureWarning: The frame.append method is deprecated and will be removed from pandas in a future version. Use pandas.concat instead.\n",
      "  references = references.append(src)\n",
      "C:\\Users\\Aditya\\anaconda3\\lib\\site-packages\\covid19dh\\_cite.py:85: FutureWarning: The frame.append method is deprecated and will be removed from pandas in a future version. Use pandas.concat instead.\n",
      "  src = src.append(sources[\n",
      "C:\\Users\\Aditya\\anaconda3\\lib\\site-packages\\covid19dh\\_cite.py:96: FutureWarning: The frame.append method is deprecated and will be removed from pandas in a future version. Use pandas.concat instead.\n",
      "  references = references.append(src)\n",
      "C:\\Users\\Aditya\\anaconda3\\lib\\site-packages\\covid19dh\\_cite.py:85: FutureWarning: The frame.append method is deprecated and will be removed from pandas in a future version. Use pandas.concat instead.\n",
      "  src = src.append(sources[\n",
      "C:\\Users\\Aditya\\anaconda3\\lib\\site-packages\\covid19dh\\_cite.py:96: FutureWarning: The frame.append method is deprecated and will be removed from pandas in a future version. Use pandas.concat instead.\n",
      "  references = references.append(src)\n",
      "C:\\Users\\Aditya\\anaconda3\\lib\\site-packages\\covid19dh\\_cite.py:85: FutureWarning: The frame.append method is deprecated and will be removed from pandas in a future version. Use pandas.concat instead.\n",
      "  src = src.append(sources[\n",
      "C:\\Users\\Aditya\\anaconda3\\lib\\site-packages\\covid19dh\\_cite.py:96: FutureWarning: The frame.append method is deprecated and will be removed from pandas in a future version. Use pandas.concat instead.\n",
      "  references = references.append(src)\n",
      "C:\\Users\\Aditya\\anaconda3\\lib\\site-packages\\covid19dh\\_cite.py:85: FutureWarning: The frame.append method is deprecated and will be removed from pandas in a future version. Use pandas.concat instead.\n",
      "  src = src.append(sources[\n",
      "C:\\Users\\Aditya\\anaconda3\\lib\\site-packages\\covid19dh\\_cite.py:96: FutureWarning: The frame.append method is deprecated and will be removed from pandas in a future version. Use pandas.concat instead.\n",
      "  references = references.append(src)\n",
      "C:\\Users\\Aditya\\anaconda3\\lib\\site-packages\\covid19dh\\_cite.py:85: FutureWarning: The frame.append method is deprecated and will be removed from pandas in a future version. Use pandas.concat instead.\n",
      "  src = src.append(sources[\n",
      "C:\\Users\\Aditya\\anaconda3\\lib\\site-packages\\covid19dh\\_cite.py:96: FutureWarning: The frame.append method is deprecated and will be removed from pandas in a future version. Use pandas.concat instead.\n",
      "  references = references.append(src)\n",
      "C:\\Users\\Aditya\\anaconda3\\lib\\site-packages\\covid19dh\\_cite.py:85: FutureWarning: The frame.append method is deprecated and will be removed from pandas in a future version. Use pandas.concat instead.\n",
      "  src = src.append(sources[\n",
      "C:\\Users\\Aditya\\anaconda3\\lib\\site-packages\\covid19dh\\_cite.py:96: FutureWarning: The frame.append method is deprecated and will be removed from pandas in a future version. Use pandas.concat instead.\n",
      "  references = references.append(src)\n",
      "C:\\Users\\Aditya\\anaconda3\\lib\\site-packages\\covid19dh\\_cite.py:85: FutureWarning: The frame.append method is deprecated and will be removed from pandas in a future version. Use pandas.concat instead.\n",
      "  src = src.append(sources[\n",
      "C:\\Users\\Aditya\\anaconda3\\lib\\site-packages\\covid19dh\\_cite.py:96: FutureWarning: The frame.append method is deprecated and will be removed from pandas in a future version. Use pandas.concat instead.\n",
      "  references = references.append(src)\n",
      "C:\\Users\\Aditya\\anaconda3\\lib\\site-packages\\covid19dh\\_cite.py:85: FutureWarning: The frame.append method is deprecated and will be removed from pandas in a future version. Use pandas.concat instead.\n",
      "  src = src.append(sources[\n",
      "C:\\Users\\Aditya\\anaconda3\\lib\\site-packages\\covid19dh\\_cite.py:96: FutureWarning: The frame.append method is deprecated and will be removed from pandas in a future version. Use pandas.concat instead.\n",
      "  references = references.append(src)\n",
      "C:\\Users\\Aditya\\anaconda3\\lib\\site-packages\\covid19dh\\_cite.py:85: FutureWarning: The frame.append method is deprecated and will be removed from pandas in a future version. Use pandas.concat instead.\n",
      "  src = src.append(sources[\n",
      "C:\\Users\\Aditya\\anaconda3\\lib\\site-packages\\covid19dh\\_cite.py:96: FutureWarning: The frame.append method is deprecated and will be removed from pandas in a future version. Use pandas.concat instead.\n",
      "  references = references.append(src)\n",
      "C:\\Users\\Aditya\\anaconda3\\lib\\site-packages\\covid19dh\\_cite.py:85: FutureWarning: The frame.append method is deprecated and will be removed from pandas in a future version. Use pandas.concat instead.\n",
      "  src = src.append(sources[\n",
      "C:\\Users\\Aditya\\anaconda3\\lib\\site-packages\\covid19dh\\_cite.py:96: FutureWarning: The frame.append method is deprecated and will be removed from pandas in a future version. Use pandas.concat instead.\n",
      "  references = references.append(src)\n"
     ]
    },
    {
     "name": "stderr",
     "output_type": "stream",
     "text": [
      "C:\\Users\\Aditya\\anaconda3\\lib\\site-packages\\covid19dh\\_cite.py:85: FutureWarning: The frame.append method is deprecated and will be removed from pandas in a future version. Use pandas.concat instead.\n",
      "  src = src.append(sources[\n",
      "C:\\Users\\Aditya\\anaconda3\\lib\\site-packages\\covid19dh\\_cite.py:96: FutureWarning: The frame.append method is deprecated and will be removed from pandas in a future version. Use pandas.concat instead.\n",
      "  references = references.append(src)\n",
      "C:\\Users\\Aditya\\anaconda3\\lib\\site-packages\\covid19dh\\_cite.py:85: FutureWarning: The frame.append method is deprecated and will be removed from pandas in a future version. Use pandas.concat instead.\n",
      "  src = src.append(sources[\n",
      "C:\\Users\\Aditya\\anaconda3\\lib\\site-packages\\covid19dh\\_cite.py:96: FutureWarning: The frame.append method is deprecated and will be removed from pandas in a future version. Use pandas.concat instead.\n",
      "  references = references.append(src)\n",
      "C:\\Users\\Aditya\\anaconda3\\lib\\site-packages\\covid19dh\\_cite.py:85: FutureWarning: The frame.append method is deprecated and will be removed from pandas in a future version. Use pandas.concat instead.\n",
      "  src = src.append(sources[\n",
      "C:\\Users\\Aditya\\anaconda3\\lib\\site-packages\\covid19dh\\_cite.py:96: FutureWarning: The frame.append method is deprecated and will be removed from pandas in a future version. Use pandas.concat instead.\n",
      "  references = references.append(src)\n",
      "C:\\Users\\Aditya\\anaconda3\\lib\\site-packages\\covid19dh\\_cite.py:85: FutureWarning: The frame.append method is deprecated and will be removed from pandas in a future version. Use pandas.concat instead.\n",
      "  src = src.append(sources[\n",
      "C:\\Users\\Aditya\\anaconda3\\lib\\site-packages\\covid19dh\\_cite.py:96: FutureWarning: The frame.append method is deprecated and will be removed from pandas in a future version. Use pandas.concat instead.\n",
      "  references = references.append(src)\n",
      "C:\\Users\\Aditya\\anaconda3\\lib\\site-packages\\covid19dh\\_cite.py:85: FutureWarning: The frame.append method is deprecated and will be removed from pandas in a future version. Use pandas.concat instead.\n",
      "  src = src.append(sources[\n",
      "C:\\Users\\Aditya\\anaconda3\\lib\\site-packages\\covid19dh\\_cite.py:96: FutureWarning: The frame.append method is deprecated and will be removed from pandas in a future version. Use pandas.concat instead.\n",
      "  references = references.append(src)\n",
      "C:\\Users\\Aditya\\anaconda3\\lib\\site-packages\\covid19dh\\_cite.py:85: FutureWarning: The frame.append method is deprecated and will be removed from pandas in a future version. Use pandas.concat instead.\n",
      "  src = src.append(sources[\n",
      "C:\\Users\\Aditya\\anaconda3\\lib\\site-packages\\covid19dh\\_cite.py:96: FutureWarning: The frame.append method is deprecated and will be removed from pandas in a future version. Use pandas.concat instead.\n",
      "  references = references.append(src)\n",
      "C:\\Users\\Aditya\\anaconda3\\lib\\site-packages\\covid19dh\\_cite.py:85: FutureWarning: The frame.append method is deprecated and will be removed from pandas in a future version. Use pandas.concat instead.\n",
      "  src = src.append(sources[\n",
      "C:\\Users\\Aditya\\anaconda3\\lib\\site-packages\\covid19dh\\_cite.py:96: FutureWarning: The frame.append method is deprecated and will be removed from pandas in a future version. Use pandas.concat instead.\n",
      "  references = references.append(src)\n",
      "C:\\Users\\Aditya\\anaconda3\\lib\\site-packages\\covid19dh\\_cite.py:85: FutureWarning: The frame.append method is deprecated and will be removed from pandas in a future version. Use pandas.concat instead.\n",
      "  src = src.append(sources[\n",
      "C:\\Users\\Aditya\\anaconda3\\lib\\site-packages\\covid19dh\\_cite.py:96: FutureWarning: The frame.append method is deprecated and will be removed from pandas in a future version. Use pandas.concat instead.\n",
      "  references = references.append(src)\n",
      "C:\\Users\\Aditya\\anaconda3\\lib\\site-packages\\covid19dh\\_cite.py:85: FutureWarning: The frame.append method is deprecated and will be removed from pandas in a future version. Use pandas.concat instead.\n",
      "  src = src.append(sources[\n",
      "C:\\Users\\Aditya\\anaconda3\\lib\\site-packages\\covid19dh\\_cite.py:96: FutureWarning: The frame.append method is deprecated and will be removed from pandas in a future version. Use pandas.concat instead.\n",
      "  references = references.append(src)\n",
      "C:\\Users\\Aditya\\anaconda3\\lib\\site-packages\\covid19dh\\_cite.py:85: FutureWarning: The frame.append method is deprecated and will be removed from pandas in a future version. Use pandas.concat instead.\n",
      "  src = src.append(sources[\n",
      "C:\\Users\\Aditya\\anaconda3\\lib\\site-packages\\covid19dh\\_cite.py:96: FutureWarning: The frame.append method is deprecated and will be removed from pandas in a future version. Use pandas.concat instead.\n",
      "  references = references.append(src)\n",
      "C:\\Users\\Aditya\\anaconda3\\lib\\site-packages\\covid19dh\\_cite.py:85: FutureWarning: The frame.append method is deprecated and will be removed from pandas in a future version. Use pandas.concat instead.\n",
      "  src = src.append(sources[\n",
      "C:\\Users\\Aditya\\anaconda3\\lib\\site-packages\\covid19dh\\_cite.py:96: FutureWarning: The frame.append method is deprecated and will be removed from pandas in a future version. Use pandas.concat instead.\n",
      "  references = references.append(src)\n",
      "C:\\Users\\Aditya\\anaconda3\\lib\\site-packages\\covid19dh\\_cite.py:85: FutureWarning: The frame.append method is deprecated and will be removed from pandas in a future version. Use pandas.concat instead.\n",
      "  src = src.append(sources[\n",
      "C:\\Users\\Aditya\\anaconda3\\lib\\site-packages\\covid19dh\\_cite.py:96: FutureWarning: The frame.append method is deprecated and will be removed from pandas in a future version. Use pandas.concat instead.\n",
      "  references = references.append(src)\n",
      "C:\\Users\\Aditya\\anaconda3\\lib\\site-packages\\covid19dh\\_cite.py:85: FutureWarning: The frame.append method is deprecated and will be removed from pandas in a future version. Use pandas.concat instead.\n",
      "  src = src.append(sources[\n",
      "C:\\Users\\Aditya\\anaconda3\\lib\\site-packages\\covid19dh\\_cite.py:96: FutureWarning: The frame.append method is deprecated and will be removed from pandas in a future version. Use pandas.concat instead.\n",
      "  references = references.append(src)\n",
      "C:\\Users\\Aditya\\anaconda3\\lib\\site-packages\\covid19dh\\_cite.py:85: FutureWarning: The frame.append method is deprecated and will be removed from pandas in a future version. Use pandas.concat instead.\n",
      "  src = src.append(sources[\n",
      "C:\\Users\\Aditya\\anaconda3\\lib\\site-packages\\covid19dh\\_cite.py:96: FutureWarning: The frame.append method is deprecated and will be removed from pandas in a future version. Use pandas.concat instead.\n",
      "  references = references.append(src)\n",
      "C:\\Users\\Aditya\\anaconda3\\lib\\site-packages\\covid19dh\\_cite.py:85: FutureWarning: The frame.append method is deprecated and will be removed from pandas in a future version. Use pandas.concat instead.\n",
      "  src = src.append(sources[\n",
      "C:\\Users\\Aditya\\anaconda3\\lib\\site-packages\\covid19dh\\_cite.py:96: FutureWarning: The frame.append method is deprecated and will be removed from pandas in a future version. Use pandas.concat instead.\n",
      "  references = references.append(src)\n",
      "C:\\Users\\Aditya\\anaconda3\\lib\\site-packages\\covid19dh\\_cite.py:85: FutureWarning: The frame.append method is deprecated and will be removed from pandas in a future version. Use pandas.concat instead.\n",
      "  src = src.append(sources[\n",
      "C:\\Users\\Aditya\\anaconda3\\lib\\site-packages\\covid19dh\\_cite.py:96: FutureWarning: The frame.append method is deprecated and will be removed from pandas in a future version. Use pandas.concat instead.\n",
      "  references = references.append(src)\n",
      "C:\\Users\\Aditya\\anaconda3\\lib\\site-packages\\covid19dh\\_cite.py:85: FutureWarning: The frame.append method is deprecated and will be removed from pandas in a future version. Use pandas.concat instead.\n",
      "  src = src.append(sources[\n",
      "C:\\Users\\Aditya\\anaconda3\\lib\\site-packages\\covid19dh\\_cite.py:96: FutureWarning: The frame.append method is deprecated and will be removed from pandas in a future version. Use pandas.concat instead.\n",
      "  references = references.append(src)\n",
      "C:\\Users\\Aditya\\anaconda3\\lib\\site-packages\\covid19dh\\_cite.py:85: FutureWarning: The frame.append method is deprecated and will be removed from pandas in a future version. Use pandas.concat instead.\n",
      "  src = src.append(sources[\n",
      "C:\\Users\\Aditya\\anaconda3\\lib\\site-packages\\covid19dh\\_cite.py:96: FutureWarning: The frame.append method is deprecated and will be removed from pandas in a future version. Use pandas.concat instead.\n",
      "  references = references.append(src)\n",
      "C:\\Users\\Aditya\\anaconda3\\lib\\site-packages\\covid19dh\\_cite.py:85: FutureWarning: The frame.append method is deprecated and will be removed from pandas in a future version. Use pandas.concat instead.\n",
      "  src = src.append(sources[\n"
     ]
    },
    {
     "name": "stderr",
     "output_type": "stream",
     "text": [
      "C:\\Users\\Aditya\\anaconda3\\lib\\site-packages\\covid19dh\\_cite.py:96: FutureWarning: The frame.append method is deprecated and will be removed from pandas in a future version. Use pandas.concat instead.\n",
      "  references = references.append(src)\n",
      "C:\\Users\\Aditya\\anaconda3\\lib\\site-packages\\covid19dh\\_cite.py:85: FutureWarning: The frame.append method is deprecated and will be removed from pandas in a future version. Use pandas.concat instead.\n",
      "  src = src.append(sources[\n",
      "C:\\Users\\Aditya\\anaconda3\\lib\\site-packages\\covid19dh\\_cite.py:96: FutureWarning: The frame.append method is deprecated and will be removed from pandas in a future version. Use pandas.concat instead.\n",
      "  references = references.append(src)\n",
      "C:\\Users\\Aditya\\anaconda3\\lib\\site-packages\\covid19dh\\_cite.py:85: FutureWarning: The frame.append method is deprecated and will be removed from pandas in a future version. Use pandas.concat instead.\n",
      "  src = src.append(sources[\n",
      "C:\\Users\\Aditya\\anaconda3\\lib\\site-packages\\covid19dh\\_cite.py:96: FutureWarning: The frame.append method is deprecated and will be removed from pandas in a future version. Use pandas.concat instead.\n",
      "  references = references.append(src)\n",
      "C:\\Users\\Aditya\\anaconda3\\lib\\site-packages\\covid19dh\\_cite.py:85: FutureWarning: The frame.append method is deprecated and will be removed from pandas in a future version. Use pandas.concat instead.\n",
      "  src = src.append(sources[\n",
      "C:\\Users\\Aditya\\anaconda3\\lib\\site-packages\\covid19dh\\_cite.py:96: FutureWarning: The frame.append method is deprecated and will be removed from pandas in a future version. Use pandas.concat instead.\n",
      "  references = references.append(src)\n"
     ]
    },
    {
     "name": "stdout",
     "output_type": "stream",
     "text": [
      "We have invested a lot of time and effort in creating COVID-19 Data Hub, please cite the following when using it:\n",
      "\n",
      "\t\u001b[1mGuidotti, E., Ardia, D., (2020), \"COVID-19 Data Hub\", Journal of Open Source Software 5(51):2376, doi: 10.21105/joss.02376.\u001b[0m\n",
      "\n",
      "A BibTeX entry for LaTeX users is\n",
      "\n",
      "\t@Article{,\n",
      "\t\ttitle = {COVID-19 Data Hub},\n",
      "\t\tyear = {2020},\n",
      "\t\tdoi = {10.21105/joss.02376},\n",
      "\t\tauthor = {Emanuele Guidotti and David Ardia},\n",
      "\t\tjournal = {Journal of Open Source Software},\n",
      "\t\tvolume = {5},\n",
      "\t\tnumber = {51},\n",
      "\t\tpages = {2376},\n",
      "\t}\n",
      "\n",
      "\u001b[33mTo hide this message use 'verbose = False'.\u001b[0m\n"
     ]
    },
    {
     "name": "stderr",
     "output_type": "stream",
     "text": [
      "C:\\Users\\Aditya\\anaconda3\\lib\\site-packages\\covid19dh\\_cite.py:85: FutureWarning: The frame.append method is deprecated and will be removed from pandas in a future version. Use pandas.concat instead.\n",
      "  src = src.append(sources[\n",
      "C:\\Users\\Aditya\\anaconda3\\lib\\site-packages\\covid19dh\\_cite.py:96: FutureWarning: The frame.append method is deprecated and will be removed from pandas in a future version. Use pandas.concat instead.\n",
      "  references = references.append(src)\n",
      "C:\\Users\\Aditya\\anaconda3\\lib\\site-packages\\covid19dh\\_cite.py:85: FutureWarning: The frame.append method is deprecated and will be removed from pandas in a future version. Use pandas.concat instead.\n",
      "  src = src.append(sources[\n",
      "C:\\Users\\Aditya\\anaconda3\\lib\\site-packages\\covid19dh\\_cite.py:96: FutureWarning: The frame.append method is deprecated and will be removed from pandas in a future version. Use pandas.concat instead.\n",
      "  references = references.append(src)\n"
     ]
    }
   ],
   "source": [
    "from datetime import datetime\n",
    "from covid19dh import covid19\n",
    "x, src = covid19(countries, start = datetime(2021,11,1), end = \"2022-03-04\")\n",
    "x[\"date\"] = pd.to_datetime(x['date']).dt.date"
   ]
  },
  {
   "cell_type": "markdown",
   "id": "619a80ae",
   "metadata": {},
   "source": [
    "###### Step3: Data Preparation for Analysis"
   ]
  },
  {
   "cell_type": "code",
   "execution_count": 5,
   "id": "c8040bd4",
   "metadata": {},
   "outputs": [],
   "source": [
    "# Divinding data based on the country\n",
    "import numpy as np\n",
    "countries=list(data[\"Countries\"].unique())\n",
    "countries_data=[data.loc[data[\"Countries\"] == i] for i in countries]\n",
    "start, end = list(countries_data[0].day)[0],list(countries_data[0].day)[-1]\n",
    "dt_ran = pd.date_range(start=start,end=end,freq=\"D\")\n",
    "t_index=pd.DatetimeIndex(dt_ran)\n",
    "countries_data = [i.set_index(\"day\").reindex(t_index).fillna(0).reset_index() for i in countries_data]\n",
    "for i in countries_data:\n",
    "    pop_d = [i for i in list(i['Population Density'].unique()) if i!=0]\n",
    "    dest_cnt = [i for i in list(i['dest cou'].unique()) if i!=0]\n",
    "    i['Population Density'] = i['Population Density'].replace(0,pop_d[0]).values\n",
    "    i['dest cou'] = i['dest cou'].replace(0,dest_cnt[0]).values\n",
    "    i['Seats'] = i['Seats'].cumsum()"
   ]
  },
  {
   "cell_type": "code",
   "execution_count": 6,
   "id": "c64a6dc2",
   "metadata": {},
   "outputs": [
    {
     "name": "stderr",
     "output_type": "stream",
     "text": [
      "C:\\Users\\Aditya\\anaconda3\\lib\\site-packages\\pandas\\core\\ops\\array_ops.py:73: FutureWarning: Comparison of Timestamp with datetime.date is deprecated in order to match the standard library behavior. In a future version these will be considered non-comparable. Use 'ts == pd.Timestamp(date)' or 'ts.date() == date' instead.\n",
      "  result = libops.scalar_compare(x.ravel(), y, op)\n",
      "C:\\Users\\Aditya\\anaconda3\\lib\\site-packages\\pandas\\core\\ops\\array_ops.py:73: FutureWarning: Comparison of Timestamp with datetime.date is deprecated in order to match the standard library behavior. In a future version these will be considered non-comparable. Use 'ts == pd.Timestamp(date)' or 'ts.date() == date' instead.\n",
      "  result = libops.scalar_compare(x.ravel(), y, op)\n",
      "C:\\Users\\Aditya\\anaconda3\\lib\\site-packages\\pandas\\core\\ops\\array_ops.py:73: FutureWarning: Comparison of Timestamp with datetime.date is deprecated in order to match the standard library behavior. In a future version these will be considered non-comparable. Use 'ts == pd.Timestamp(date)' or 'ts.date() == date' instead.\n",
      "  result = libops.scalar_compare(x.ravel(), y, op)\n",
      "C:\\Users\\Aditya\\anaconda3\\lib\\site-packages\\pandas\\core\\ops\\array_ops.py:73: FutureWarning: Comparison of Timestamp with datetime.date is deprecated in order to match the standard library behavior. In a future version these will be considered non-comparable. Use 'ts == pd.Timestamp(date)' or 'ts.date() == date' instead.\n",
      "  result = libops.scalar_compare(x.ravel(), y, op)\n",
      "C:\\Users\\Aditya\\anaconda3\\lib\\site-packages\\pandas\\core\\ops\\array_ops.py:73: FutureWarning: Comparison of Timestamp with datetime.date is deprecated in order to match the standard library behavior. In a future version these will be considered non-comparable. Use 'ts == pd.Timestamp(date)' or 'ts.date() == date' instead.\n",
      "  result = libops.scalar_compare(x.ravel(), y, op)\n",
      "C:\\Users\\Aditya\\anaconda3\\lib\\site-packages\\pandas\\core\\ops\\array_ops.py:73: FutureWarning: Comparison of Timestamp with datetime.date is deprecated in order to match the standard library behavior. In a future version these will be considered non-comparable. Use 'ts == pd.Timestamp(date)' or 'ts.date() == date' instead.\n",
      "  result = libops.scalar_compare(x.ravel(), y, op)\n",
      "C:\\Users\\Aditya\\anaconda3\\lib\\site-packages\\pandas\\core\\ops\\array_ops.py:73: FutureWarning: Comparison of Timestamp with datetime.date is deprecated in order to match the standard library behavior. In a future version these will be considered non-comparable. Use 'ts == pd.Timestamp(date)' or 'ts.date() == date' instead.\n",
      "  result = libops.scalar_compare(x.ravel(), y, op)\n",
      "C:\\Users\\Aditya\\anaconda3\\lib\\site-packages\\pandas\\core\\ops\\array_ops.py:73: FutureWarning: Comparison of Timestamp with datetime.date is deprecated in order to match the standard library behavior. In a future version these will be considered non-comparable. Use 'ts == pd.Timestamp(date)' or 'ts.date() == date' instead.\n",
      "  result = libops.scalar_compare(x.ravel(), y, op)\n",
      "C:\\Users\\Aditya\\anaconda3\\lib\\site-packages\\pandas\\core\\ops\\array_ops.py:73: FutureWarning: Comparison of Timestamp with datetime.date is deprecated in order to match the standard library behavior. In a future version these will be considered non-comparable. Use 'ts == pd.Timestamp(date)' or 'ts.date() == date' instead.\n",
      "  result = libops.scalar_compare(x.ravel(), y, op)\n",
      "C:\\Users\\Aditya\\anaconda3\\lib\\site-packages\\pandas\\core\\ops\\array_ops.py:73: FutureWarning: Comparison of Timestamp with datetime.date is deprecated in order to match the standard library behavior. In a future version these will be considered non-comparable. Use 'ts == pd.Timestamp(date)' or 'ts.date() == date' instead.\n",
      "  result = libops.scalar_compare(x.ravel(), y, op)\n",
      "C:\\Users\\Aditya\\anaconda3\\lib\\site-packages\\pandas\\core\\ops\\array_ops.py:73: FutureWarning: Comparison of Timestamp with datetime.date is deprecated in order to match the standard library behavior. In a future version these will be considered non-comparable. Use 'ts == pd.Timestamp(date)' or 'ts.date() == date' instead.\n",
      "  result = libops.scalar_compare(x.ravel(), y, op)\n",
      "C:\\Users\\Aditya\\anaconda3\\lib\\site-packages\\pandas\\core\\ops\\array_ops.py:73: FutureWarning: Comparison of Timestamp with datetime.date is deprecated in order to match the standard library behavior. In a future version these will be considered non-comparable. Use 'ts == pd.Timestamp(date)' or 'ts.date() == date' instead.\n",
      "  result = libops.scalar_compare(x.ravel(), y, op)\n",
      "C:\\Users\\Aditya\\anaconda3\\lib\\site-packages\\pandas\\core\\ops\\array_ops.py:73: FutureWarning: Comparison of Timestamp with datetime.date is deprecated in order to match the standard library behavior. In a future version these will be considered non-comparable. Use 'ts == pd.Timestamp(date)' or 'ts.date() == date' instead.\n",
      "  result = libops.scalar_compare(x.ravel(), y, op)\n",
      "C:\\Users\\Aditya\\anaconda3\\lib\\site-packages\\pandas\\core\\ops\\array_ops.py:73: FutureWarning: Comparison of Timestamp with datetime.date is deprecated in order to match the standard library behavior. In a future version these will be considered non-comparable. Use 'ts == pd.Timestamp(date)' or 'ts.date() == date' instead.\n",
      "  result = libops.scalar_compare(x.ravel(), y, op)\n",
      "C:\\Users\\Aditya\\anaconda3\\lib\\site-packages\\pandas\\core\\ops\\array_ops.py:73: FutureWarning: Comparison of Timestamp with datetime.date is deprecated in order to match the standard library behavior. In a future version these will be considered non-comparable. Use 'ts == pd.Timestamp(date)' or 'ts.date() == date' instead.\n",
      "  result = libops.scalar_compare(x.ravel(), y, op)\n",
      "C:\\Users\\Aditya\\anaconda3\\lib\\site-packages\\pandas\\core\\ops\\array_ops.py:73: FutureWarning: Comparison of Timestamp with datetime.date is deprecated in order to match the standard library behavior. In a future version these will be considered non-comparable. Use 'ts == pd.Timestamp(date)' or 'ts.date() == date' instead.\n",
      "  result = libops.scalar_compare(x.ravel(), y, op)\n",
      "C:\\Users\\Aditya\\anaconda3\\lib\\site-packages\\pandas\\core\\ops\\array_ops.py:73: FutureWarning: Comparison of Timestamp with datetime.date is deprecated in order to match the standard library behavior. In a future version these will be considered non-comparable. Use 'ts == pd.Timestamp(date)' or 'ts.date() == date' instead.\n",
      "  result = libops.scalar_compare(x.ravel(), y, op)\n",
      "C:\\Users\\Aditya\\anaconda3\\lib\\site-packages\\pandas\\core\\ops\\array_ops.py:73: FutureWarning: Comparison of Timestamp with datetime.date is deprecated in order to match the standard library behavior. In a future version these will be considered non-comparable. Use 'ts == pd.Timestamp(date)' or 'ts.date() == date' instead.\n",
      "  result = libops.scalar_compare(x.ravel(), y, op)\n",
      "C:\\Users\\Aditya\\anaconda3\\lib\\site-packages\\pandas\\core\\ops\\array_ops.py:73: FutureWarning: Comparison of Timestamp with datetime.date is deprecated in order to match the standard library behavior. In a future version these will be considered non-comparable. Use 'ts == pd.Timestamp(date)' or 'ts.date() == date' instead.\n",
      "  result = libops.scalar_compare(x.ravel(), y, op)\n",
      "C:\\Users\\Aditya\\anaconda3\\lib\\site-packages\\pandas\\core\\ops\\array_ops.py:73: FutureWarning: Comparison of Timestamp with datetime.date is deprecated in order to match the standard library behavior. In a future version these will be considered non-comparable. Use 'ts == pd.Timestamp(date)' or 'ts.date() == date' instead.\n",
      "  result = libops.scalar_compare(x.ravel(), y, op)\n",
      "C:\\Users\\Aditya\\anaconda3\\lib\\site-packages\\pandas\\core\\ops\\array_ops.py:73: FutureWarning: Comparison of Timestamp with datetime.date is deprecated in order to match the standard library behavior. In a future version these will be considered non-comparable. Use 'ts == pd.Timestamp(date)' or 'ts.date() == date' instead.\n",
      "  result = libops.scalar_compare(x.ravel(), y, op)\n",
      "C:\\Users\\Aditya\\anaconda3\\lib\\site-packages\\pandas\\core\\ops\\array_ops.py:73: FutureWarning: Comparison of Timestamp with datetime.date is deprecated in order to match the standard library behavior. In a future version these will be considered non-comparable. Use 'ts == pd.Timestamp(date)' or 'ts.date() == date' instead.\n",
      "  result = libops.scalar_compare(x.ravel(), y, op)\n"
     ]
    },
    {
     "name": "stderr",
     "output_type": "stream",
     "text": [
      "C:\\Users\\Aditya\\anaconda3\\lib\\site-packages\\pandas\\core\\ops\\array_ops.py:73: FutureWarning: Comparison of Timestamp with datetime.date is deprecated in order to match the standard library behavior. In a future version these will be considered non-comparable. Use 'ts == pd.Timestamp(date)' or 'ts.date() == date' instead.\n",
      "  result = libops.scalar_compare(x.ravel(), y, op)\n",
      "C:\\Users\\Aditya\\anaconda3\\lib\\site-packages\\pandas\\core\\ops\\array_ops.py:73: FutureWarning: Comparison of Timestamp with datetime.date is deprecated in order to match the standard library behavior. In a future version these will be considered non-comparable. Use 'ts == pd.Timestamp(date)' or 'ts.date() == date' instead.\n",
      "  result = libops.scalar_compare(x.ravel(), y, op)\n",
      "C:\\Users\\Aditya\\anaconda3\\lib\\site-packages\\pandas\\core\\ops\\array_ops.py:73: FutureWarning: Comparison of Timestamp with datetime.date is deprecated in order to match the standard library behavior. In a future version these will be considered non-comparable. Use 'ts == pd.Timestamp(date)' or 'ts.date() == date' instead.\n",
      "  result = libops.scalar_compare(x.ravel(), y, op)\n",
      "C:\\Users\\Aditya\\anaconda3\\lib\\site-packages\\pandas\\core\\ops\\array_ops.py:73: FutureWarning: Comparison of Timestamp with datetime.date is deprecated in order to match the standard library behavior. In a future version these will be considered non-comparable. Use 'ts == pd.Timestamp(date)' or 'ts.date() == date' instead.\n",
      "  result = libops.scalar_compare(x.ravel(), y, op)\n",
      "C:\\Users\\Aditya\\anaconda3\\lib\\site-packages\\pandas\\core\\ops\\array_ops.py:73: FutureWarning: Comparison of Timestamp with datetime.date is deprecated in order to match the standard library behavior. In a future version these will be considered non-comparable. Use 'ts == pd.Timestamp(date)' or 'ts.date() == date' instead.\n",
      "  result = libops.scalar_compare(x.ravel(), y, op)\n",
      "C:\\Users\\Aditya\\anaconda3\\lib\\site-packages\\pandas\\core\\ops\\array_ops.py:73: FutureWarning: Comparison of Timestamp with datetime.date is deprecated in order to match the standard library behavior. In a future version these will be considered non-comparable. Use 'ts == pd.Timestamp(date)' or 'ts.date() == date' instead.\n",
      "  result = libops.scalar_compare(x.ravel(), y, op)\n",
      "C:\\Users\\Aditya\\anaconda3\\lib\\site-packages\\pandas\\core\\ops\\array_ops.py:73: FutureWarning: Comparison of Timestamp with datetime.date is deprecated in order to match the standard library behavior. In a future version these will be considered non-comparable. Use 'ts == pd.Timestamp(date)' or 'ts.date() == date' instead.\n",
      "  result = libops.scalar_compare(x.ravel(), y, op)\n",
      "C:\\Users\\Aditya\\anaconda3\\lib\\site-packages\\pandas\\core\\ops\\array_ops.py:73: FutureWarning: Comparison of Timestamp with datetime.date is deprecated in order to match the standard library behavior. In a future version these will be considered non-comparable. Use 'ts == pd.Timestamp(date)' or 'ts.date() == date' instead.\n",
      "  result = libops.scalar_compare(x.ravel(), y, op)\n",
      "C:\\Users\\Aditya\\anaconda3\\lib\\site-packages\\pandas\\core\\ops\\array_ops.py:73: FutureWarning: Comparison of Timestamp with datetime.date is deprecated in order to match the standard library behavior. In a future version these will be considered non-comparable. Use 'ts == pd.Timestamp(date)' or 'ts.date() == date' instead.\n",
      "  result = libops.scalar_compare(x.ravel(), y, op)\n",
      "C:\\Users\\Aditya\\anaconda3\\lib\\site-packages\\pandas\\core\\ops\\array_ops.py:73: FutureWarning: Comparison of Timestamp with datetime.date is deprecated in order to match the standard library behavior. In a future version these will be considered non-comparable. Use 'ts == pd.Timestamp(date)' or 'ts.date() == date' instead.\n",
      "  result = libops.scalar_compare(x.ravel(), y, op)\n",
      "C:\\Users\\Aditya\\anaconda3\\lib\\site-packages\\pandas\\core\\ops\\array_ops.py:73: FutureWarning: Comparison of Timestamp with datetime.date is deprecated in order to match the standard library behavior. In a future version these will be considered non-comparable. Use 'ts == pd.Timestamp(date)' or 'ts.date() == date' instead.\n",
      "  result = libops.scalar_compare(x.ravel(), y, op)\n",
      "C:\\Users\\Aditya\\anaconda3\\lib\\site-packages\\pandas\\core\\ops\\array_ops.py:73: FutureWarning: Comparison of Timestamp with datetime.date is deprecated in order to match the standard library behavior. In a future version these will be considered non-comparable. Use 'ts == pd.Timestamp(date)' or 'ts.date() == date' instead.\n",
      "  result = libops.scalar_compare(x.ravel(), y, op)\n",
      "C:\\Users\\Aditya\\anaconda3\\lib\\site-packages\\pandas\\core\\ops\\array_ops.py:73: FutureWarning: Comparison of Timestamp with datetime.date is deprecated in order to match the standard library behavior. In a future version these will be considered non-comparable. Use 'ts == pd.Timestamp(date)' or 'ts.date() == date' instead.\n",
      "  result = libops.scalar_compare(x.ravel(), y, op)\n",
      "C:\\Users\\Aditya\\anaconda3\\lib\\site-packages\\pandas\\core\\ops\\array_ops.py:73: FutureWarning: Comparison of Timestamp with datetime.date is deprecated in order to match the standard library behavior. In a future version these will be considered non-comparable. Use 'ts == pd.Timestamp(date)' or 'ts.date() == date' instead.\n",
      "  result = libops.scalar_compare(x.ravel(), y, op)\n",
      "C:\\Users\\Aditya\\anaconda3\\lib\\site-packages\\pandas\\core\\ops\\array_ops.py:73: FutureWarning: Comparison of Timestamp with datetime.date is deprecated in order to match the standard library behavior. In a future version these will be considered non-comparable. Use 'ts == pd.Timestamp(date)' or 'ts.date() == date' instead.\n",
      "  result = libops.scalar_compare(x.ravel(), y, op)\n",
      "C:\\Users\\Aditya\\anaconda3\\lib\\site-packages\\pandas\\core\\ops\\array_ops.py:73: FutureWarning: Comparison of Timestamp with datetime.date is deprecated in order to match the standard library behavior. In a future version these will be considered non-comparable. Use 'ts == pd.Timestamp(date)' or 'ts.date() == date' instead.\n",
      "  result = libops.scalar_compare(x.ravel(), y, op)\n",
      "C:\\Users\\Aditya\\anaconda3\\lib\\site-packages\\pandas\\core\\ops\\array_ops.py:73: FutureWarning: Comparison of Timestamp with datetime.date is deprecated in order to match the standard library behavior. In a future version these will be considered non-comparable. Use 'ts == pd.Timestamp(date)' or 'ts.date() == date' instead.\n",
      "  result = libops.scalar_compare(x.ravel(), y, op)\n",
      "C:\\Users\\Aditya\\anaconda3\\lib\\site-packages\\pandas\\core\\ops\\array_ops.py:73: FutureWarning: Comparison of Timestamp with datetime.date is deprecated in order to match the standard library behavior. In a future version these will be considered non-comparable. Use 'ts == pd.Timestamp(date)' or 'ts.date() == date' instead.\n",
      "  result = libops.scalar_compare(x.ravel(), y, op)\n",
      "C:\\Users\\Aditya\\anaconda3\\lib\\site-packages\\pandas\\core\\ops\\array_ops.py:73: FutureWarning: Comparison of Timestamp with datetime.date is deprecated in order to match the standard library behavior. In a future version these will be considered non-comparable. Use 'ts == pd.Timestamp(date)' or 'ts.date() == date' instead.\n",
      "  result = libops.scalar_compare(x.ravel(), y, op)\n",
      "C:\\Users\\Aditya\\anaconda3\\lib\\site-packages\\pandas\\core\\ops\\array_ops.py:73: FutureWarning: Comparison of Timestamp with datetime.date is deprecated in order to match the standard library behavior. In a future version these will be considered non-comparable. Use 'ts == pd.Timestamp(date)' or 'ts.date() == date' instead.\n",
      "  result = libops.scalar_compare(x.ravel(), y, op)\n",
      "C:\\Users\\Aditya\\anaconda3\\lib\\site-packages\\pandas\\core\\ops\\array_ops.py:73: FutureWarning: Comparison of Timestamp with datetime.date is deprecated in order to match the standard library behavior. In a future version these will be considered non-comparable. Use 'ts == pd.Timestamp(date)' or 'ts.date() == date' instead.\n",
      "  result = libops.scalar_compare(x.ravel(), y, op)\n",
      "C:\\Users\\Aditya\\anaconda3\\lib\\site-packages\\pandas\\core\\ops\\array_ops.py:73: FutureWarning: Comparison of Timestamp with datetime.date is deprecated in order to match the standard library behavior. In a future version these will be considered non-comparable. Use 'ts == pd.Timestamp(date)' or 'ts.date() == date' instead.\n",
      "  result = libops.scalar_compare(x.ravel(), y, op)\n"
     ]
    },
    {
     "name": "stderr",
     "output_type": "stream",
     "text": [
      "C:\\Users\\Aditya\\anaconda3\\lib\\site-packages\\pandas\\core\\ops\\array_ops.py:73: FutureWarning: Comparison of Timestamp with datetime.date is deprecated in order to match the standard library behavior. In a future version these will be considered non-comparable. Use 'ts == pd.Timestamp(date)' or 'ts.date() == date' instead.\n",
      "  result = libops.scalar_compare(x.ravel(), y, op)\n"
     ]
    }
   ],
   "source": [
    "# Mapping covid cases to each country\n",
    "import datetime\n",
    "for cnt in countries_data:\n",
    "    cases=[]\n",
    "    population = []\n",
    "    for index,i in list(cnt.iterrows()):\n",
    "        start = i[\"index\"]+datetime.timedelta(days=2)\n",
    "        end = i[\"index\"]+datetime.timedelta(days=1)\n",
    "        y = x[x[\"iso_alpha_2\"]==i[\"dest cou\"]]\n",
    "        date_range = y[(y[\"date\"]>=end) & (y[\"date\"]<=start)]\n",
    "        confirmed = list(date_range[\"confirmed\"])\n",
    "        if(len(confirmed)>1):\n",
    "            cases.append(confirmed[1]-confirmed[0])\n",
    "        else:\n",
    "            cases.append(cases[-1])\n",
    "        population.append(list(y[\"population\"])[0])\n",
    "    cnt[\"cases\"] = cases\n",
    "    cnt[\"Population\"] = population"
   ]
  },
  {
   "cell_type": "code",
   "execution_count": 7,
   "id": "3a45eb70",
   "metadata": {},
   "outputs": [],
   "source": [
    "data = pd.concat(countries_data)"
   ]
  },
  {
   "cell_type": "markdown",
   "id": "c6d6b174",
   "metadata": {},
   "source": [
    "###### Step4: Conversion to time series"
   ]
  },
  {
   "cell_type": "code",
   "execution_count": 8,
   "id": "ab83963b",
   "metadata": {},
   "outputs": [],
   "source": [
    "series_main = [TimeSeries.from_dataframe(i, 'index', ['cases',\"Seats\"],fill_missing_dates=False, freq='D') for i in countries_data]"
   ]
  },
  {
   "cell_type": "markdown",
   "id": "d44bfd70",
   "metadata": {},
   "source": [
    "###### Step5:  Standardization of Data"
   ]
  },
  {
   "cell_type": "code",
   "execution_count": 9,
   "id": "67dda1a5",
   "metadata": {},
   "outputs": [],
   "source": [
    "from darts.dataprocessing.transformers import Scaler\n",
    "from sklearn.preprocessing import MinMaxScaler\n",
    "scaler = MinMaxScaler()\n",
    "scaler_cases = [Scaler(scaler) for i in series_main]\n",
    "scaler_seats = [Scaler(scaler) for i in series_main]\n",
    "series_cases =  [y.fit_transform(i[\"cases\"]) for y,i in zip(scaler_cases,series_main)]\n",
    "series_seats =  [y.fit_transform(i[\"Seats\"]) for y,i in zip(scaler_seats,series_main)]"
   ]
  },
  {
   "cell_type": "code",
   "execution_count": 10,
   "id": "929a36ad",
   "metadata": {},
   "outputs": [],
   "source": [
    "series = [i.concatenate(j,axis=\"component\") for i, j in zip(series_cases,series_seats)]"
   ]
  },
  {
   "cell_type": "markdown",
   "id": "7fad7b2e",
   "metadata": {},
   "source": [
    "###### Step6: Applying Algorithms on data"
   ]
  },
  {
   "cell_type": "markdown",
   "id": "a04edd62",
   "metadata": {},
   "source": [
    "###### LSTM"
   ]
  },
  {
   "cell_type": "code",
   "execution_count": 11,
   "id": "7f43135d",
   "metadata": {},
   "outputs": [
    {
     "name": "stderr",
     "output_type": "stream",
     "text": [
      "2022-08-26 21:11:18 pytorch_lightning.utilities.rank_zero INFO: GPU available: False, used: False\n",
      "2022-08-26 21:11:18 pytorch_lightning.utilities.rank_zero INFO: TPU available: False, using: 0 TPU cores\n",
      "2022-08-26 21:11:18 pytorch_lightning.utilities.rank_zero INFO: IPU available: False, using: 0 IPUs\n",
      "2022-08-26 21:11:18 pytorch_lightning.utilities.rank_zero INFO: HPU available: False, using: 0 HPUs\n",
      "2022-08-26 21:11:18 pytorch_lightning.callbacks.model_summary INFO: \n",
      "  | Name          | Type             | Params\n",
      "---------------------------------------------------\n",
      "0 | criterion     | MSELoss          | 0     \n",
      "1 | train_metrics | MetricCollection | 0     \n",
      "2 | val_metrics   | MetricCollection | 0     \n",
      "3 | rnn           | LSTM             | 2.9 K \n",
      "4 | fc            | Sequential       | 1.0 K \n",
      "---------------------------------------------------\n",
      "3.9 K     Trainable params\n",
      "0         Non-trainable params\n",
      "3.9 K     Total params\n",
      "0.032     Total estimated model params size (MB)\n"
     ]
    },
    {
     "data": {
      "application/vnd.jupyter.widget-view+json": {
       "model_id": "4ff7c6da0679452eb5b4798021cdbd44",
       "version_major": 2,
       "version_minor": 0
      },
      "text/plain": [
       "Training: 0it [00:00, ?it/s]"
      ]
     },
     "metadata": {},
     "output_type": "display_data"
    },
    {
     "name": "stderr",
     "output_type": "stream",
     "text": [
      "2022-08-26 21:13:27 pytorch_lightning.utilities.rank_zero INFO: `Trainer.fit` stopped: `max_epochs=100` reached.\n"
     ]
    },
    {
     "data": {
      "text/plain": [
       "<darts.models.forecasting.block_rnn_model.BlockRNNModel at 0x1fc4cb9cc70>"
      ]
     },
     "execution_count": 11,
     "metadata": {},
     "output_type": "execute_result"
    }
   ],
   "source": [
    "from darts.models import BlockRNNModel\n",
    "# Model takes minimum 10 days and forecasts maximum 20 days of future data\n",
    "model = BlockRNNModel(input_chunk_length =10,output_chunk_length=20,model=\"LSTM\")\n",
    "model.fit([i[0:53] for i in series])"
   ]
  },
  {
   "cell_type": "markdown",
   "id": "eaa44f3d",
   "metadata": {},
   "source": [
    "###### Step7: Inverse Standardization"
   ]
  },
  {
   "cell_type": "code",
   "execution_count": 12,
   "id": "0d4e69e6",
   "metadata": {},
   "outputs": [
    {
     "data": {
      "application/vnd.jupyter.widget-view+json": {
       "model_id": "1bac7dae14d642159503365b0c60fb1e",
       "version_major": 2,
       "version_minor": 0
      },
      "text/plain": [
       "Predicting: 34it [00:00, ?it/s]"
      ]
     },
     "metadata": {},
     "output_type": "display_data"
    }
   ],
   "source": [
    "pred = model.predict(n=10,series=series[4][53:63])\n",
    "\n",
    "inverse_series_cases = [scaler_cases[index].inverse_transform(i[\"cases\"][:94]) for index,i in enumerate(series)]\n",
    "inverse_series_seats = [scaler_seats[index].inverse_transform(i[\"Seats\"][:94]) for index,i in enumerate(series)]\n",
    "inverse_pred_cases = scaler_cases[4].inverse_transform(pred[\"cases\"])\n",
    "inverse_pred_seats = scaler_seats[4].inverse_transform(pred[\"Seats\"])\n"
   ]
  },
  {
   "cell_type": "code",
   "execution_count": 13,
   "id": "0aa82e9b",
   "metadata": {},
   "outputs": [
    {
     "data": {
      "image/png": "[encoded data removed]",
      "text/plain": [
       "<Figure size 432x288 with 1 Axes>"
      ]
     },
     "metadata": {
      "needs_background": "light"
     },
     "output_type": "display_data"
    }
   ],
   "source": [
    "# Plotting actual against forecast for a random country\n",
    "import matplotlib.pyplot as plt\n",
    "inverse_series_cases[4][53:73][\"cases\"].plot(label=\"actual\")\n",
    "inverse_pred_cases.plot(label=\"forecast\")"
   ]
  },
  {
   "cell_type": "markdown",
   "id": "243fc2d5",
   "metadata": {},
   "source": [
    "###### Step8: Calculating error percentage ((actual-forecast)*100/actual)"
   ]
  },
  {
   "cell_type": "code",
   "execution_count": 15,
   "id": "062fe9cc",
   "metadata": {},
   "outputs": [
    {
     "data": {
      "application/vnd.jupyter.widget-view+json": {
       "model_id": "b1df484afaa04b03b4d7f0d0baaa0e0e",
       "version_major": 2,
       "version_minor": 0
      },
      "text/plain": [
       "Predicting: 34it [00:00, ?it/s]"
      ]
     },
     "metadata": {},
     "output_type": "display_data"
    },
    {
     "name": "stdout",
     "output_type": "stream",
     "text": [
      "United Arab Emirates (the)\n",
      "MAE for cases = 1235.45\n",
      "component\n",
      "cases    3116.0\n",
      "dtype: float64\n"
     ]
    },
    {
     "data": {
      "application/vnd.jupyter.widget-view+json": {
       "model_id": "189d26b1923748409dfcc52635dae721",
       "version_major": 2,
       "version_minor": 0
      },
      "text/plain": [
       "Predicting: 34it [00:00, ?it/s]"
      ]
     },
     "metadata": {},
     "output_type": "display_data"
    },
    {
     "name": "stdout",
     "output_type": "stream",
     "text": [
      "Belgium\n",
      "MAE for cases = 21726.92\n",
      "component\n",
      "cases    76034.0\n",
      "dtype: float64\n"
     ]
    },
    {
     "data": {
      "application/vnd.jupyter.widget-view+json": {
       "model_id": "470e0989305f4f10b8854d1220068446",
       "version_major": 2,
       "version_minor": 0
      },
      "text/plain": [
       "Predicting: 34it [00:00, ?it/s]"
      ]
     },
     "metadata": {},
     "output_type": "display_data"
    },
    {
     "name": "stdout",
     "output_type": "stream",
     "text": [
      "Bahrain\n",
      "MAE for cases = 624.88\n",
      "component\n",
      "cases    8173.0\n",
      "dtype: float64\n"
     ]
    },
    {
     "data": {
      "application/vnd.jupyter.widget-view+json": {
       "model_id": "dffabc9a727c4792862de5481ca91515",
       "version_major": 2,
       "version_minor": 0
      },
      "text/plain": [
       "Predicting: 34it [00:00, ?it/s]"
      ]
     },
     "metadata": {},
     "output_type": "display_data"
    },
    {
     "name": "stdout",
     "output_type": "stream",
     "text": [
      "Switzerland\n",
      "MAE for cases = 11769.81\n",
      "component\n",
      "cases    48332.0\n",
      "dtype: float64\n"
     ]
    },
    {
     "data": {
      "application/vnd.jupyter.widget-view+json": {
       "model_id": "92e75ee1fb304880823e49c5e5104a7b",
       "version_major": 2,
       "version_minor": 0
      },
      "text/plain": [
       "Predicting: 34it [00:00, ?it/s]"
      ]
     },
     "metadata": {},
     "output_type": "display_data"
    },
    {
     "name": "stdout",
     "output_type": "stream",
     "text": [
      "Germany\n",
      "MAE for cases = 35593.62\n",
      "component\n",
      "cases    239487.0\n",
      "dtype: float64\n"
     ]
    },
    {
     "data": {
      "application/vnd.jupyter.widget-view+json": {
       "model_id": "efa263a9266f43489ba2ec7dc1858530",
       "version_major": 2,
       "version_minor": 0
      },
      "text/plain": [
       "Predicting: 34it [00:00, ?it/s]"
      ]
     },
     "metadata": {},
     "output_type": "display_data"
    },
    {
     "name": "stdout",
     "output_type": "stream",
     "text": [
      "France\n",
      "MAE for cases = 158055.09\n",
      "component\n",
      "cases    501635.0\n",
      "dtype: float64\n"
     ]
    },
    {
     "data": {
      "application/vnd.jupyter.widget-view+json": {
       "model_id": "2443b598170d469194067ab35bfa9cce",
       "version_major": 2,
       "version_minor": 0
      },
      "text/plain": [
       "Predicting: 34it [00:00, ?it/s]"
      ]
     },
     "metadata": {},
     "output_type": "display_data"
    },
    {
     "name": "stdout",
     "output_type": "stream",
     "text": [
      "United Kingdom of Great Britain and Northern Ireland (the)\n",
      "MAE for cases = 12916.45\n",
      "component\n",
      "cases    275647.0\n",
      "dtype: float64\n"
     ]
    },
    {
     "data": {
      "application/vnd.jupyter.widget-view+json": {
       "model_id": "30ae5248153d447fb22c8e2e9cdc2a13",
       "version_major": 2,
       "version_minor": 0
      },
      "text/plain": [
       "Predicting: 34it [00:00, ?it/s]"
      ]
     },
     "metadata": {},
     "output_type": "display_data"
    },
    {
     "name": "stdout",
     "output_type": "stream",
     "text": [
      "Hong Kong\n",
      "MAE for cases = 3185.96\n",
      "component\n",
      "cases    164.0\n",
      "dtype: float64\n"
     ]
    },
    {
     "data": {
      "application/vnd.jupyter.widget-view+json": {
       "model_id": "51c4348d83fe488080800f598f0de453",
       "version_major": 2,
       "version_minor": 0
      },
      "text/plain": [
       "Predicting: 34it [00:00, ?it/s]"
      ]
     },
     "metadata": {},
     "output_type": "display_data"
    },
    {
     "name": "stdout",
     "output_type": "stream",
     "text": [
      "India\n",
      "MAE for cases = 122734.76\n",
      "component\n",
      "cases    347254.0\n",
      "dtype: float64\n"
     ]
    },
    {
     "data": {
      "application/vnd.jupyter.widget-view+json": {
       "model_id": "c21c2346ba5544b89240c49ed0215a81",
       "version_major": 2,
       "version_minor": 0
      },
      "text/plain": [
       "Predicting: 34it [00:00, ?it/s]"
      ]
     },
     "metadata": {},
     "output_type": "display_data"
    },
    {
     "name": "stdout",
     "output_type": "stream",
     "text": [
      "Lebanon\n",
      "MAE for cases = 1596.13\n",
      "component\n",
      "cases    10760.0\n",
      "dtype: float64\n"
     ]
    },
    {
     "data": {
      "application/vnd.jupyter.widget-view+json": {
       "model_id": "918f7433f7904446af3391e5b7f75910",
       "version_major": 2,
       "version_minor": 0
      },
      "text/plain": [
       "Predicting: 34it [00:00, ?it/s]"
      ]
     },
     "metadata": {},
     "output_type": "display_data"
    },
    {
     "name": "stdout",
     "output_type": "stream",
     "text": [
      "Malta\n",
      "MAE for cases = 188.31\n",
      "component\n",
      "cases    1403.0\n",
      "dtype: float64\n"
     ]
    },
    {
     "data": {
      "application/vnd.jupyter.widget-view+json": {
       "model_id": "1479d5cb38c5440b9dab2411dcc6bd34",
       "version_major": 2,
       "version_minor": 0
      },
      "text/plain": [
       "Predicting: 34it [00:00, ?it/s]"
      ]
     },
     "metadata": {},
     "output_type": "display_data"
    },
    {
     "name": "stdout",
     "output_type": "stream",
     "text": [
      "Netherlands (the)\n",
      "MAE for cases = 15431.98\n",
      "component\n",
      "cases    110450.0\n",
      "dtype: float64\n"
     ]
    },
    {
     "data": {
      "application/vnd.jupyter.widget-view+json": {
       "model_id": "a1a265e626a3414991632e21333d435b",
       "version_major": 2,
       "version_minor": 0
      },
      "text/plain": [
       "Predicting: 34it [00:00, ?it/s]"
      ]
     },
     "metadata": {},
     "output_type": "display_data"
    },
    {
     "name": "stdout",
     "output_type": "stream",
     "text": [
      "Philippines (the)\n",
      "MAE for cases = 10067.11\n",
      "component\n",
      "cases    38867.0\n",
      "dtype: float64\n"
     ]
    },
    {
     "data": {
      "application/vnd.jupyter.widget-view+json": {
       "model_id": "a9cc5015a11045039ebbc2aaef9a3a22",
       "version_major": 2,
       "version_minor": 0
      },
      "text/plain": [
       "Predicting: 34it [00:00, ?it/s]"
      ]
     },
     "metadata": {},
     "output_type": "display_data"
    },
    {
     "name": "stdout",
     "output_type": "stream",
     "text": [
      "Qatar\n",
      "MAE for cases = 1046.99\n",
      "component\n",
      "cases    4206.0\n",
      "dtype: float64\n"
     ]
    },
    {
     "data": {
      "application/vnd.jupyter.widget-view+json": {
       "model_id": "be31805561004e9fa5b792b4024b361e",
       "version_major": 2,
       "version_minor": 0
      },
      "text/plain": [
       "Predicting: 34it [00:00, ?it/s]"
      ]
     },
     "metadata": {},
     "output_type": "display_data"
    },
    {
     "name": "stdout",
     "output_type": "stream",
     "text": [
      "Saudi Arabia\n",
      "MAE for cases = 1995.07\n",
      "component\n",
      "cases    5928.0\n",
      "dtype: float64\n"
     ]
    },
    {
     "data": {
      "application/vnd.jupyter.widget-view+json": {
       "model_id": "5ac0f439c0854634aa1315114b723ab9",
       "version_major": 2,
       "version_minor": 0
      },
      "text/plain": [
       "Predicting: 34it [00:00, ?it/s]"
      ]
     },
     "metadata": {},
     "output_type": "display_data"
    },
    {
     "name": "stdout",
     "output_type": "stream",
     "text": [
      "Ukraine\n",
      "MAE for cases = 4650.96\n",
      "component\n",
      "cases    45022.0\n",
      "dtype: float64\n"
     ]
    },
    {
     "data": {
      "application/vnd.jupyter.widget-view+json": {
       "model_id": "8bd116f39cde4ba9a66786a0a057da54",
       "version_major": 2,
       "version_minor": 0
      },
      "text/plain": [
       "Predicting: 34it [00:00, ?it/s]"
      ]
     },
     "metadata": {},
     "output_type": "display_data"
    },
    {
     "name": "stdout",
     "output_type": "stream",
     "text": [
      "Canada\n",
      "MAE for cases = 5554.43\n",
      "component\n",
      "cases    49148.0\n",
      "dtype: float64\n"
     ]
    },
    {
     "data": {
      "application/vnd.jupyter.widget-view+json": {
       "model_id": "ed87c4f2b6084adb8c846da33d91bc3f",
       "version_major": 2,
       "version_minor": 0
      },
      "text/plain": [
       "Predicting: 34it [00:00, ?it/s]"
      ]
     },
     "metadata": {},
     "output_type": "display_data"
    },
    {
     "name": "stdout",
     "output_type": "stream",
     "text": [
      "Italy\n",
      "MAE for cases = 61015.47\n",
      "component\n",
      "cases    228123.0\n",
      "dtype: float64\n"
     ]
    },
    {
     "data": {
      "application/vnd.jupyter.widget-view+json": {
       "model_id": "a27a596ae86d49a4954622620aeefac7",
       "version_major": 2,
       "version_minor": 0
      },
      "text/plain": [
       "Predicting: 34it [00:00, ?it/s]"
      ]
     },
     "metadata": {},
     "output_type": "display_data"
    },
    {
     "name": "stdout",
     "output_type": "stream",
     "text": [
      "Singapore\n",
      "MAE for cases = 4320.63\n",
      "component\n",
      "cases    10264.0\n",
      "dtype: float64\n"
     ]
    },
    {
     "data": {
      "application/vnd.jupyter.widget-view+json": {
       "model_id": "5e6cb955369340d9b49f35ab0cd425f2",
       "version_major": 2,
       "version_minor": 0
      },
      "text/plain": [
       "Predicting: 34it [00:00, ?it/s]"
      ]
     },
     "metadata": {},
     "output_type": "display_data"
    },
    {
     "name": "stdout",
     "output_type": "stream",
     "text": [
      "Egypt\n",
      "MAE for cases = 333.24\n",
      "component\n",
      "cases    2291.0\n",
      "dtype: float64\n"
     ]
    },
    {
     "data": {
      "application/vnd.jupyter.widget-view+json": {
       "model_id": "300d3de110054dc483678ff076bd9deb",
       "version_major": 2,
       "version_minor": 0
      },
      "text/plain": [
       "Predicting: 34it [00:00, ?it/s]"
      ]
     },
     "metadata": {},
     "output_type": "display_data"
    },
    {
     "name": "stdout",
     "output_type": "stream",
     "text": [
      "Greece\n",
      "MAE for cases = 3441.92\n",
      "component\n",
      "cases    50182.0\n",
      "dtype: float64\n"
     ]
    },
    {
     "data": {
      "application/vnd.jupyter.widget-view+json": {
       "model_id": "9e4ac670ad854e6c97f079b2cd196220",
       "version_major": 2,
       "version_minor": 0
      },
      "text/plain": [
       "Predicting: 34it [00:00, ?it/s]"
      ]
     },
     "metadata": {},
     "output_type": "display_data"
    },
    {
     "name": "stdout",
     "output_type": "stream",
     "text": [
      "Korea (the Republic of)\n",
      "MAE for cases = 8242.57\n",
      "component\n",
      "cases    36362.0\n",
      "dtype: float64\n"
     ]
    },
    {
     "data": {
      "application/vnd.jupyter.widget-view+json": {
       "model_id": "f48d3444bf444d729b027f232270de54",
       "version_major": 2,
       "version_minor": 0
      },
      "text/plain": [
       "Predicting: 34it [00:00, ?it/s]"
      ]
     },
     "metadata": {},
     "output_type": "display_data"
    },
    {
     "name": "stdout",
     "output_type": "stream",
     "text": [
      "Turkey\n",
      "MAE for cases = 8568.04\n",
      "component\n",
      "cases    111157.0\n",
      "dtype: float64\n"
     ]
    },
    {
     "data": {
      "application/vnd.jupyter.widget-view+json": {
       "model_id": "d2411565b68242e79eaa1185e02d3676",
       "version_major": 2,
       "version_minor": 0
      },
      "text/plain": [
       "Predicting: 34it [00:00, ?it/s]"
      ]
     },
     "metadata": {},
     "output_type": "display_data"
    },
    {
     "name": "stdout",
     "output_type": "stream",
     "text": [
      "United States of America (the)\n",
      "MAE for cases = 217598.69\n",
      "component\n",
      "cases    1433977.0\n",
      "dtype: float64\n"
     ]
    },
    {
     "data": {
      "application/vnd.jupyter.widget-view+json": {
       "model_id": "02b46c8cac1b462d9f1a7273678eccd3",
       "version_major": 2,
       "version_minor": 0
      },
      "text/plain": [
       "Predicting: 34it [00:00, ?it/s]"
      ]
     },
     "metadata": {},
     "output_type": "display_data"
    },
    {
     "name": "stdout",
     "output_type": "stream",
     "text": [
      "Morocco\n",
      "MAE for cases = 2291.29\n",
      "component\n",
      "cases    9355.0\n",
      "dtype: float64\n"
     ]
    },
    {
     "data": {
      "application/vnd.jupyter.widget-view+json": {
       "model_id": "f31bf0d6d6204cc291d56e0620f6ac43",
       "version_major": 2,
       "version_minor": 0
      },
      "text/plain": [
       "Predicting: 34it [00:00, ?it/s]"
      ]
     },
     "metadata": {},
     "output_type": "display_data"
    },
    {
     "name": "stdout",
     "output_type": "stream",
     "text": [
      "Croatia\n",
      "MAE for cases = 3093.20\n",
      "component\n",
      "cases    11812.0\n",
      "dtype: float64\n"
     ]
    },
    {
     "data": {
      "application/vnd.jupyter.widget-view+json": {
       "model_id": "96107f91b76e47b7985b01ed87e127f6",
       "version_major": 2,
       "version_minor": 0
      },
      "text/plain": [
       "Predicting: 34it [00:00, ?it/s]"
      ]
     },
     "metadata": {},
     "output_type": "display_data"
    },
    {
     "name": "stdout",
     "output_type": "stream",
     "text": [
      "South Africa\n",
      "MAE for cases = 2281.20\n",
      "component\n",
      "cases    37875.0\n",
      "dtype: float64\n"
     ]
    },
    {
     "data": {
      "application/vnd.jupyter.widget-view+json": {
       "model_id": "9e4efd40b6f4411aa6fcafc3a93447c8",
       "version_major": 2,
       "version_minor": 0
      },
      "text/plain": [
       "Predicting: 34it [00:00, ?it/s]"
      ]
     },
     "metadata": {},
     "output_type": "display_data"
    },
    {
     "name": "stdout",
     "output_type": "stream",
     "text": [
      "Bangladesh\n",
      "MAE for cases = 5046.31\n",
      "component\n",
      "cases    16033.0\n",
      "dtype: float64\n"
     ]
    },
    {
     "data": {
      "application/vnd.jupyter.widget-view+json": {
       "model_id": "8437b71adf6a425daaaaf6e6fa392099",
       "version_major": 2,
       "version_minor": 0
      },
      "text/plain": [
       "Predicting: 34it [00:00, ?it/s]"
      ]
     },
     "metadata": {},
     "output_type": "display_data"
    },
    {
     "name": "stdout",
     "output_type": "stream",
     "text": [
      "Poland\n",
      "MAE for cases = 12467.79\n",
      "component\n",
      "cases    57659.0\n",
      "dtype: float64\n"
     ]
    },
    {
     "data": {
      "application/vnd.jupyter.widget-view+json": {
       "model_id": "674e3e239a20448a9c26878e1b444bad",
       "version_major": 2,
       "version_minor": 0
      },
      "text/plain": [
       "Predicting: 34it [00:00, ?it/s]"
      ]
     },
     "metadata": {},
     "output_type": "display_data"
    },
    {
     "name": "stdout",
     "output_type": "stream",
     "text": [
      "Australia\n",
      "MAE for cases = 42592.22\n",
      "component\n",
      "cases    277619.0\n",
      "dtype: float64\n"
     ]
    },
    {
     "data": {
      "application/vnd.jupyter.widget-view+json": {
       "model_id": "714a00b60e0547bdb99ecbc5f8f4713e",
       "version_major": 2,
       "version_minor": 0
      },
      "text/plain": [
       "Predicting: 34it [00:00, ?it/s]"
      ]
     },
     "metadata": {},
     "output_type": "display_data"
    },
    {
     "name": "stdout",
     "output_type": "stream",
     "text": [
      "Spain\n",
      "MAE for cases = 94773.17\n",
      "component\n",
      "cases    372766.0\n",
      "dtype: float64\n"
     ]
    },
    {
     "data": {
      "application/vnd.jupyter.widget-view+json": {
       "model_id": "695fceb7cd5c4d08b847806ce3155f37",
       "version_major": 2,
       "version_minor": 0
      },
      "text/plain": [
       "Predicting: 34it [00:00, ?it/s]"
      ]
     },
     "metadata": {},
     "output_type": "display_data"
    },
    {
     "name": "stdout",
     "output_type": "stream",
     "text": [
      "Cyprus\n",
      "MAE for cases = 842.10\n",
      "component\n",
      "cases    5457.0\n",
      "dtype: float64\n"
     ]
    },
    {
     "data": {
      "application/vnd.jupyter.widget-view+json": {
       "model_id": "5646240c54b946d89adc1634c602f603",
       "version_major": 2,
       "version_minor": 0
      },
      "text/plain": [
       "Predicting: 34it [00:00, ?it/s]"
      ]
     },
     "metadata": {},
     "output_type": "display_data"
    },
    {
     "name": "stdout",
     "output_type": "stream",
     "text": [
      "Brazil\n",
      "MAE for cases = 49935.18\n",
      "component\n",
      "cases    285396.0\n",
      "dtype: float64\n"
     ]
    },
    {
     "data": {
      "application/vnd.jupyter.widget-view+json": {
       "model_id": "936b76bf153f4010a0004b231fd0b0a9",
       "version_major": 2,
       "version_minor": 0
      },
      "text/plain": [
       "Predicting: 34it [00:00, ?it/s]"
      ]
     },
     "metadata": {},
     "output_type": "display_data"
    },
    {
     "name": "stdout",
     "output_type": "stream",
     "text": [
      "Czech Republic (the)\n",
      "MAE for cases = 10552.38\n",
      "component\n",
      "cases    57247.0\n",
      "dtype: float64\n"
     ]
    },
    {
     "data": {
      "application/vnd.jupyter.widget-view+json": {
       "model_id": "0d758942fa904cd885c184c017beb6de",
       "version_major": 2,
       "version_minor": 0
      },
      "text/plain": [
       "Predicting: 34it [00:00, ?it/s]"
      ]
     },
     "metadata": {},
     "output_type": "display_data"
    },
    {
     "name": "stdout",
     "output_type": "stream",
     "text": [
      "Malaysia\n",
      "MAE for cases = 466.46\n",
      "component\n",
      "cases    7234.0\n",
      "dtype: float64\n"
     ]
    },
    {
     "data": {
      "application/vnd.jupyter.widget-view+json": {
       "model_id": "205ece8eb4e44e5aaeb91fc9d15d9952",
       "version_major": 2,
       "version_minor": 0
      },
      "text/plain": [
       "Predicting: 34it [00:00, ?it/s]"
      ]
     },
     "metadata": {},
     "output_type": "display_data"
    },
    {
     "name": "stdout",
     "output_type": "stream",
     "text": [
      "Romania\n",
      "MAE for cases = 5239.76\n",
      "component\n",
      "cases    40018.0\n",
      "dtype: float64\n"
     ]
    },
    {
     "data": {
      "application/vnd.jupyter.widget-view+json": {
       "model_id": "aac01dd6e1f74eaa86006af96856d25f",
       "version_major": 2,
       "version_minor": 0
      },
      "text/plain": [
       "Predicting: 34it [00:00, ?it/s]"
      ]
     },
     "metadata": {},
     "output_type": "display_data"
    },
    {
     "name": "stdout",
     "output_type": "stream",
     "text": [
      "Pakistan\n",
      "MAE for cases = 2835.18\n",
      "component\n",
      "cases    8183.0\n",
      "dtype: float64\n"
     ]
    },
    {
     "data": {
      "application/vnd.jupyter.widget-view+json": {
       "model_id": "21c713fa18884fc2a4af65ab010e471e",
       "version_major": 2,
       "version_minor": 0
      },
      "text/plain": [
       "Predicting: 34it [00:00, ?it/s]"
      ]
     },
     "metadata": {},
     "output_type": "display_data"
    },
    {
     "name": "stdout",
     "output_type": "stream",
     "text": [
      "Argentina\n",
      "MAE for cases = 25040.84\n",
      "component\n",
      "cases    139853.0\n",
      "dtype: float64\n"
     ]
    },
    {
     "data": {
      "application/vnd.jupyter.widget-view+json": {
       "model_id": "343f9c4bc043483288cf6ff00cc5753f",
       "version_major": 2,
       "version_minor": 0
      },
      "text/plain": [
       "Predicting: 34it [00:00, ?it/s]"
      ]
     },
     "metadata": {},
     "output_type": "display_data"
    },
    {
     "name": "stdout",
     "output_type": "stream",
     "text": [
      "Ireland\n",
      "MAE for cases = 4946.26\n",
      "component\n",
      "cases    26122.0\n",
      "dtype: float64\n"
     ]
    },
    {
     "data": {
      "application/vnd.jupyter.widget-view+json": {
       "model_id": "637a91fec4aa4f7cba419bb4f922fc12",
       "version_major": 2,
       "version_minor": 0
      },
      "text/plain": [
       "Predicting: 34it [00:00, ?it/s]"
      ]
     },
     "metadata": {},
     "output_type": "display_data"
    },
    {
     "name": "stdout",
     "output_type": "stream",
     "text": [
      "Kazakhstan\n",
      "MAE for cases = 5118.30\n",
      "component\n",
      "cases    16441.0\n",
      "dtype: float64\n"
     ]
    },
    {
     "data": {
      "application/vnd.jupyter.widget-view+json": {
       "model_id": "f3ba813a7a5249baad3dc379feb6efbe",
       "version_major": 2,
       "version_minor": 0
      },
      "text/plain": [
       "Predicting: 34it [00:00, ?it/s]"
      ]
     },
     "metadata": {},
     "output_type": "display_data"
    },
    {
     "name": "stdout",
     "output_type": "stream",
     "text": [
      "Denmark\n",
      "MAE for cases = 15651.19\n",
      "component\n",
      "cases    55001.0\n",
      "dtype: float64\n"
     ]
    },
    {
     "data": {
      "application/vnd.jupyter.widget-view+json": {
       "model_id": "e5d5b446758445b4aea5f4dfb7af198d",
       "version_major": 2,
       "version_minor": 0
      },
      "text/plain": [
       "Predicting: 34it [00:00, ?it/s]"
      ]
     },
     "metadata": {},
     "output_type": "display_data"
    },
    {
     "name": "stdout",
     "output_type": "stream",
     "text": [
      "Algeria\n",
      "MAE for cases = 873.85\n",
      "component\n",
      "cases    2521.0\n",
      "dtype: float64\n"
     ]
    },
    {
     "data": {
      "application/vnd.jupyter.widget-view+json": {
       "model_id": "47a0111f4c874ecba43fa5d17b1aeebb",
       "version_major": 2,
       "version_minor": 0
      },
      "text/plain": [
       "Predicting: 34it [00:00, ?it/s]"
      ]
     },
     "metadata": {},
     "output_type": "display_data"
    },
    {
     "name": "stdout",
     "output_type": "stream",
     "text": [
      "Russian Federation (the)\n",
      "MAE for cases = 22280.36\n",
      "component\n",
      "cases    166957.0\n",
      "dtype: float64\n"
     ]
    },
    {
     "data": {
      "application/vnd.jupyter.widget-view+json": {
       "model_id": "fa9f245eed6b4598a345841776dd8058",
       "version_major": 2,
       "version_minor": 0
      },
      "text/plain": [
       "Predicting: 34it [00:00, ?it/s]"
      ]
     },
     "metadata": {},
     "output_type": "display_data"
    },
    {
     "name": "stdout",
     "output_type": "stream",
     "text": [
      "Sweden\n",
      "MAE for cases = 15897.52\n",
      "component\n",
      "cases    53881.0\n",
      "dtype: float64\n"
     ]
    },
    {
     "data": {
      "application/vnd.jupyter.widget-view+json": {
       "model_id": "8f13be01a2e6464894f8fec73663ab45",
       "version_major": 2,
       "version_minor": 0
      },
      "text/plain": [
       "Predicting: 34it [00:00, ?it/s]"
      ]
     },
     "metadata": {},
     "output_type": "display_data"
    },
    {
     "name": "stdout",
     "output_type": "stream",
     "text": [
      "Austria\n",
      "MAE for cases = 7313.26\n",
      "component\n",
      "cases    44239.0\n",
      "dtype: float64\n"
     ]
    }
   ],
   "source": [
    "from darts.metrics import mae\n",
    "forecast_data = []\n",
    "mape_nos = []\n",
    "inverse_series_cases = [scaler_cases[index].inverse_transform(i[\"cases\"][:94]) for index,i in enumerate(series)]\n",
    "for index,i in enumerate(countries):\n",
    "    pred = model.predict(n=11,series=series[index][53:73])\n",
    "    inverse_pred_cases = scaler_cases[index].inverse_transform(pred[\"cases\"])\n",
    "    print(i)\n",
    "    print(\"MAE for cases = {:.2f}\".format(mae(inverse_series_cases[index],inverse_pred_cases)))\n",
    "    mae_no = mae(inverse_series_cases[index],inverse_pred_cases)\n",
    "    mape_no = mae_no/(int(inverse_series_cases[index].pd_dataframe().max())+1)*100\n",
    "    mape_nos.append(mape_no)\n",
    "    print(inverse_series_cases[index].pd_dataframe().max())\n",
    "    forecast_df = inverse_pred_cases.pd_dataframe().reset_index()\n",
    "    forecast_df[\"Country\"] = i \n",
    "    forecast_data.append(forecast_df)"
   ]
  },
  {
   "cell_type": "markdown",
   "id": "d5a2de6c",
   "metadata": {},
   "source": [
    "###### Step9: Plotting the errors of country as bar plots"
   ]
  },
  {
   "cell_type": "code",
   "execution_count": 16,
   "id": "0a382da3",
   "metadata": {},
   "outputs": [
    {
     "data": {
      "image/png": "[encoded data removed]",
      "text/plain": [
       "<Figure size 432x288 with 1 Axes>"
      ]
     },
     "metadata": {
      "needs_background": "light"
     },
     "output_type": "display_data"
    }
   ],
   "source": [
    "first=len([i for i in mape_nos if i<10])\n",
    "second=len([i for i in mape_nos if i>10 and i<30])\n",
    "third = len([i for i in mape_nos if i>30 and i<50])\n",
    "fourth = len([i for i in mape_nos if i>50])\n",
    "\n",
    "weights = [1,2,3,4]\n",
    "bars_list = [first,second,third,fourth]\n",
    "\n",
    "import matplotlib.pyplot as plt\n",
    "x = [1, 2, 3, 4]\n",
    "ax1 = plt.subplot(1,1,1)\n",
    "ax1.set_xticks(x)\n",
    "ax1.set_yticks(bars_list)\n",
    "plt.bar(x,bars_list)\n",
    "ax1.set_xticklabels([\"<10\",\"10-20\",\"20-30\",\">30\"]) \n",
    "ax1.set_yticklabels(bars_list)\n",
    "plt.ylabel(\"No.of MAPE in the range\")\n",
    "plt.xlabel(\"MAPE ranges\")\n",
    "plt.show()"
   ]
  },
  {
   "cell_type": "code",
   "execution_count": 17,
   "id": "5c21bad2",
   "metadata": {},
   "outputs": [],
   "source": [
    "pd.concat(forecast_data).to_csv(\"cases_forecast.csv\")"
   ]
  },
  {
   "cell_type": "markdown",
   "id": "f45ab679",
   "metadata": {},
   "source": [
    "###### Step10: Finding Incidence Rate (no. of. cases in the country/(population of the country * time frame of consideration))"
   ]
  },
  {
   "cell_type": "code",
   "execution_count": 18,
   "id": "ca303856",
   "metadata": {},
   "outputs": [],
   "source": [
    "class_data = pd.concat(forecast_data)"
   ]
  },
  {
   "cell_type": "code",
   "execution_count": 19,
   "id": "be450c42",
   "metadata": {},
   "outputs": [],
   "source": [
    "pop_density = []\n",
    "for row in class_data.iterrows():\n",
    "    pop_density.append(list(data[data[\"Countries\"]==row[1][\"Country\"]][\"Population\"])[0])\n",
    "\n",
    "class_data[\"Population\"] = pop_density\n"
   ]
  },
  {
   "cell_type": "code",
   "execution_count": 20,
   "id": "5c3d6fba",
   "metadata": {},
   "outputs": [],
   "source": [
    "class_data[\"cases\"]=class_data[\"cases\"].abs()"
   ]
  },
  {
   "cell_type": "code",
   "execution_count": 21,
   "id": "67feb97a",
   "metadata": {},
   "outputs": [],
   "source": [
    "class_data[\"Incidence\"] = class_data[\"cases\"]*1000000/class_data[\"Population\"]"
   ]
  },
  {
   "cell_type": "markdown",
   "id": "dcd524f2",
   "metadata": {},
   "source": [
    "###### Step11: One hot encoding for Country names"
   ]
  },
  {
   "cell_type": "code",
   "execution_count": 22,
   "id": "e86ca090",
   "metadata": {},
   "outputs": [],
   "source": [
    "one_hot = pd.get_dummies(class_data[\"Country\"])\n",
    "data_sa = class_data.drop(\"Country\", axis=1)\n",
    "data_sa =  pd.concat([data_sa, one_hot], axis = 1)"
   ]
  },
  {
   "cell_type": "markdown",
   "id": "125825c8",
   "metadata": {},
   "source": [
    "###### Step12: Normalization of data"
   ]
  },
  {
   "cell_type": "code",
   "execution_count": 23,
   "id": "3080a610",
   "metadata": {},
   "outputs": [],
   "source": [
    "from sklearn import preprocessing\n",
    "\n",
    "x = np.array(data_sa[\"Incidence\"]).reshape(-1,1) #returns a numpy array\n",
    "min_max_scaler = preprocessing.StandardScaler()\n",
    "x_scaled = min_max_scaler.fit_transform(x)\n",
    "x_scaled = [i[0] for i in x_scaled]\n",
    "data_sa[\"Incidence\"] = x_scaled"
   ]
  },
  {
   "cell_type": "code",
   "execution_count": 24,
   "id": "905cfd34",
   "metadata": {},
   "outputs": [],
   "source": [
    "# deleting unused columns\n",
    "del data_sa[\"index\"]\n",
    "del data_sa[\"Population\"]\n",
    "del data_sa[\"cases\"]"
   ]
  },
  {
   "cell_type": "markdown",
   "id": "d7fc598e",
   "metadata": {},
   "source": [
    "###### Step13: Clustering using K means clustering"
   ]
  },
  {
   "cell_type": "code",
   "execution_count": 25,
   "id": "5fa81ada",
   "metadata": {},
   "outputs": [
    {
     "name": "stderr",
     "output_type": "stream",
     "text": [
      "2022-08-26 21:15:21 be.kuleuven.dtai.distance WARNING: Warning: loading library to link with numpy returned an error\n",
      "2022-08-26 21:15:21 be.kuleuven.dtai.distance WARNING: numpy.ndarray size changed, may indicate binary incompatibility. Expected 96 from C header, got 88 from PyObject\n",
      " 40%|████████████████████████████████████████████████▍                                                                        | 4/10 [01:08<01:42, 17.05s/it]\n"
     ]
    }
   ],
   "source": [
    "from dtaidistance import dtw,clustering\n",
    "from dtaidistance.clustering import kmeans\n",
    "model = kmeans.KMeans(k=3)\n",
    "series_clu =  data_sa.to_numpy()\n",
    "cluster_idx, performed_it = model.fit(series_clu)"
   ]
  },
  {
   "cell_type": "code",
   "execution_count": 26,
   "id": "845b541b",
   "metadata": {},
   "outputs": [],
   "source": [
    "clusters = [0]*len(class_data)"
   ]
  },
  {
   "cell_type": "code",
   "execution_count": 27,
   "id": "ac52db3f",
   "metadata": {},
   "outputs": [],
   "source": [
    "for i in cluster_idx.keys():\n",
    "    for j in cluster_idx[i]:\n",
    "        clusters[j] = i"
   ]
  },
  {
   "cell_type": "code",
   "execution_count": 28,
   "id": "dea80b52",
   "metadata": {},
   "outputs": [
    {
     "data": {
      "text/plain": [
       "(None, array([<AxesSubplot:>, <AxesSubplot:>], dtype=object))"
      ]
     },
     "execution_count": 28,
     "metadata": {},
     "output_type": "execute_result"
    },
    {
     "data": {
      "image/png": "[encoded data removed]",
      "text/plain": [
       "<Figure size 720x720 with 2 Axes>"
      ]
     },
     "metadata": {
      "needs_background": "light"
     },
     "output_type": "display_data"
    }
   ],
   "source": [
    "# Plotting the clusters\n",
    "import matplotlib.pyplot as plt\n",
    "fig, ax = plt.subplots(nrows=1, ncols=2, figsize=(10, 10))\n",
    "show_ts_label = lambda idx: \"ts-\" + str(idx)\n",
    "model.plot(axes=ax, show_ts_label=show_ts_label,\n",
    "           show_tr_label=True, ts_label_margin=-10,\n",
    "           ts_left_margin=10, ts_sample_length=3)"
   ]
  },
  {
   "cell_type": "code",
   "execution_count": 29,
   "id": "4cafb445",
   "metadata": {},
   "outputs": [],
   "source": [
    "class_data[\"Clusters\"] = clusters"
   ]
  },
  {
   "cell_type": "code",
   "execution_count": 30,
   "id": "d9804899",
   "metadata": {},
   "outputs": [],
   "source": [
    "class_data=class_data.groupby(\"Country\").agg({\"Clusters\":pd.Series.mode,\n",
    "                                   \"Incidence\":\"mean\",\"cases\":\"mean\",\"Population\":pd.Series.mode}).reset_index()"
   ]
  },
  {
   "cell_type": "code",
   "execution_count": 31,
   "id": "9286bde5",
   "metadata": {},
   "outputs": [
    {
     "name": "stdout",
     "output_type": "stream",
     "text": [
      "['Argentina', 'Austria', 'Bahrain', 'Croatia', 'Cyprus', 'Czech Republic (the)', 'Germany', 'Greece', 'Ireland', 'Italy', 'Sweden', 'United Kingdom of Great Britain and Northern Ireland (the)', 'United States of America (the)']\n",
      "['Australia', 'Belgium', 'Denmark', 'France', 'Netherlands (the)', 'Spain', 'Switzerland']\n",
      "['Algeria', 'Bangladesh', 'Brazil', 'Canada', 'Egypt', 'Hong Kong', 'India', 'Kazakhstan', 'Korea (the Republic of)', 'Lebanon', 'Malaysia', 'Malta', 'Morocco', 'Pakistan', 'Philippines (the)', 'Poland', 'Qatar', 'Romania', 'Russian Federation (the)', 'Saudi Arabia', 'Singapore', 'South Africa', 'Turkey', 'Ukraine', 'United Arab Emirates (the)']\n"
     ]
    }
   ],
   "source": [
    "for i in range(3):\n",
    "    print(list(class_data[class_data[\"Clusters\"]==i][\"Country\"]))"
   ]
  },
  {
   "cell_type": "markdown",
   "id": "3b30bb5d",
   "metadata": {},
   "source": [
    "###### Step14: Export the results into excel file for visualization"
   ]
  },
  {
   "cell_type": "code",
   "execution_count": 32,
   "id": "f383d618",
   "metadata": {},
   "outputs": [],
   "source": [
    "class_data.to_csv(\"clusters.csv\",index=False)"
   ]
  }
 ],
 "metadata": {
  "kernelspec": {
   "display_name": "Python 3 (ipykernel)",
   "language": "python",
   "name": "python3"
  },
  "language_info": {
   "codemirror_mode": {
    "name": "ipython",
    "version": 3
   },
   "file_extension": ".py",
   "mimetype": "text/x-python",
   "name": "python",
   "nbconvert_exporter": "python",
   "pygments_lexer": "ipython3",
   "version": "3.9.7"
  }
 },
 "nbformat": 4,
 "nbformat_minor": 5
}
